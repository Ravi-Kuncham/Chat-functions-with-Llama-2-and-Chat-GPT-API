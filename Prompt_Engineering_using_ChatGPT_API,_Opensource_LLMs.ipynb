{
  "cells": [
    {
      "cell_type": "code",
      "execution_count": 1,
      "metadata": {},
      "outputs": [],
      "source": [
        "# !pip install openai\n",
        "# !pip install python-dotenv"
      ]
    },
    {
      "cell_type": "code",
      "execution_count": 2,
      "metadata": {
        "id": "iZmGjREuJRU5"
      },
      "outputs": [],
      "source": [
        "# Importing the necessary libraries:\n",
        "import openai\n",
        "import os\n",
        "from dotenv import load_dotenv"
      ]
    },
    {
      "cell_type": "code",
      "execution_count": 3,
      "metadata": {
        "id": "k6Tln9PZJRU7"
      },
      "outputs": [],
      "source": [
        "# ------NOTE: Use this piece of code when you are running the code on you local machine ##-------\n",
        "# Loading the API key into the environment:\n",
        "load_dotenv('D:/Learning/Gen AI/Building LLM Applications using Prompt Engineering/API Keys/.env')\n",
        "\n",
        "# Assigning the API key to a variable:\n",
        "OPENAI_API_KEY = os.environ[\"OPENAI_API_KEY\"]\n",
        "\n",
        "# Assigning client:\n",
        "client = openai.OpenAI()\n",
        "\n",
        "# ## ------NOTE: Use this piece of code when you are running the code on Google colab (Assign the API key in the secrets tab on the left)##-------\n",
        "# from google.colab import userdata\n",
        "# # Assigning the API key to a variable:\n",
        "# OPENAI_API_KEY = userdata.get('OPENAI_API_KEY')\n",
        "# openai.api_key = OPENAI_API_KEY\n",
        "# client = openai"
      ]
    },
    {
      "cell_type": "markdown",
      "metadata": {
        "id": "Xm5JQ8YP-l3E"
      },
      "source": [
        "# Prompt Engineering with ChatGPT API"
      ]
    },
    {
      "cell_type": "markdown",
      "metadata": {
        "id": "4tgdEKDfipKj"
      },
      "source": [
        "Here are the few popular models available from https://platform.openai.com/docs/models/overview\n",
        "\n",
        "*   gpt-3.5-turbo\n",
        "*   gpt-4-0125-preview\n"
      ]
    },
    {
      "cell_type": "code",
      "execution_count": 4,
      "metadata": {
        "id": "K-loF_6vig4U"
      },
      "outputs": [],
      "source": [
        "# OpenAI function parameters:\n",
        "model ='gpt-3.5-turbo'"
      ]
    },
    {
      "cell_type": "markdown",
      "metadata": {
        "id": "i3m97eFris08"
      },
      "source": [
        "Each message in the list has two properties: role and content.\n",
        "\n",
        "* The 'role' can take one of three values: 'system', 'user' or the 'assistant'\n",
        "\n",
        "* The 'content' contains the text of the message from the role."
      ]
    },
    {
      "cell_type": "markdown",
      "metadata": {
        "id": "19oSHdaglzQG"
      },
      "source": [
        "### Different types of Roles:\n",
        "\n",
        "* **User role:** defines the input task/query provided by the user\n",
        "* **system role:** guides the system's behaviour on how to respond throughout the conversation for example: Answer the questions like shakespeare\n",
        "* **assistant role:** This indicates the content is generated as output by the LLM itself"
      ]
    },
    {
      "cell_type": "code",
      "execution_count": 5,
      "metadata": {
        "colab": {
          "base_uri": "https://localhost:8080/"
        },
        "id": "QQOaY1nJJRU9",
        "outputId": "48ebd28f-7cad-4e48-bb69-376f9e7f8316"
      },
      "outputs": [
        {
          "name": "stdout",
          "output_type": "stream",
          "text": [
            "ChatCompletion(id='chatcmpl-9OQPr43QejnFhMWvR2OlsWhVNeiXf', choices=[Choice(finish_reason='stop', index=0, logprobs=None, message=ChatCompletionMessage(content=\"Why don't scientists trust atoms?\\n\\nBecause they make up everything!\", role='assistant', function_call=None, tool_calls=None))], created=1715608443, model='gpt-3.5-turbo-0125', object='chat.completion', system_fingerprint=None, usage=CompletionUsage(completion_tokens=13, prompt_tokens=11, total_tokens=24))\n",
            "Why don't scientists trust atoms?\n",
            "\n",
            "Because they make up everything!\n"
          ]
        }
      ],
      "source": [
        "# OpenAI function parameters:\n",
        "messages= [{'role':'user', 'content':'tell me a joke'}]\n",
        "\n",
        "# Generating response:\n",
        "response = client.chat.completions.create(model='gpt-3.5-turbo', messages=messages)\n",
        "\n",
        "# Displaying the result:\n",
        "print(response)\n",
        "print(response.choices[0].message.content)"
      ]
    },
    {
      "cell_type": "code",
      "execution_count": null,
      "metadata": {
        "colab": {
          "base_uri": "https://localhost:8080/"
        },
        "id": "m_GS7x2RrIsT",
        "outputId": "6a70007c-0e3f-43e4-e5ad-2af3d0dc0af5"
      },
      "outputs": [
        {
          "name": "stdout",
          "output_type": "stream",
          "text": [
            "Why did the Shakespearean actor bring a ladder to the performance? For he did hear it was a play with many \"high\" points! Ha ha!\n"
          ]
        }
      ],
      "source": [
        "# OpenAI function parameters:\n",
        "messages= [{'role':'system', 'content':'You are an assistant that speaks like Shakespeare.'},\n",
        "{'role':'user', 'content':'tell me a joke'}]\n",
        "\n",
        "# Generating response:\n",
        "response = client.chat.completions.create(model='gpt-3.5-turbo', messages=messages)\n",
        "\n",
        "# Displaying the result:\n",
        "print(response.choices[0].message.content)"
      ]
    },
    {
      "cell_type": "markdown",
      "metadata": {
        "id": "k2ss9zvAJRU_"
      },
      "source": [
        "### Prompt Response function:"
      ]
    },
    {
      "cell_type": "code",
      "execution_count": 7,
      "metadata": {
        "id": "V9itT66BKcCE"
      },
      "outputs": [],
      "source": [
        "# Function accepts the prompt as an input and returns the response\n",
        "def get_response(prompt, temperature = 0, model=\"gpt-3.5-turbo\"):\n",
        "    messages = [{\"role\":\"user\",\"content\":prompt}]\n",
        "    response = client.chat.completions.create(\n",
        "        model=model,\n",
        "        messages=messages,\n",
        "        temperature=temperature\n",
        "     )\n",
        "    return response.choices[0].message.content"
      ]
    },
    {
      "cell_type": "code",
      "execution_count": null,
      "metadata": {
        "colab": {
          "base_uri": "https://localhost:8080/"
        },
        "id": "XblfLD_KKcFN",
        "outputId": "d519573c-df20-4443-d812-3eb6a564c012"
      },
      "outputs": [
        {
          "name": "stdout",
          "output_type": "stream",
          "text": [
            "Decision trees are a popular and powerful tool in the field of machine learning and data analysis. They are a type of algorithm that is used to make decisions based on input data. Decision trees are particularly useful for classification and regression tasks, as they can help to identify patterns and relationships in the data that can be used to make predictions.\n",
            "\n",
            "One of the key advantages of decision trees is their simplicity and interpretability. Unlike some other machine learning algorithms, decision trees are easy to understand and visualize. This makes them a valuable tool for both experts and non-experts alike, as they can help to explain the reasoning behind a particular decision or prediction.\n",
            "\n",
            "Decision trees work by recursively splitting the data into smaller subsets based on certain criteria. At each step, the algorithm selects the feature that best separates the data into distinct classes or groups. This process continues until a stopping criterion is met, such as a maximum depth or a minimum number of samples in each leaf node.\n",
            "\n",
            "One of the main challenges with decision trees is overfitting, which occurs when the model is too complex and captures noise in the data rather than the underlying patterns. To address this issue, techniques such as pruning and setting constraints on the tree's complexity can be used.\n",
            "\n",
            "Decision trees can also be used in ensemble methods, such as random forests and gradient boosting, to improve their performance and robustness. These methods combine multiple decision trees to make more accurate predictions and reduce the risk of overfitting.\n",
            "\n",
            "In conclusion, decision trees are a versatile and powerful tool in the field of machine learning. They are easy to understand and interpret, making them a valuable asset for both experts and non-experts. By using decision trees effectively, analysts and data scientists can uncover valuable insights and make informed decisions based on their data.\n"
          ]
        }
      ],
      "source": [
        "# Simple Prompt:\n",
        "prompt = \"Write a blog post on decision tree\"\n",
        "print(get_response(prompt))"
      ]
    },
    {
      "cell_type": "code",
      "execution_count": null,
      "metadata": {
        "colab": {
          "base_uri": "https://localhost:8080/"
        },
        "id": "TaFo174UBQoz",
        "outputId": "f1421a1e-483c-4087-db60-0e1391d5ba29"
      },
      "outputs": [
        {
          "name": "stdout",
          "output_type": "stream",
          "text": [
            "Introduction:\n",
            "Decision trees are a fundamental concept in the field of data science and machine learning. They are a popular tool for making decisions based on input data and have applications in various industries such as finance, healthcare, and marketing. If you are just starting your career in data science, understanding decision trees is essential for building predictive models and making informed decisions.\n",
            "\n",
            "Learning Objectives:\n",
            "- Understand the basics of decision trees and how they work\n",
            "- Learn how to build and interpret decision tree models\n",
            "- Gain insights into the applications of decision trees in real-world scenarios\n",
            "\n",
            "Table of Contents:\n",
            "1. Introduction to Decision Trees\n",
            "2. Working of Decision Tree Algorithm\n",
            "3. Building Decision Tree Models\n",
            "4. Interpreting Decision Trees\n",
            "5. Applications of Decision Trees\n",
            "6. Conclusion\n",
            "\n",
            "Working of Decision Tree Algorithm:\n",
            "A decision tree is a flowchart-like structure where each internal node represents a decision based on an input feature, and each leaf node represents the outcome or decision. The algorithm works by recursively splitting the data into subsets based on the input features, with the goal of maximizing the information gain at each split. This process continues until a stopping criterion is met, such as reaching a maximum depth or minimum number of samples in a node.\n",
            "\n",
            "Decision trees are versatile and can handle both classification and regression tasks. In classification, the tree predicts the class label of a new instance, while in regression, it predicts a continuous value. The algorithm is intuitive and easy to interpret, making it a popular choice for beginners in data science.\n",
            "\n",
            "Conclusion:\n",
            "In conclusion, decision trees are a powerful tool for making decisions based on data and are essential for anyone starting their career in data science. By understanding the working of the decision tree algorithm, building and interpreting decision tree models, and exploring their applications in real-world scenarios, you can enhance your skills and make informed decisions in your data science projects. Keep practicing and experimenting with decision trees to master this fundamental concept in machine learning.\n"
          ]
        }
      ],
      "source": [
        "# Complex Prompt:\n",
        "prompt = '''Write a SEO blog post on decision tree for beginner level audience starting their career in data science.\n",
        "The blog must include the introduction,\n",
        "learning objectives,\n",
        "table of contents,\n",
        "working of decision tree algorithm\n",
        "and conclusion.\n",
        "Limit the no. of words to 500.'''\n",
        "\n",
        "print(get_response(prompt))"
      ]
    },
    {
      "cell_type": "markdown",
      "metadata": {
        "id": "WVufMOWxVkqN"
      },
      "source": [
        "## Enabling Conversation with ChatGPT API"
      ]
    },
    {
      "cell_type": "markdown",
      "metadata": {
        "id": "_c_uUUJEy5gR"
      },
      "source": [
        "### Chat Function:"
      ]
    },
    {
      "cell_type": "code",
      "execution_count": 8,
      "metadata": {
        "id": "0JBSPn0KJRVC"
      },
      "outputs": [],
      "source": [
        "history = []\n",
        "\n",
        "def chat_function(prompt, model='gpt-3.5-turbo', is_clear=False):\n",
        "\n",
        "    global history\n",
        "    if is_clear:\n",
        "        history = []\n",
        "\n",
        "    input_message = {'role':'user', 'content':prompt}\n",
        "    history.append(input_message)\n",
        "\n",
        "    response = client.chat.completions.create(\n",
        "        model = model,\n",
        "        messages = history\n",
        "    )\n",
        "    response = response.choices[0].message.content\n",
        "\n",
        "    output_message = {'role':'assistant', 'content':response}\n",
        "    history.append(output_message)\n",
        "\n",
        "    return response"
      ]
    },
    {
      "cell_type": "markdown",
      "metadata": {
        "id": "XlkYKzniJRVC"
      },
      "source": [
        "#### PS5 Game related queries:"
      ]
    },
    {
      "cell_type": "code",
      "execution_count": null,
      "metadata": {
        "colab": {
          "base_uri": "https://localhost:8080/"
        },
        "id": "cwZtwvLCJRVC",
        "outputId": "ff68cb90-9a32-475e-dbf3-9775605740a6"
      },
      "outputs": [
        {
          "name": "stdout",
          "output_type": "stream",
          "text": [
            "1. God of War: Ragnarok  \n",
            "2. Horizon Forbidden West  \n",
            "3. Spider-Man: Miles Morales  \n",
            "4. Gran Turismo 7  \n",
            "5. Ratchet & Clank: Rift Apart\n",
            "{'role': 'user', 'content': 'Tell me list of 5 of the best action games that I can play on playstation 5. Give me just the names of those games and nothing else'}\n",
            "{'role': 'assistant', 'content': '1. God of War: Ragnarok  \\n2. Horizon Forbidden West  \\n3. Spider-Man: Miles Morales  \\n4. Gran Turismo 7  \\n5. Ratchet & Clank: Rift Apart'}\n"
          ]
        }
      ],
      "source": [
        "user_prompt = \"Tell me list of 5 of the best action games that I can play on playstation 5. Give me just the names of those games and nothing else\"\n",
        "print(chat_function(user_prompt, is_clear=True))\n",
        "\n",
        "for msg in history:\n",
        "    print(msg)"
      ]
    },
    {
      "cell_type": "code",
      "execution_count": null,
      "metadata": {
        "colab": {
          "base_uri": "https://localhost:8080/"
        },
        "id": "TaEj4VHDJRVD",
        "outputId": "5e3cc14c-a841-4377-e405-e647ed9538a7"
      },
      "outputs": [
        {
          "name": "stdout",
          "output_type": "stream",
          "text": [
            "1. God of War: Ragnarok - An action-adventure game where players control Kratos, a former Greek god who must now face the gods of Norse mythology in an epic battle.\n",
            "\n",
            "2. Horizon Forbidden West - A sequel to Horizon Zero Dawn, this action RPG follows Aloy, a skilled hunter in a post-apocalyptic world filled with robotic creatures.\n",
            "\n",
            "3. Spider-Man: Miles Morales - Players step into the shoes of Miles Morales, a new Spider-Man with unique powers, as he protects New York City from rising threats.\n",
            "\n",
            "4. Gran Turismo 7 - A realistic racing simulator that offers a wide range of cars and tracks for players to race on, featuring stunning graphics and immersive gameplay.\n",
            "\n",
            "5. Ratchet & Clank: Rift Apart - A platformer/shooter game that follows the intergalactic adventures of Ratchet and Clank as they travel through different dimensions to save the multiverse.\n",
            "{'role': 'user', 'content': 'Tell me list of 5 of the best action games that I can play on playstation 5. Give me just the names of those games and nothing else'}\n",
            "{'role': 'assistant', 'content': '1. God of War: Ragnarok  \\n2. Horizon Forbidden West  \\n3. Spider-Man: Miles Morales  \\n4. Gran Turismo 7  \\n5. Ratchet & Clank: Rift Apart'}\n",
            "{'role': 'user', 'content': 'Give a brief description about each of those games'}\n",
            "{'role': 'assistant', 'content': '1. God of War: Ragnarok - An action-adventure game where players control Kratos, a former Greek god who must now face the gods of Norse mythology in an epic battle.\\n\\n2. Horizon Forbidden West - A sequel to Horizon Zero Dawn, this action RPG follows Aloy, a skilled hunter in a post-apocalyptic world filled with robotic creatures.\\n\\n3. Spider-Man: Miles Morales - Players step into the shoes of Miles Morales, a new Spider-Man with unique powers, as he protects New York City from rising threats.\\n\\n4. Gran Turismo 7 - A realistic racing simulator that offers a wide range of cars and tracks for players to race on, featuring stunning graphics and immersive gameplay.\\n\\n5. Ratchet & Clank: Rift Apart - A platformer/shooter game that follows the intergalactic adventures of Ratchet and Clank as they travel through different dimensions to save the multiverse.'}\n"
          ]
        }
      ],
      "source": [
        "user_prompt = \"Give a brief description about each of those games\"\n",
        "print(chat_function(user_prompt))\n",
        "\n",
        "for msg in history:\n",
        "    print(msg)"
      ]
    },
    {
      "cell_type": "code",
      "execution_count": null,
      "metadata": {
        "colab": {
          "base_uri": "https://localhost:8080/"
        },
        "id": "wpc243kDJRVD",
        "outputId": "0cb2749e-41b5-4e4a-8d80-29fedc6aad26"
      },
      "outputs": [
        {
          "name": "stdout",
          "output_type": "stream",
          "text": [
            "\"God of War: Ragnarok\" is the highly anticipated sequel to the 2018 game \"God of War\" for the PlayStation 4. Developed by Santa Monica Studio, the game follows the journey of Kratos, a former Greek god, and his son, Atreus, in the realm of Norse mythology. \n",
            "\n",
            "In the upcoming game, players can expect an expansive world to explore, epic battles against powerful beings from Norse mythology, and a compelling narrative that delves deeper into the relationship between Kratos and Atreus. The game is expected to further develop Kratos' character and explore themes of family, power, and mythology. \n",
            "\n",
            "\"God of War: Ragnarok\" is slated for release on the PlayStation 5 and is expected to push the boundaries of storytelling and gameplay in the action-adventure genre.\n",
            "{'role': 'user', 'content': 'Tell me list of 5 of the best action games that I can play on playstation 5. Give me just the names of those games and nothing else'}\n",
            "{'role': 'assistant', 'content': '1. God of War: Ragnarok  \\n2. Horizon Forbidden West  \\n3. Spider-Man: Miles Morales  \\n4. Gran Turismo 7  \\n5. Ratchet & Clank: Rift Apart'}\n",
            "{'role': 'user', 'content': 'Give a brief description about each of those games'}\n",
            "{'role': 'assistant', 'content': '1. God of War: Ragnarok - An action-adventure game where players control Kratos, a former Greek god who must now face the gods of Norse mythology in an epic battle.\\n\\n2. Horizon Forbidden West - A sequel to Horizon Zero Dawn, this action RPG follows Aloy, a skilled hunter in a post-apocalyptic world filled with robotic creatures.\\n\\n3. Spider-Man: Miles Morales - Players step into the shoes of Miles Morales, a new Spider-Man with unique powers, as he protects New York City from rising threats.\\n\\n4. Gran Turismo 7 - A realistic racing simulator that offers a wide range of cars and tracks for players to race on, featuring stunning graphics and immersive gameplay.\\n\\n5. Ratchet & Clank: Rift Apart - A platformer/shooter game that follows the intergalactic adventures of Ratchet and Clank as they travel through different dimensions to save the multiverse.'}\n",
            "{'role': 'user', 'content': 'Tell me more about the first game'}\n",
            "{'role': 'assistant', 'content': '\"God of War: Ragnarok\" is the highly anticipated sequel to the 2018 game \"God of War\" for the PlayStation 4. Developed by Santa Monica Studio, the game follows the journey of Kratos, a former Greek god, and his son, Atreus, in the realm of Norse mythology. \\n\\nIn the upcoming game, players can expect an expansive world to explore, epic battles against powerful beings from Norse mythology, and a compelling narrative that delves deeper into the relationship between Kratos and Atreus. The game is expected to further develop Kratos\\' character and explore themes of family, power, and mythology. \\n\\n\"God of War: Ragnarok\" is slated for release on the PlayStation 5 and is expected to push the boundaries of storytelling and gameplay in the action-adventure genre.'}\n"
          ]
        }
      ],
      "source": [
        "user_prompt = \"Tell me more about the first game\"\n",
        "print(chat_function(user_prompt))\n",
        "\n",
        "for msg in history:\n",
        "    print(msg)"
      ]
    },
    {
      "cell_type": "markdown",
      "metadata": {
        "id": "F80WZgMpJRVE"
      },
      "source": [
        "#### Analytics vidhya related queries:"
      ]
    },
    {
      "cell_type": "code",
      "execution_count": null,
      "metadata": {
        "colab": {
          "base_uri": "https://localhost:8080/"
        },
        "id": "vtV70acmzIRd",
        "outputId": "f8f1d45a-3c63-4715-f814-a6004bfe8a8a"
      },
      "outputs": [
        {
          "name": "stdout",
          "output_type": "stream",
          "text": [
            "Welcome to the Analytics Vidhya community! We are thrilled to have you join our network of data enthusiasts, analytics professionals, and machine learning experts. Here you will find a wealth of resources, including articles, tutorials, forums, and online courses to help you enhance your skills and stay up-to-date with the latest trends in the world of data science. Whether you are a beginner just starting out or a seasoned pro looking to expand your knowledge, you will find a supportive and engaging community here at Analytics Vidhya. So dive in, explore, and connect with like-minded individuals who share your passion for data and analytics. Welcome aboard!\n",
            "{'role': 'user', 'content': 'Write a welcome message for Analytics Vidhya community members'}\n",
            "{'role': 'assistant', 'content': 'Welcome to the Analytics Vidhya community! We are thrilled to have you join our network of data enthusiasts, analytics professionals, and machine learning experts. Here you will find a wealth of resources, including articles, tutorials, forums, and online courses to help you enhance your skills and stay up-to-date with the latest trends in the world of data science. Whether you are a beginner just starting out or a seasoned pro looking to expand your knowledge, you will find a supportive and engaging community here at Analytics Vidhya. So dive in, explore, and connect with like-minded individuals who share your passion for data and analytics. Welcome aboard!'}\n"
          ]
        }
      ],
      "source": [
        "user_prompt = \"Write a welcome message for Analytics Vidhya community members\"\n",
        "print(chat_function(user_prompt, is_clear=True))\n",
        "\n",
        "for msg in history:\n",
        "    print(msg)"
      ]
    },
    {
      "cell_type": "code",
      "execution_count": null,
      "metadata": {
        "colab": {
          "base_uri": "https://localhost:8080/"
        },
        "id": "872owa5-MClv",
        "outputId": "73efdac1-1698-4d25-aa89-6be40f03953a"
      },
      "outputs": [
        {
          "name": "stdout",
          "output_type": "stream",
          "text": [
            "Welcome to the Analytics Vidhya community! We are excited to have you here. As you embark on your journey with us, here are some specific next steps you can take to start interacting with our community:\n",
            "\n",
            "1. Browse our forums: Our forums are a great place to ask questions, share insights, and engage with other community members. Head over to the forums and start participating in discussions related to data science, machine learning, and more.\n",
            "\n",
            "2. Check out our articles and tutorials: Dive into our collection of articles and tutorials covering a wide range of topics in data science and analytics. Explore new concepts, learn new techniques, and stay updated on industry trends.\n",
            "\n",
            "3. Join a live webinar or workshop: Participate in live webinars and workshops conducted by industry experts to deepen your understanding of specific topics and gain valuable insights.\n",
            "\n",
            "4. Enroll in an online course: Take your learning to the next level by enrolling in one of our online courses. Whether you're a beginner or an advanced practitioner, we have courses suited for all skill levels.\n",
            "\n",
            "5. Connect with fellow community members: Network with other data enthusiasts, share your experiences, and collaborate on projects by connecting with fellow community members through our platform.\n",
            "\n",
            "We hope these next steps help you get started on your journey with us. Welcome to the Analytics Vidhya community, and we look forward to seeing you thrive here!\n",
            "{'role': 'user', 'content': 'Write a welcome message for Analytics Vidhya community members'}\n",
            "{'role': 'assistant', 'content': 'Welcome to the Analytics Vidhya community! We are thrilled to have you join our network of data enthusiasts, analytics professionals, and machine learning experts. Here you will find a wealth of resources, including articles, tutorials, forums, and online courses to help you enhance your skills and stay up-to-date with the latest trends in the world of data science. Whether you are a beginner just starting out or a seasoned pro looking to expand your knowledge, you will find a supportive and engaging community here at Analytics Vidhya. So dive in, explore, and connect with like-minded individuals who share your passion for data and analytics. Welcome aboard!'}\n",
            "{'role': 'user', 'content': 'Along with the welcome message, share some specific next steps the user can take to interact with the community.'}\n",
            "{'role': 'assistant', 'content': \"Welcome to the Analytics Vidhya community! We are excited to have you here. As you embark on your journey with us, here are some specific next steps you can take to start interacting with our community:\\n\\n1. Browse our forums: Our forums are a great place to ask questions, share insights, and engage with other community members. Head over to the forums and start participating in discussions related to data science, machine learning, and more.\\n\\n2. Check out our articles and tutorials: Dive into our collection of articles and tutorials covering a wide range of topics in data science and analytics. Explore new concepts, learn new techniques, and stay updated on industry trends.\\n\\n3. Join a live webinar or workshop: Participate in live webinars and workshops conducted by industry experts to deepen your understanding of specific topics and gain valuable insights.\\n\\n4. Enroll in an online course: Take your learning to the next level by enrolling in one of our online courses. Whether you're a beginner or an advanced practitioner, we have courses suited for all skill levels.\\n\\n5. Connect with fellow community members: Network with other data enthusiasts, share your experiences, and collaborate on projects by connecting with fellow community members through our platform.\\n\\nWe hope these next steps help you get started on your journey with us. Welcome to the Analytics Vidhya community, and we look forward to seeing you thrive here!\"}\n"
          ]
        }
      ],
      "source": [
        "user_prompt = \"Along with the welcome message, share some specific next steps the user can take to interact with the community.\"\n",
        "print(chat_function(user_prompt))\n",
        "\n",
        "for msg in history:\n",
        "    print(msg)"
      ]
    },
    {
      "cell_type": "code",
      "execution_count": null,
      "metadata": {
        "colab": {
          "base_uri": "https://localhost:8080/"
        },
        "id": "wggY36KlOB71",
        "outputId": "6f59777f-bd8f-491b-e42e-eb04a5d7658d"
      },
      "outputs": [
        {
          "name": "stdout",
          "output_type": "stream",
          "text": [
            "Welcome to the Analytics Vidhya community! We are thrilled to have you join us. Let me share a story of a community member named Sarah, who found immense value in being a part of our community:\n",
            "\n",
            "Sarah, a budding data scientist, stumbled upon Analytics Vidhya while searching for resources to enhance her skills. She was initially hesitant to engage with the community, but after gathering the courage to participate in the forums, she found a welcoming and supportive environment. Encouraged by fellow members, she delved into our articles, tutorials, and online courses, steadily improving her knowledge and practical applications in data science.\n",
            "\n",
            "Through active engagement in the community, Sarah found mentors who guided her through complex concepts, collaborators who worked with her on projects, and friends who shared her passion for data analytics. This network not only accelerated her learning but also opened up career opportunities she never thought possible.\n",
            "\n",
            "Inspired by Sarah's journey, we invite you to take the following specific next steps to interact with our community:\n",
            "\n",
            "1. Browse our forums and engage in discussions.\n",
            "2. Explore articles and tutorials to deepen your understanding.\n",
            "3. Join live webinars or workshops to gain valuable insights.\n",
            "4. Enroll in online courses tailored to your skill level.\n",
            "5. Connect with fellow community members to network and collaborate.\n",
            "\n",
            "We look forward to witnessing your growth and success in the Analytics Vidhya community. Welcome aboard!\n"
          ]
        }
      ],
      "source": [
        "user_prompt = \"Add a story to this message showing the impact of community and learning in the life of a community member. End the message with the specific actions outlined in the previous message\"\n",
        "print(chat_function(user_prompt))"
      ]
    },
    {
      "cell_type": "code",
      "execution_count": null,
      "metadata": {
        "colab": {
          "base_uri": "https://localhost:8080/"
        },
        "id": "5Ou66GB--98g",
        "outputId": "3b02e0c7-9ef3-476e-a01f-9d8b379c45da"
      },
      "outputs": [
        {
          "name": "stdout",
          "output_type": "stream",
          "text": [
            "{'role': 'user', 'content': 'Write a welcome message for Analytics Vidhya community members'}\n",
            "{'role': 'assistant', 'content': 'Welcome to the Analytics Vidhya community! We are thrilled to have you join our network of data enthusiasts, analytics professionals, and machine learning experts. Here you will find a wealth of resources, including articles, tutorials, forums, and online courses to help you enhance your skills and stay up-to-date with the latest trends in the world of data science. Whether you are a beginner just starting out or a seasoned pro looking to expand your knowledge, you will find a supportive and engaging community here at Analytics Vidhya. So dive in, explore, and connect with like-minded individuals who share your passion for data and analytics. Welcome aboard!'}\n",
            "{'role': 'user', 'content': 'Along with the welcome message, share some specific next steps the user can take to interact with the community.'}\n",
            "{'role': 'assistant', 'content': \"Welcome to the Analytics Vidhya community! We are excited to have you here. As you embark on your journey with us, here are some specific next steps you can take to start interacting with our community:\\n\\n1. Browse our forums: Our forums are a great place to ask questions, share insights, and engage with other community members. Head over to the forums and start participating in discussions related to data science, machine learning, and more.\\n\\n2. Check out our articles and tutorials: Dive into our collection of articles and tutorials covering a wide range of topics in data science and analytics. Explore new concepts, learn new techniques, and stay updated on industry trends.\\n\\n3. Join a live webinar or workshop: Participate in live webinars and workshops conducted by industry experts to deepen your understanding of specific topics and gain valuable insights.\\n\\n4. Enroll in an online course: Take your learning to the next level by enrolling in one of our online courses. Whether you're a beginner or an advanced practitioner, we have courses suited for all skill levels.\\n\\n5. Connect with fellow community members: Network with other data enthusiasts, share your experiences, and collaborate on projects by connecting with fellow community members through our platform.\\n\\nWe hope these next steps help you get started on your journey with us. Welcome to the Analytics Vidhya community, and we look forward to seeing you thrive here!\"}\n",
            "{'role': 'user', 'content': 'Add a story to this message showing the impact of community and learning in the life of a community member. End the message with the specific actions outlined in the previous message'}\n",
            "{'role': 'assistant', 'content': \"Welcome to the Analytics Vidhya community! We are thrilled to have you join us. Let me share a story of a community member named Sarah, who found immense value in being a part of our community:\\n\\nSarah, a budding data scientist, stumbled upon Analytics Vidhya while searching for resources to enhance her skills. She was initially hesitant to engage with the community, but after gathering the courage to participate in the forums, she found a welcoming and supportive environment. Encouraged by fellow members, she delved into our articles, tutorials, and online courses, steadily improving her knowledge and practical applications in data science.\\n\\nThrough active engagement in the community, Sarah found mentors who guided her through complex concepts, collaborators who worked with her on projects, and friends who shared her passion for data analytics. This network not only accelerated her learning but also opened up career opportunities she never thought possible.\\n\\nInspired by Sarah's journey, we invite you to take the following specific next steps to interact with our community:\\n\\n1. Browse our forums and engage in discussions.\\n2. Explore articles and tutorials to deepen your understanding.\\n3. Join live webinars or workshops to gain valuable insights.\\n4. Enroll in online courses tailored to your skill level.\\n5. Connect with fellow community members to network and collaborate.\\n\\nWe look forward to witnessing your growth and success in the Analytics Vidhya community. Welcome aboard!\"}\n"
          ]
        }
      ],
      "source": [
        "for message in history:\n",
        "  print(message)"
      ]
    },
    {
      "cell_type": "markdown",
      "metadata": {
        "id": "eFI5ZJFbJRVF"
      },
      "source": [
        "### Guidelines and Best practices for prompt engineering:\n",
        " * Write clear and specific instructions\n",
        " * Using specific examples\n",
        " * Varying and iterating the prompts\n",
        " * Using Delimiters\n",
        " * Specifying structured output formats\n",
        " * Using Temperature parameter when required"
      ]
    },
    {
      "cell_type": "markdown",
      "metadata": {
        "id": "yvFTYOcdJRVF"
      },
      "source": [
        "### **Case study:** Customer support ticket - categorisation and resolution of tickets raised"
      ]
    },
    {
      "cell_type": "code",
      "execution_count": 17,
      "metadata": {
        "id": "Yf45Lnh1JRVG"
      },
      "outputs": [],
      "source": [
        "customer_support_ticket_1 = '''\n",
        "Dear Support Team,\n",
        "\n",
        "I hope this message finds you well.\n",
        "I'm experiencing difficulties accessing my account on your platform.\n",
        "When I attempt to log in, I receive an error message stating, \"Invalid Credentials.\"\n",
        "I've double-checked my username and password, and they are correct.\n",
        "\n",
        "Details:\n",
        "- Username: johndoe123\n",
        "- Browser: Google Chrome\n",
        "- Operating System: Windows 10\n",
        "\n",
        "I have tried clearing my browser cache and resetting my password, but the issue persists.\n",
        "This is affecting my ability to use your services, and I would appreciate a prompt resolution.\n",
        "\n",
        "Please let me know if you require any additional information to assist with troubleshooting.\n",
        "\n",
        "Thank you,\n",
        "John Doe\n",
        "'''"
      ]
    },
    {
      "cell_type": "code",
      "execution_count": 18,
      "metadata": {
        "id": "DjZtyXGvJRVG"
      },
      "outputs": [],
      "source": [
        "customer_support_ticket_2 = '''\n",
        "Dear Support Team,\n",
        "\n",
        "I hope this message finds you well. I am writing to report a technical issue I have encountered while using your platform. Specifically, I am unable to access Feature XYZ.\n",
        "\n",
        "Issue Details:\n",
        "\n",
        "Feature Affected: XYZ\n",
        "Description of the Issue: When I attempt to use Feature XYZ, [describe the specific problem or error message you are encountering]. The issue has been persistent for [mention the duration or frequency of the problem].\n",
        "Steps Taken to Resolve: I have tried [list any troubleshooting steps you've already taken, if applicable, such as clearing cache, restarting the device, etc.]. However, the problem persists.\n",
        "Additional Information:\n",
        "\n",
        "Browser/Device: I am using [mention the browser and device you are using].\n",
        "Screenshots: [Attach any relevant screenshots if possible, to provide visual context].\n",
        "This feature is crucial for my [mention the specific purpose or task], and I appreciate your prompt attention to this matter. Please let me know if there are any additional details needed from my end to assist in resolving this issue.\n",
        "\n",
        "Thank you for your assistance.\n",
        "\n",
        "Best regards,\n",
        "[Your Name]\n",
        "[Your Contact Information]\n",
        "'''"
      ]
    },
    {
      "cell_type": "markdown",
      "metadata": {
        "id": "25YIxgiOJRVG"
      },
      "source": [
        "#### Writing clear and specific instructions:"
      ]
    },
    {
      "cell_type": "code",
      "execution_count": null,
      "metadata": {
        "colab": {
          "base_uri": "https://localhost:8080/"
        },
        "id": "5kX3PZMHJRVG",
        "outputId": "fc39cd1e-5513-44d2-a130-528658b4095c"
      },
      "outputs": [
        {
          "name": "stdout",
          "output_type": "stream",
          "text": [
            "Category: Technical Issues\n"
          ]
        }
      ],
      "source": [
        "user_prompt =  f'''classify the customer support ticket into any one of the following categories\n",
        "such as Technical Issues, Billing Equiries and Product Feedback.\n",
        "Customer support ticket: {customer_support_ticket_2}\n",
        "'''\n",
        "print(get_response(user_prompt))"
      ]
    },
    {
      "cell_type": "code",
      "execution_count": null,
      "metadata": {
        "colab": {
          "base_uri": "https://localhost:8080/"
        },
        "id": "G5pZld1CJRVG",
        "outputId": "9c7b6e48-b309-43ef-8bdf-bf2c4098c02b"
      },
      "outputs": [
        {
          "name": "stdout",
          "output_type": "stream",
          "text": [
            "Dear John Doe,\n",
            "\n",
            "Thank you for reaching out to us regarding the issues you are experiencing with accessing your account on our platform. We understand how frustrating this situation can be and we are here to help you resolve it as quickly as possible.\n",
            "\n",
            "To troubleshoot the problem, we recommend the following steps:\n",
            "1. Please try accessing your account using a different browser or device to see if the issue persists.\n",
            "2. Double-check that your caps lock key is not accidentally turned on, as this can affect the accuracy of your password.\n",
            "3. If you continue to encounter the \"Invalid Credentials\" error message, please click on the \"Forgot Password\" link on the login page to reset your password.\n",
            "\n",
            "We want to assure you that the security of your data is our top priority. Our platform uses industry-standard encryption to protect your information and we have strict security measures in place to safeguard your account.\n",
            "\n",
            "We apologize for any inconvenience this may have caused and we are committed to resolving this issue for you promptly. Our support team will investigate the problem and provide you with an update within 24 hours.\n",
            "\n",
            "Thank you for your patience and understanding. If you have any further questions or concerns, please do not hesitate to contact us.\n",
            "\n",
            "Best regards,\n",
            "Customer Support Team\n"
          ]
        }
      ],
      "source": [
        "user_prompt = f'''Generate customer support response for a customer support ticket related to user experiencing\n",
        "issues with accessing their account. Include specific details such as\n",
        "steps to troubleshoot the problem,\n",
        "reassuarance about data security,\n",
        "and a prompt response timeline.\n",
        "Customer support ticket: {customer_support_ticket_1}\n",
        "'''\n",
        "print(get_response(user_prompt))"
      ]
    },
    {
      "cell_type": "markdown",
      "metadata": {
        "id": "P77FYtDJJRVH"
      },
      "source": [
        "#### Using specific examples for reference:"
      ]
    },
    {
      "cell_type": "code",
      "execution_count": null,
      "metadata": {
        "colab": {
          "base_uri": "https://localhost:8080/"
        },
        "id": "qBkRkiGsJRVH",
        "outputId": "61dcdcc5-ac5a-4715-9ed2-d6ad1d187719"
      },
      "outputs": [
        {
          "name": "stdout",
          "output_type": "stream",
          "text": [
            "Dear John Doe,\n",
            "\n",
            "Hello! Thank you for reaching out to us about the issue you're experiencing with accessing your account. We apologize for any inconvenience this has caused you and we appreciate your detailed description of the problem.\n",
            "\n",
            "We understand that you have already tried clearing your browser cache and resetting your password without success. We recommend trying the following steps to see if they help resolve the issue:\n",
            "\n",
            "1. Clear Browser Data: Clear not only the cache but also cookies and browsing history in your Google Chrome browser.\n",
            "2. Try a Different Browser: Attempt to log in using a different browser such as Mozilla Firefox or Microsoft Edge.\n",
            "3. Disable Browser Extensions: Temporarily disable any browser extensions that may be causing conflicts with the login process.\n",
            "\n",
            "If these steps do not resolve the issue, please provide us with the following information:\n",
            "- Are you receiving any error messages other than \"Invalid Credentials\"?\n",
            "- Have you attempted to log in from a different device or network?\n",
            "- Can you successfully log in using the same credentials on another platform?\n",
            "\n",
            "We are committed to assisting you in resolving this matter promptly. Your patience and cooperation are greatly appreciated as we work to find a solution. Please let us know how these troubleshooting steps go or if you have any further questions.\n",
            "\n",
            "Thank you for your understanding and cooperation.\n",
            "\n",
            "Best regards,\n",
            "\n",
            "[Your Name]\n",
            "Customer Support Team\n"
          ]
        }
      ],
      "source": [
        "example_for_reference = '''Dear Jerry,\n",
        "\n",
        "Hello! Thank you for getting in touch with us, and we're really sorry for the trouble you're having logging\n",
        "into your account. We totally understand how frustrating this can be, and we're here to make things right.\n",
        "\n",
        "We noticed you've already tried a few things to fix it, and we appreciate your efforts.\n",
        "Could you please give these steps a shot? It might help:\n",
        "\n",
        "Clear Browser Data: Try clearing not just the cache but also cookies and history.\n",
        "In Google Chrome, you can find this in \"Settings\" under \"Privacy and security.\"\n",
        "Click \"Clear browsing data\" and choose cookies and browsing history.\n",
        "Try a Different Browser: Sometimes, using another browser like Mozilla Firefox or Microsoft Edge can work better.\n",
        "Disable Browser Extensions: Some add-ons can cause issues. Temporarily turn off any extensions and see if that helps.\n",
        "If these steps don't do the trick, could you tell us:\n",
        "\n",
        "Are you seeing any error messages other than \"Invalid Credentials\"?\n",
        "Have you tried logging in from another device or network?\n",
        "Can you log in successfully with the same details on other platforms?\n",
        "We're eager to help and want to get this sorted for you. Sorry again for any hassle this has caused.\n",
        "Your patience means a lot to us.\n",
        "\n",
        "Let us know how it goes or if you have any questions.\n",
        "We're here for you and are committed to fixing this as fast as we can.\n",
        "\n",
        "Warm regards,\n",
        "\n",
        "[Your Name]\n",
        "Customer Support Team'''\n",
        "\n",
        "user_prompt = f'''Generate a customer support response for a customer support ticket where user reports\n",
        "a technical issue with the purchased product\n",
        "\n",
        "customer support ticket: {customer_support_ticket_1}\n",
        "\n",
        "Here is an example for your reference: {example_for_reference}\n",
        "\n",
        "'''\n",
        "\n",
        "print(get_response(user_prompt))\n"
      ]
    },
    {
      "cell_type": "markdown",
      "metadata": {
        "id": "EdAZaqMfYgWS"
      },
      "source": [
        "#### Varying the prompts and iterating"
      ]
    },
    {
      "cell_type": "code",
      "execution_count": null,
      "metadata": {
        "colab": {
          "base_uri": "https://localhost:8080/"
        },
        "id": "ykH7IA8lYr9J",
        "outputId": "6849cf86-19ae-403a-94ab-4b0fec359a9c"
      },
      "outputs": [
        {
          "name": "stdout",
          "output_type": "stream",
          "text": [
            "Dear John Doe,\n",
            "\n",
            "Thank you for reaching out to us regarding the technical issue you are experiencing with accessing your account on our platform. We apologize for any inconvenience this may have caused.\n",
            "\n",
            "We appreciate you providing us with your username, browser, and operating system details. We will investigate this issue further to determine the root cause and provide you with a solution as soon as possible.\n",
            "\n",
            "In the meantime, we recommend trying to access your account using a different browser or device to see if the issue persists. Additionally, please ensure that your internet connection is stable and that there are no firewall or security settings blocking access to our platform.\n",
            "\n",
            "If the issue continues, please let us know and we will continue to assist you in resolving this matter. Thank you for your patience and understanding.\n",
            "\n",
            "Best regards,\n",
            "[Your Name]\n",
            "Customer Support Team\n"
          ]
        }
      ],
      "source": [
        "user_prompt = f'''Compose a customer support response for a ticket where\n",
        "the customer reports a technical issue with a purchased product.\n",
        "\n",
        "Customer Support Ticket:{customer_support_ticket_1}'''\n",
        "\n",
        "print(get_response(user_prompt))"
      ]
    },
    {
      "cell_type": "code",
      "execution_count": null,
      "metadata": {
        "colab": {
          "base_uri": "https://localhost:8080/"
        },
        "id": "QAAXX1BRJRVH",
        "outputId": "c3318606-1340-4c90-f499-e5a6d26dacb0"
      },
      "outputs": [
        {
          "name": "stdout",
          "output_type": "stream",
          "text": [
            "Dear John Doe,\n",
            "\n",
            "Thank you for reaching out to us regarding the technical issue you are experiencing with accessing your account on our platform. We sincerely apologize for any inconvenience this has caused you.\n",
            "\n",
            "Based on the details you have provided, it seems that you have already taken some troubleshooting steps such as clearing your browser cache and resetting your password. We appreciate your efforts in trying to resolve the issue on your end.\n",
            "\n",
            "To further assist you, we recommend trying the following steps:\n",
            "1. Ensure that you are entering your username and password correctly, paying close attention to any capitalization or special characters.\n",
            "2. Try accessing your account using a different web browser or device to see if the issue persists.\n",
            "3. If possible, try accessing your account from a different network to rule out any connectivity issues.\n",
            "\n",
            "If the issue continues to persist after trying these steps, please provide us with the following additional information:\n",
            "- Any error messages or codes you may be receiving\n",
            "- Any recent changes or updates made to your account or device\n",
            "- Any other relevant details that may help us pinpoint the cause of the issue\n",
            "\n",
            "Our technical support team will investigate the matter further and work towards resolving the issue as quickly as possible. We appreciate your patience and understanding as we work to address this issue for you.\n",
            "\n",
            "If you have any further questions or concerns, please do not hesitate to reach out to us. Thank you for bringing this matter to our attention, and we look forward to assisting you further.\n",
            "\n",
            "Best regards,\n",
            "\n",
            "[Your Name]\n",
            "Customer Support Team\n"
          ]
        }
      ],
      "source": [
        "user_prompt = f'''Compose a customer support response for a ticket where\n",
        "the customer reports a technical issue with a purchased product with a more formal and professional tone.\n",
        "Maintain a focus on providing clear instructions while expressing empathy for the inconvenience caused.\n",
        "Use a structured approach and avoid informal language\n",
        "\n",
        "Customer Support Ticket:{customer_support_ticket_1}'''\n",
        "\n",
        "print(get_response(user_prompt))"
      ]
    },
    {
      "cell_type": "markdown",
      "metadata": {
        "id": "SABKamlhZC5Z"
      },
      "source": [
        "#### Use the Delimiters"
      ]
    },
    {
      "cell_type": "code",
      "execution_count": 14,
      "metadata": {
        "id": "hz5Fz-sYP97L"
      },
      "outputs": [],
      "source": [
        "customer_support_tickets=['''Dear Support Team,\n",
        "\n",
        "I hope this message finds you well.\n",
        "I'm experiencing difficulties accessing my account on your platform.\n",
        "When I attempt to log in, I receive an error message stating, \"Invalid Credentials.\"\n",
        "I've double-checked my username and password, and they are correct.\n",
        "\n",
        "Details:\n",
        "- Username: johndoe123\n",
        "- Browser: Google Chrome\n",
        "- Operating System: Windows 10\n",
        "\n",
        "I have tried clearing my browser cache and resetting my password, but the issue persists.\n",
        "This is affecting my ability to use your services, and I would appreciate a prompt resolution.\n",
        "\n",
        "Please let me know if you require any additional information to assist with troubleshooting.\n",
        "\n",
        "Thank you,\n",
        "John Doe'''\n",
        ",\n",
        "'''\n",
        "Dear Support Team,\n",
        "I'm conveyed about my bill and have raised this multile times for last 3 months.\n",
        "Please resolve it on priority'''\n",
        "]"
      ]
    },
    {
      "cell_type": "code",
      "execution_count": null,
      "metadata": {
        "id": "G1oNGa5gZLB4"
      },
      "outputs": [],
      "source": [
        "user_prompt = '''classify the customer support tickets into broad categories such as 'Technical Issues,' 'Billing Inquiries,' and 'Product Feedback.\n",
        "\n",
        "[Dear Support Team,\n",
        "\n",
        "I hope this message finds you well.\n",
        "I'm experiencing difficulties accessing my account on your platform.\n",
        "When I attempt to log in, I receive an error message stating, \"Invalid Credentials.\"\n",
        "I've double-checked my username and password, and they are correct.\n",
        "\n",
        "Details:\n",
        "- Username: johndoe123\n",
        "- Browser: Google Chrome\n",
        "- Operating System: Windows 10\n",
        "\n",
        "I have tried clearing my browser cache and resetting my password, but the issue persists.\n",
        "This is affecting my ability to use your services, and I would appreciate a prompt resolution.\n",
        "\n",
        "Please let me know if you require any additional information to assist with troubleshooting.\n",
        "\n",
        "Thank you,\n",
        "John Doe\n",
        ",\n",
        "\n",
        "Dear Support Team,\n",
        "I'm conveyed about my bill and have raised this multile times for last 3 months.\n",
        "Please resolve it on priority\n",
        "]'''"
      ]
    },
    {
      "cell_type": "code",
      "execution_count": null,
      "metadata": {
        "colab": {
          "base_uri": "https://localhost:8080/"
        },
        "id": "9YLGCpshZLD6",
        "outputId": "fe5c9eff-3350-4c13-b466-6114f2e81e70"
      },
      "outputs": [
        {
          "name": "stdout",
          "output_type": "stream",
          "text": [
            "1. Technical Issues:\n",
            "- Difficulty accessing account\n",
            "- Error message when logging in\n",
            "- Invalid credentials message\n",
            "- Clearing browser cache and resetting password not resolving issue\n",
            "\n",
            "2. Billing Inquiries:\n",
            "- Issue with bill for the past 3 months\n",
            "- Request for prompt resolution\n",
            "\n",
            "3. Product Feedback:\n",
            "- No specific product feedback mentioned in the tickets provided\n"
          ]
        }
      ],
      "source": [
        "print(get_response(user_prompt))"
      ]
    },
    {
      "cell_type": "code",
      "execution_count": 12,
      "metadata": {
        "colab": {
          "base_uri": "https://localhost:8080/"
        },
        "id": "KlbEBkPOZLFv",
        "outputId": "47e4dda7-8a38-4677-dd89-dce74ddabf4d"
      },
      "outputs": [
        {
          "name": "stdout",
          "output_type": "stream",
          "text": [
            "1. Technical Issues: Difficulty accessing account, receiving error message\n",
            "2. Billing Inquiries: Issue with bill, raised multiple times over the past 3 months\n"
          ]
        }
      ],
      "source": [
        "user_prompt = '''classify all the customer support tickets within <> into\n",
        "broad categories such as 'Technical Issues,' 'Billing Inquiries,' and 'Product Feedback.\n",
        "\n",
        "<Dear Support Team,\n",
        "\n",
        "I hope this message finds you well.\n",
        "I'm experiencing difficulties accessing my account on your platform.\n",
        "When I attempt to log in, I receive an error message stating, \"Invalid Credentials.\"\n",
        "I've double-checked my username and password, and they are correct.\n",
        "\n",
        "Details:\n",
        "- Username: johndoe123\n",
        "- Browser: Google Chrome\n",
        "- Operating System: Windows 10\n",
        "\n",
        "I have tried clearing my browser cache and resetting my password, but the issue persists.\n",
        "This is affecting my ability to use your services, and I would appreciate a prompt resolution.\n",
        "\n",
        "Please let me know if you require any additional information to assist with troubleshooting.\n",
        "\n",
        "Thank you,\n",
        "John Doe>\n",
        "\n",
        "<Dear Support Team,\n",
        "I'm conveyed about my bill and have raised this multile times for last 3 months. Please resolve it on priority>\n",
        "'''\n",
        "print(get_response(user_prompt))"
      ]
    },
    {
      "cell_type": "code",
      "execution_count": 15,
      "metadata": {
        "colab": {
          "base_uri": "https://localhost:8080/"
        },
        "id": "xQHxzUWzfKQ_",
        "outputId": "9c0a0c02-ff46-41f0-ce0e-21b416253f66"
      },
      "outputs": [
        {
          "name": "stdout",
          "output_type": "stream",
          "text": [
            "Technical Issues\n",
            "Billing Inquiries\n"
          ]
        }
      ],
      "source": [
        "# Iterating over multiple tickets:\n",
        "for ticket in customer_support_tickets:\n",
        "\n",
        "  user_prompt = f'''classify the customer support ticket delimited by <> into broad categories\n",
        "  such as Technical Issues, Billing Inquiries, and Product Feedback <{ticket}>\n",
        "  '''\n",
        "\n",
        "  print(get_response(user_prompt))"
      ]
    },
    {
      "cell_type": "markdown",
      "metadata": {
        "id": "yZA34gqEdwG_"
      },
      "source": [
        "#### Specifying structured output formats"
      ]
    },
    {
      "cell_type": "code",
      "execution_count": 20,
      "metadata": {
        "colab": {
          "base_uri": "https://localhost:8080/"
        },
        "id": "o2XDSG_pZLIV",
        "outputId": "abe23b1f-e219-4f87-cdaa-5c796c460138"
      },
      "outputs": [
        {
          "name": "stdout",
          "output_type": "stream",
          "text": [
            "{\n",
            "  \"Username\": \"johndoe123\",\n",
            "  \"Browser\": \"Google Chrome\",\n",
            "  \"Operating System\": \"Windows 10\"\n",
            "}\n"
          ]
        }
      ],
      "source": [
        "user_prompt = f'''Extract the JSON information from the customer support ticket\n",
        "and provide the JSON representation of essential information like:\n",
        "- Username\n",
        "- Browser\n",
        "- Operating system\n",
        "Make sure that the JSON format has key-value pairs for each detail\n",
        "\n",
        "customer support ticket: {customer_support_ticket_1}\n",
        "'''\n",
        "\n",
        "print(get_response(user_prompt))"
      ]
    },
    {
      "cell_type": "markdown",
      "metadata": {
        "id": "j0i5o9UpgfeP"
      },
      "source": [
        "#### Using Temperature parameter"
      ]
    },
    {
      "cell_type": "markdown",
      "metadata": {
        "id": "32k9ylx2hQ1e"
      },
      "source": [
        "With temperature parameter set to 0:"
      ]
    },
    {
      "cell_type": "code",
      "execution_count": 21,
      "metadata": {
        "colab": {
          "base_uri": "https://localhost:8080/"
        },
        "id": "BUAXp4opZLM0",
        "outputId": "a5c19563-fdce-40f5-f440-a73ed6865655"
      },
      "outputs": [
        {
          "name": "stdout",
          "output_type": "stream",
          "text": [
            "1. DataWise Academy\n",
            "2. DataMastery Online\n",
            "3. DataPro Learning\n",
            "4. DataGenius Institute\n",
            "5. DataTech University\n",
            "6. DataQuest Education\n",
            "7. DataSavvy School\n",
            "8. DataEdge E-Learning\n",
            "9. DataNinja Academy\n",
            "10. DataInsight Institute\n"
          ]
        }
      ],
      "source": [
        "# With temperature 0:\n",
        "user_prompt = f'''Generate 10 brand names for E-Learning in Data science'''\n",
        "\n",
        "print(get_response(user_prompt, 0))"
      ]
    },
    {
      "cell_type": "code",
      "execution_count": 23,
      "metadata": {
        "colab": {
          "base_uri": "https://localhost:8080/"
        },
        "id": "Re6K4HxZhUjf",
        "outputId": "2d0720b6-858c-4c48-c01f-e2432443900c"
      },
      "outputs": [
        {
          "name": "stdout",
          "output_type": "stream",
          "text": [
            "Dear [Customer],\n",
            "\n",
            "Thank you for reaching out to us regarding the technical issue you are experiencing with your purchased product. We apologize for any inconvenience this may have caused you.\n",
            "\n",
            "In order to assist you further, could you please provide us with more details about the issue you are facing? This will help us better understand the problem and provide you with the most effective solution.\n",
            "\n",
            "Additionally, if you have already tried any troubleshooting steps, please let us know so we can avoid suggesting the same steps again.\n",
            "\n",
            "We are committed to resolving this issue for you as quickly as possible. Thank you for your patience and cooperation.\n",
            "\n",
            "Best regards,\n",
            "[Customer Support Team]\n"
          ]
        }
      ],
      "source": [
        "user_prompt = f'Generate customer support response where customer has a technical issue with the purchased product'\n",
        "\n",
        "print(get_response(user_prompt, 0))"
      ]
    },
    {
      "cell_type": "markdown",
      "metadata": {
        "id": "SXG7xN5Dhsef"
      },
      "source": [
        "When temperature parameter is set to 1:"
      ]
    },
    {
      "cell_type": "code",
      "execution_count": 22,
      "metadata": {
        "colab": {
          "base_uri": "https://localhost:8080/"
        },
        "id": "49r4XfYFP99N",
        "outputId": "d3bd4d07-0dc1-41a6-9c56-1f12d3fe4de8"
      },
      "outputs": [
        {
          "name": "stdout",
          "output_type": "stream",
          "text": [
            "1. DataIQ Academy\n",
            "2. LearnDataPro\n",
            "3. DataGeeks University\n",
            "4. MasterDataMinds\n",
            "5. DataSavvy Learning\n",
            "6. E-Data Science Institute\n",
            "7. DataBrains Education\n",
            "8. DataSmart E-Learning\n",
            "9. DataWise Academy\n",
            "10. DataMastery Institute\n"
          ]
        }
      ],
      "source": [
        "# With temperature 1:\n",
        "user_prompt = f'''Generate 10 brand names for E-Learning in Data science'''\n",
        "\n",
        "print(get_response(user_prompt, 1))"
      ]
    },
    {
      "cell_type": "code",
      "execution_count": 25,
      "metadata": {
        "colab": {
          "base_uri": "https://localhost:8080/"
        },
        "id": "RuFceAk4hDeB",
        "outputId": "7ec7dd70-0ffb-46d7-ebae-d82fdf1b6106"
      },
      "outputs": [
        {
          "name": "stdout",
          "output_type": "stream",
          "text": [
            "Dear [Customer],\n",
            "\n",
            "We are sorry to hear that you are experiencing technical issues with your recently purchased product. Our team is here to help resolve the issue as quickly as possible.\n",
            "\n",
            "To better assist you, could you please provide more details about the specific problem you are facing? For example, are you encountering any error messages or difficulties with the product's functionality? \n",
            "\n",
            "Additionally, have you tried any troubleshooting steps on your own so far? If so, please let us know what you have already attempted so that we can avoid suggesting redundant solutions.\n",
            "\n",
            "Once we have a clearer understanding of the issue, our technical support team will work diligently to provide you with a resolution. \n",
            "\n",
            "Thank you for your patience and cooperation as we work to resolve this matter promptly.\n",
            "\n",
            "Best regards,\n",
            "\n",
            "[Customer Support Team]\n"
          ]
        }
      ],
      "source": [
        "user_prompt = f'Generate customer support response where customer has a technical issue with the purchased product'\n",
        "\n",
        "print(get_response(user_prompt, 1))"
      ]
    },
    {
      "cell_type": "markdown",
      "metadata": {
        "id": "KMQ2vg42JRVH"
      },
      "source": [
        "# Prompt Engineering using open source LLM (Llama2):"
      ]
    },
    {
      "cell_type": "code",
      "execution_count": 3,
      "metadata": {
        "colab": {
          "base_uri": "https://localhost:8080/"
        },
        "collapsed": true,
        "id": "y6CcLLNNRela",
        "outputId": "69c459bb-a69f-4072-c587-71e0871b89af"
      },
      "outputs": [],
      "source": [
        "# !pip install accelerate\n",
        "# !pip install transformers"
      ]
    },
    {
      "cell_type": "code",
      "execution_count": 2,
      "metadata": {
        "id": "_rTEnfdZJRVH"
      },
      "outputs": [],
      "source": [
        "# ------NOTE: Use this piece of code when you are running the code on you local machine ##-------\n",
        "# Loading the API key into the environment:\n",
        "load_dotenv('D:/Learning/Gen AI/Building LLM Applications using Prompt Engineering/API Keys/hugging_face_token.env')\n",
        "\n",
        "# Assigning the API key to a variable:\n",
        "hugging_face_token = os.environ[\"HUGGING_FACE_TOKEN\"]\n",
        "\n",
        "# ## ------NOTE: Use this piece of code when you are running the code on Google colab (Assign the API key in the secrets tab on the left)##-------\n",
        "# from google.colab import userdata\n",
        "# # Assigning the API key to a variable:\n",
        "# hugging_face_token = userdata.get('HUGGING_FACE_TOKEN')\n"
      ]
    },
    {
      "cell_type": "code",
      "execution_count": 3,
      "metadata": {
        "colab": {
          "base_uri": "https://localhost:8080/"
        },
        "id": "a5GFeeZxJRVI",
        "outputId": "f8cfb943-dafd-4584-8ee7-8574e15c08f1"
      },
      "outputs": [
        {
          "name": "stdout",
          "output_type": "stream",
          "text": [
            "Token will not been saved to git credential helper. Pass `add_to_git_credential=True` if you want to set the git credential as well.\n",
            "Token is valid (permission: read).\n",
            "Your token has been saved to /root/.cache/huggingface/token\n",
            "Login successful\n"
          ]
        }
      ],
      "source": [
        "# Logging into Hugging face:\n",
        "from huggingface_hub import login\n",
        "login(hugging_face_token)"
      ]
    },
    {
      "cell_type": "markdown",
      "metadata": {
        "id": "bnspq9OqJRVI"
      },
      "source": [
        "### # Loading Llama 2 7B"
      ]
    },
    {
      "cell_type": "code",
      "execution_count": 4,
      "metadata": {
        "id": "hK0YeCjzJRVJ"
      },
      "outputs": [],
      "source": [
        "# Loading Llama 2 7B:\n",
        "from transformers import AutoTokenizer\n",
        "import transformers\n",
        "import torch\n",
        "\n",
        "#specify the model you want to use\n",
        "model = \"meta-llama/Llama-2-7b-chat-hf\""
      ]
    },
    {
      "cell_type": "code",
      "execution_count": null,
      "metadata": {
        "colab": {
          "base_uri": "https://localhost:8080/",
          "height": 249,
          "referenced_widgets": [
            "f36279d71eac48a0b3bf8a893dc0bf5f",
            "969fddfde75a47a3a698886e05d5f01f",
            "e582b376f15c43218d51a8c56c8ddd27",
            "a18b59fe989e43909348cbafc2c0898b",
            "0b4d49e0e9d94386b6b530260d1628a9",
            "ea52f8bee1034d8ca707748b49dc687c",
            "9c192948150347a08d658a77d6497546",
            "05006fee354149da9d17d64308de5bd9",
            "f5509246680d40a99f6a275a70123c99",
            "7b2954c274d541cf8918a1b7764bee41",
            "e324ff80ba7a49f3a187af1e20515ab1",
            "b18fbcb009074837a6367d99efdb2d70",
            "8e81b3fa4fc94bad808a8cba4cdc70f9",
            "fcfa96ea989245c48be6419f29b3fe78",
            "b814d00f5ea3458994954b25983b6000",
            "578f26ce2ee74673aec1670c980c24cb",
            "f01d9fb0cdf041d3ad26ef0700c62dc9",
            "79edb5e1357348f48b78105c00ce14c6",
            "f6dc0e24f9ae4cefb6bcf1b1a8d5e6c5",
            "5304969a536d4d8a888b7356fc9f142e",
            "32f9bd58f7874967954d279fb52cf9da",
            "d5894746a0a546f7a2b9e6d149214402",
            "581a2fdec5584f2fa1102bd373694eee",
            "3baed376f4764ba6b69cba60fdd06a27",
            "528fa71eef484f23b1236aea410898a5",
            "164c9861ccd84e6082d1369c4437c033",
            "9ceee3c4efb2453d9953f237b43aa837",
            "7122e71558ea428aabaef9a97ee0ce23",
            "ccf0c54da7c640c19bdae02837f4b856",
            "3ec168f5994f41aeb6d956c189f1f87a",
            "38224786f4ed424bb31a994e5620009c",
            "724b8a90885e4b1c80b26112453dd16d",
            "7abfee3e8a03473baef80d6f86cedaeb",
            "a3e987bc7d024447a05603ca7b78daf1",
            "280521e84914445c9447b5d3ef5bd707",
            "862f460e4be4450185dbae49df130aee",
            "7f1568dd7ce548bfaf452935d5d43dde",
            "bd21b9ee09c74ad5989769d2ae31a6c6",
            "5309a1fdd0344000b5bd604cd08499f8",
            "f4e964faf7ec4f2d9d5c2597305f38e3",
            "0fc81ea1c0774e89925191a02348fd26",
            "6a2ee0235ecd4752b921f951a703109d",
            "e54b122656bd477cb07571327055026f",
            "521a1f8a48094b62a556449066e1a020"
          ]
        },
        "id": "WrGX2lZhJRVK",
        "outputId": "286b6e0c-19d9-4444-fd45-f64545151a81"
      },
      "outputs": [],
      "source": [
        "#load the pretrained tokenizer\n",
        "tokenizer = AutoTokenizer.from_pretrained(model)"
      ]
    },
    {
      "cell_type": "code",
      "execution_count": null,
      "metadata": {
        "colab": {
          "base_uri": "https://localhost:8080/",
          "height": 241,
          "referenced_widgets": [
            "2b165517cbef48818b54f5b46787b691",
            "c6cb2fb277ef4210a610f79447fdb638",
            "9bb6d6e4e0b34d98bdcffda6b39b1464",
            "c2faec2bbc0e4c5192c4b71cd76362b7",
            "5648711380f646d2a6cd08604cbfbbe5",
            "0bd88b87ff0548d88f8839c3c1cd755a",
            "664035f9088444fbaeea73a8c9ae25b6",
            "de714f00eab44525ac8dea296f1e5d19",
            "97ef74373f574c3f8178a2873c3b8210",
            "3bcc816a69d0492c95128c414811c56b",
            "32859aa3e37d442fb7741db89e3f73b2",
            "b94227a6082e4ad7931fc842a9ede83f",
            "1b047ee63edf4b3a8d6057b72944159f",
            "23523c4ca3e5483e9c3704a6b122b72a",
            "9a6a434ee51c4f24be52263bfc9690ac",
            "c1fd297e98144c169f5744c14bf73853",
            "a3a40a23a3fa4342904ffbec3a06f47e",
            "52982e36cfaa4a61a887f5659b2513ee",
            "5bc8f69085574ff6971cab97a5fe5f1a",
            "236517a505d249e9a347b54c5b1ab9c2",
            "dfd638122b454ce39efbd2920e18d53f",
            "9e90949f524c4165a76d56a74060fb1f",
            "0415de205e34434fa32f45621a79b84e",
            "175387980e0d4cb88e72a045d54bf695",
            "9a94ccc1b741421abfdcdb7e541445f8",
            "8de6f4994c514d97ba4e46aa03c02eb7",
            "c84c310a35b74dfead1a723f151667a0",
            "38c38c26c27c4c43baee460e4a42ce37",
            "5f33b3a8c91b4dffa2cff39b4e501ff2",
            "ec9676558d16431eb459775c4471b621",
            "b8c3e970b02448a0a8a76f34a0fe67e1",
            "04bc3fee516b4b998c74ad4cb827faa3",
            "5531cfb259194a8394ca1d473324d6ae",
            "8de2bb3d9c7c4532966a53229d10a44e",
            "8e3e19db7a4740b783a6c0b935fc0c70",
            "44ace46d13da4fe79e50264c99b3e3e7",
            "9908ad80b1a445fead4f82a7b239c837",
            "5ee47a5cc3474dc9bf882e5b87f463e9",
            "5db1c230fc6a4f0b97e0d59d523b0470",
            "0226ff6a78da407b808408b575e221b3",
            "9797ffcbf0dd4d30a87efb6bdaa472e1",
            "5380da012b654caca58deff78c15844d",
            "3f346ae2508e481d90a74cc5329ca350",
            "77f5d26039824b2fa786e9fc6e3e2dc9",
            "077f63fefd884ab394f49a6eefee33f8",
            "7f9c1d85342641519e8fabe73a8d3215",
            "69e436b7664e4904b174a2bba688ea98",
            "a668d797e1134b9baee2689c5fa19479",
            "f4616962a7744a35968cbef1156dcda6",
            "0eab2dff81b6492c9ea7480825e86bd7",
            "41931139bdba4484ad6d2c74fc1d3c4f",
            "88915235e0f845c788b593f56ec73230",
            "8626e59948ba4fccb585aca49aea5fd8",
            "6632e146360d47479f26b7bc81198241",
            "8dc141507504477ab0870fbfafca3496",
            "450e3bfd33644077a6e987ab4a66e364",
            "fc92f8fd2a114f90a9737b2c11295e0d",
            "e00dbae3db5d497a9d13940b3c6f35c4",
            "5f8f5a8dadb5481ab0939471bcd8449b",
            "11bf56dd5af94f6b91801f4be8047d5f",
            "99c58f950de94699a87e315d7c64ab77",
            "b6b8b17f2c6d46dd90dcccd3ccc04d32",
            "00169d1d042e4023aa28f97512ff664c",
            "8906da3aaac44c28b3946391e47348f1",
            "0e5a198771c84d008ff179c3d1e2c1e8",
            "559a7bef9b424e65a1f48ebb0d177e4e",
            "d3434ad56d2f4f42adc86a341fde2384",
            "342d0be72db74d9ca6c1d9e39121d542",
            "8e3002bb7ea342aebbf327f01ed0efdb",
            "2d4645576f1f45d9bb6f4d1cec16b768",
            "c533270d3670462db799eb5f8918b44b",
            "90881c09cc1b4b8e8be69a91a90eaece",
            "9bd1b7bc08024032883cc0cd4cd29d22",
            "24b8cd51d1ec47398ca3501327ee83bc",
            "545b1c8c956140428af2f4d192055bf8",
            "630d64de423e40268d14a05562e4c48a",
            "c31c11a7d01848cf92ad422c42dbf747"
          ]
        },
        "id": "6w43HaOzJRVK",
        "outputId": "1c76518c-886c-41ea-b002-c46729ae76f8"
      },
      "outputs": [],
      "source": [
        "#make it ready for text generation\n",
        "pipeline = transformers.pipeline(\n",
        "    \"text-generation\",\n",
        "    model=model,\n",
        "    torch_dtype=torch.float16,\n",
        "    device_map=\"auto\",\n",
        ")"
      ]
    },
    {
      "cell_type": "code",
      "execution_count": 7,
      "metadata": {
        "id": "jY4IuO8HJRVL"
      },
      "outputs": [],
      "source": [
        "def get_response_llama2(prompt):\n",
        "\n",
        "  sequences = pipeline(prompt,\n",
        "      do_sample=True,\n",
        "      return_full_text=False,\n",
        "      top_k=10,\n",
        "      num_return_sequences=1,\n",
        "      eos_token_id=tokenizer.eos_token_id,\n",
        "      max_length=1000,\n",
        "  )\n",
        "  return sequences[0]['generated_text']"
      ]
    },
    {
      "cell_type": "markdown",
      "metadata": {
        "id": "zh4_DW6d7V9d"
      },
      "source": [
        "**Prompt Template:**\n",
        "\n",
        "```\n",
        "<s>[INST] <<SYS>>\n",
        "{{ system_prompt }}\n",
        "<</SYS>>\n",
        "\n",
        "{{ user_message }} [/INST] {{model_answer}} </s>\n",
        "\n",
        "```"
      ]
    },
    {
      "cell_type": "code",
      "execution_count": 8,
      "metadata": {
        "colab": {
          "base_uri": "https://localhost:8080/"
        },
        "id": "HQrNCpOXSuSe",
        "outputId": "b0fa9d36-4d51-48e1-a381-ad8e5d8daccc"
      },
      "outputs": [
        {
          "name": "stderr",
          "output_type": "stream",
          "text": [
            "Truncation was not explicitly activated but `max_length` is provided a specific value, please use `truncation=True` to explicitly truncate examples to max length. Defaulting to 'longest_first' truncation strategy. If you encode pairs of sequences (GLUE-style) with the tokenizer you can select this strategy more precisely by providing a specific strategy to `truncation`.\n"
          ]
        },
        {
          "name": "stdout",
          "output_type": "stream",
          "text": [
            "I'm glad you enjoyed \"Friends\" and \"Money Heist\"! Here are some similar shows that you might enjoy:\n",
            "\n",
            "1. \"The Office\" (US) - a classic sitcom that follows the daily lives of office workers in Scranton, Pennsylvania.\n",
            "2. \"Parks and Recreation\" - a comedy series that follows the employees of the Parks and Recreation department of the fictional town of Pawnee, Indiana.\n",
            "3. \"Brooklyn Nine-Nine\" - a police sitcom that follows the detectives of the 99th precinct of the NYPD.\n",
            "4. \"Schitt's Creek\" - a comedy series that follows a wealthy family who loses their fortune and is forced to move to a small town they bought as a joke.\n",
            "5. \"Killing Eve\" - a spy thriller that follows a security agent and an assassin as they engage in a game of cat and mouse.\n",
            "6. \"Stranger Things\" - a sci-fi horror series that follows a group of kids as they investigate supernatural events in their small town.\n",
            "7. \"The Good Place\" - a fantasy comedy series that follows Eleanor Shellstrop as she navigates the afterlife.\n",
            "8. \"Master of None\" - a comedy-drama series that follows Dev Shah as he navigates life in New York City.\n",
            "9. \"Better Call Saul\" - a crime drama series that follows the story of small-time lawyer Jimmy McGill as he becomes the morally ambiguous lawyer Saul Goodman.\n",
            "10. \"The Marvelous Mrs. Maisel\" - a comedy-drama series that follows a housewife-turned-comedian in the late 1950s.\n",
            "\n",
            "I hope you find these recommendations helpful and enjoyable! Let me know if you have any other questions.\n"
          ]
        }
      ],
      "source": [
        "prompt = '''\n",
        "\n",
        "<s>[INST] <<SYS>>\n",
        "You are a helpful, respectful and honest assistant. Always answer as helpfully as possible, while being safe.\n",
        "Your answers should not include any harmful, unethical, racist, sexist, toxic, dangerous, or illegal content.\n",
        "Please ensure that your responses are socially unbiased and positive in nature.\n",
        "If a question does not make any sense, or is not factually coherent, explain why instead of answering something not correct.\n",
        "If you don't know the answer to a question, please don't share false information.\n",
        "<</SYS>>\n",
        "I liked friends and money heist. Recommend me the similar shows to watch.\n",
        "[/INST]\n",
        "'''\n",
        "\n",
        "print(get_response_llama2(prompt))"
      ]
    },
    {
      "cell_type": "markdown",
      "metadata": {
        "id": "K6Gn_gcpUZkX"
      },
      "source": [
        "### **Case Study:** - Machine Translation on Product Reviews Data"
      ]
    },
    {
      "cell_type": "markdown",
      "metadata": {
        "id": "5rayghWmVzZo"
      },
      "source": [
        "**Prompt-1:**"
      ]
    },
    {
      "cell_type": "code",
      "execution_count": 14,
      "metadata": {
        "colab": {
          "base_uri": "https://localhost:8080/"
        },
        "id": "6emwCZ_nSuWD",
        "outputId": "f5ec5561-169c-43f1-dea7-d1cd3341ebc4"
      },
      "outputs": [
        {
          "name": "stdout",
          "output_type": "stream",
          "text": [
            "Of course! I'd be happy to help you translate the text from French to English. Here's the translation:\n",
            "\n",
            "\"I am extremely satisfied with my experience with the iPhone.\"\n",
            "\n",
            "In this translation, \"Je suis\" means \"I am,\" \"extrêmement\" means \"extremely,\" and \"satisfait\" means \"satisfied.\" \"Mon expérience\" means \"my experience,\" and \"iPhone\" is the name of the device.\n",
            "\n",
            "I hope this helps! Let me know if you have any other questions.\n"
          ]
        }
      ],
      "source": [
        "prompt = '''\n",
        "\n",
        "<s>[INST] <<SYS>>\n",
        "You are a helpful, respectful and honest assistant. Always answer as helpfully as possible, while being safe.\n",
        "Your answers should not include any harmful, unethical, racist, sexist, toxic, dangerous, or illegal content.\n",
        "Please ensure that your responses are socially unbiased and positive in nature.\n",
        "If a question does not make any sense, or is not factually coherent, explain why instead of answering something not correct.\n",
        "If you don't know the answer to a question, please don't share false information.\n",
        "<</SYS>>\n",
        "Translate the following text from french to english: Je suis extrêmement satisfait de mon expérience avec l'iPhone.\n",
        "[/INST]\n",
        "\n",
        "'''\n",
        "print(get_response_llama2(prompt))"
      ]
    },
    {
      "cell_type": "markdown",
      "metadata": {
        "id": "GJEDD0stVvqy"
      },
      "source": [
        "**Prompt-2:**"
      ]
    },
    {
      "cell_type": "code",
      "execution_count": 16,
      "metadata": {
        "id": "tTt4l1btSuYb"
      },
      "outputs": [],
      "source": [
        "reviews=['La pantalla es increíble y la duración de la batería es impresionante',\n",
        "         \"Design élégant et performances exceptionnelles, l'iPhone est une merveille technologique.\",\n",
        "         \"手机速度快，电池耐用，非常满意的购物体验。\"]"
      ]
    },
    {
      "cell_type": "code",
      "execution_count": 17,
      "metadata": {
        "colab": {
          "base_uri": "https://localhost:8080/"
        },
        "id": "fPg27c3gSuai",
        "outputId": "5e3f291c-37c6-4e13-de92-455ec18ecf46"
      },
      "outputs": [
        {
          "name": "stdout",
          "output_type": "stream",
          "text": [
            "Review: La pantalla es increíble y la duración de la batería es impresionante\n",
            "Output:  The screen is incredible and the battery life is impressive.\n",
            "\n",
            "In this context, \"La pantalla\" refers to the screen of a device, and \"La duración de la batería\" refers to the battery life. The statement is expressing admiration for the device's screen and battery life, which are considered impressive.\n",
            "\n",
            "\n",
            "Review: Design élégant et performances exceptionnelles, l'iPhone est une merveille technologique.\n",
            "Output:  Sure, I'd be happy to help! The text given in delimiters <> translates to:\n",
            "\n",
            "\"Elegant design and exceptional performance, the iPhone is a technological marvel.\"\n",
            "\n",
            "In English, this text can be rephrased as:\n",
            "\n",
            "\"The iPhone boasts an impressive design and exceptional performance, making it a technological wonder.\"\n",
            "\n",
            "I hope this helps! Let me know if you have any other questions.\n",
            "\n",
            "\n",
            "Review: 手机速度快，电池耐用，非常满意的购物体验。\n",
            "Output:  Sure, I'd be happy to help! The text you provided can be translated to English as follows:\n",
            "\n",
            "\"The mobile speed is fast, the battery is durable, and I have a very satisfying shopping experience.\"\n",
            "\n",
            "In simpler terms, the text is expressing satisfaction with the speed and battery life of a mobile device, and the overall shopping experience.\n",
            "\n",
            "\n"
          ]
        }
      ],
      "source": [
        "for review in reviews:\n",
        "\n",
        "  prompt = f'''\n",
        "  <s>[INST] <<SYS>>\n",
        "  You are a helpful, respectful and honest assistant. Always answer as helpfully as possible, while being safe.  Your answers should not include any harmful, unethical, racist, sexist, toxic, dangerous, or illegal content. Please ensure that your responses are socially unbiased and positive in nature.\n",
        "\n",
        "  If a question does not make any sense, or is not factually coherent, explain why instead of answering something not correct. If you don't know the answer to a question, please don't share false information.\n",
        "  <</SYS>>\n",
        "  Translate the text given in delimiters <> into english: <{review}>\n",
        "  [/INST]\n",
        "  '''\n",
        "\n",
        "  print(\"Review:\", review)\n",
        "  print(\"Output:\",get_response_llama2(prompt))\n",
        "  print(\"\\n\")"
      ]
    },
    {
      "cell_type": "markdown",
      "metadata": {
        "id": "fmWsQpVcV3D5"
      },
      "source": [
        "**Prompt-3:**"
      ]
    },
    {
      "cell_type": "code",
      "execution_count": 19,
      "metadata": {
        "colab": {
          "base_uri": "https://localhost:8080/"
        },
        "id": "PgE-pBfmSucb",
        "outputId": "20047cec-fde8-4ec7-d7b2-f2e659645ca8"
      },
      "outputs": [
        {
          "name": "stdout",
          "output_type": "stream",
          "text": [
            "In Spanish:\n",
            "\n",
            "Un bijou de tecnología es un término que se utiliza para describir una innovación o advancement técnico significativo en un campo específico. Literalmente, \"bijou\" significa \"joya\" en francés, y se utiliza en este contexto para destacar la importancia y el valor de la tecnología en cuestión.\n",
            "\n",
            "En alemán:\n",
            "\n",
            "Ein Technologie-Schatz ist ein Ausdruck, der verwendet wird, um eine technologische Innovation oder Fortentwicklungsschritt in einem bestimmten Fachgebiet zu beschreiben. \"Technologie-Schatz\" ist eine Übertragung von \"bijou de technologie\" ins Deutsche, wo \"bijou\" französisch für \"Jewel\" oder \"Kunstwerk\" bedeutet und in diesem Kontext die Bedeutung und Wertschätzung der technologischen Entdeckung betont.\n"
          ]
        }
      ],
      "source": [
        "prompt = \"\"\"\n",
        "<s>[INST] <<SYS>>\n",
        "You are a helpful, respectful and honest assistant. Always answer as helpfully as possible, while being safe.  Your answers should not include any harmful, unethical, racist, sexist, toxic, dangerous, or illegal content. Please ensure that your responses are socially unbiased and positive in nature.\n",
        "\n",
        "If a question does not make any sense, or is not factually coherent, explain why instead of answering something not correct. If you don't know the answer to a question, please don't share false information.\n",
        "<</SYS>>\n",
        "Translate the following text into spanish and german:  Un bijou de technologie\n",
        "[/INST]\n",
        "\"\"\"\n",
        "print(get_response_llama2(prompt))"
      ]
    },
    {
      "cell_type": "markdown",
      "metadata": {
        "id": "GnTCTnRfWDIo"
      },
      "source": [
        "**Prompt-4:**"
      ]
    },
    {
      "cell_type": "code",
      "execution_count": 20,
      "metadata": {
        "colab": {
          "base_uri": "https://localhost:8080/"
        },
        "id": "SyQ8mwjfV5mw",
        "outputId": "bcac9cf5-6cfa-4714-adf0-598131b538fb"
      },
      "outputs": [
        {
          "name": "stdout",
          "output_type": "stream",
          "text": [
            "नमस्ते! मैं एक उत्कृष्ट, श्रेयासी और एक्सएल सहाय्ता हूँ, जहां मैं समझ में रखता हूँ कि संवेदना और सुरक्षित हैं! मैं निश्चित हूँ कि मेरे जवाब से कोई नुकसान नहीं होता, नामुमकिन हैं और सुरक्षित हैं!\n",
            "\n",
            "मैं निश्चित हूँ कि मेरे जवाब को समझ में रखते हैं और सुरक्षित हैं, और मैं निश्चित हूँ कि मेरे जवाब का संर्था सुरक्षित हैं! मैं निश्चित हूँ कि मेरे जवाब से कोई नुकसान नहीं होता, नामुमकिन हैं और सुरक्षित हैं!\n",
            "\n",
            "और अन्याय के साथ समझ में रखते हैं, मैं निश्चित हूँ कि मेरे जवाब से कोई नुकसान नहीं होता, नामुमकिन हैं और सुरक्षित हैं! मैं निश्चित हूँ कि मेरे जवाब का संर्था सुरक्षित हैं!\n",
            "\n",
            "और किसी भी प्रश्न के साथ मैं निश्चित हूँ कि मेरे जवाब से कोई नुकसान नहीं होता, नामुमकिन हैं और सुरक्षित हैं! मैं निश्चित हूँ कि मेरे जवाब का संर्था सुरक्षित हैं!\n",
            "\n",
            "और इसके साथ मैं निश्चित हूँ कि मेरे जवाब से क\n"
          ]
        }
      ],
      "source": [
        "prompt = \"\"\"\n",
        "<s>[INST] <<SYS>>\n",
        "You are a helpful, respectful and honest assistant. Always answer as helpfully as possible, while being safe.  Your answers should not include any harmful, unethical, racist, sexist, toxic, dangerous, or illegal content. Please ensure that your responses are socially unbiased and positive in nature.\n",
        "\n",
        "If a question does not make any sense, or is not factually coherent, explain why instead of answering something not correct. If you don't know the answer to a question, please don't share false information.\n",
        "<</SYS>>\n",
        "Translate into hindi\n",
        "[/INST]\n",
        "\"\"\"\n",
        "print(get_response_llama2(prompt))"
      ]
    },
    {
      "cell_type": "markdown",
      "metadata": {
        "id": "hotk1gUpWLo4"
      },
      "source": [
        "## **Enabling Conversation with Llama 2:**"
      ]
    },
    {
      "cell_type": "markdown",
      "metadata": {
        "id": "8utHI4vQ7s4-"
      },
      "source": [
        "**Conversation Template:**\n",
        "```\n",
        "<s>[INST] <<SYS>>\n",
        "{{ system_prompt }}\n",
        "<</SYS>>\n",
        "\n",
        "{{ user_msg_1 }} [/INST] {{ model_answer_1 }} </s>\n",
        "<s>[INST] {{ user_msg_2 }} [/INST]\n",
        "```"
      ]
    },
    {
      "cell_type": "code",
      "execution_count": 21,
      "metadata": {
        "id": "Mts58R1IV5pK"
      },
      "outputs": [],
      "source": [
        "first_prompt_input = 'Translate the following text into spanish and german:  Un bijou de technologie'"
      ]
    },
    {
      "cell_type": "code",
      "execution_count": 22,
      "metadata": {
        "id": "elTasIB2V5r-"
      },
      "outputs": [],
      "source": [
        "first_prompt_output= '''In both Spanish and German, \"Un bijou de technologie\" can be translated as:\n",
        "\n",
        "Spanish: \"Un joya de tecnología\"\n",
        "\n",
        "German: \"Eine Schatz der Technologie\"\n",
        "\n",
        "Both of these translations convey the idea of something being a \"jewel\" or \"treasure\" of technology, highlighting its value and significance.\n",
        "'''"
      ]
    },
    {
      "cell_type": "code",
      "execution_count": 23,
      "metadata": {
        "id": "IlroFqMZV5t9"
      },
      "outputs": [],
      "source": [
        "second_prompt_input=\"Translate to hindi\""
      ]
    },
    {
      "cell_type": "code",
      "execution_count": 25,
      "metadata": {
        "colab": {
          "base_uri": "https://localhost:8080/",
          "height": 52
        },
        "id": "AKX52wuXWX8h",
        "outputId": "d0ce1c1d-b7d1-4a98-e155-7a3d3b7f8543"
      },
      "outputs": [
        {
          "data": {
            "application/vnd.google.colaboratory.intrinsic+json": {
              "type": "string"
            },
            "text/plain": [
              "'Sure, I\\'d be happy to help you translate \"Un bijou de technologie\" to Hindi!\\n\\nHindi translation: \"एक तकनीकी जल्दी\" (Ek taknīkī jalādī)\\n\\nIn Hindi, \"bijou\" is translated as \"तकनीकी\" (taknīkī), which means \"technology\" or \"gadget\". The word \"joya\" is not a direct translation of \"bijou\" in Hindi, but it can be used to convey a similar meaning, such as \"a beautiful or valuable technology\".'"
            ]
          },
          "execution_count": 25,
          "metadata": {},
          "output_type": "execute_result"
        }
      ],
      "source": [
        "prompt=f\"\"\"\n",
        "<s>[INST]\n",
        "\n",
        "<<SYS>>\n",
        "You are a helpful, respectful and honest assistant.\n",
        "Always answer as helpfully as possible, while being safe.\n",
        "Your answers should not include any harmful, unethical, racist, sexist, toxic, dangerous, or illegal content.\n",
        "Please ensure that your responses are socially unbiased and positive in nature.\n",
        "If a question does not make any sense, or is not factually coherent, explain why instead of answering something not correct.\n",
        "If you don't know the answer to a question, please don't share false information.\n",
        "<</SYS>>\n",
        "\n",
        "{first_prompt_input}  [/INST]\n",
        "{first_prompt_output}\n",
        "</s>\n",
        "<s>\n",
        "[INST]\n",
        "{second_prompt_input}\n",
        "[/INST]\n",
        "\"\"\"\n",
        "\n",
        "get_response_llama2(prompt)"
      ]
    },
    {
      "cell_type": "code",
      "execution_count": null,
      "metadata": {
        "id": "bx-MkiyaWYBc"
      },
      "outputs": [],
      "source": []
    }
  ],
  "metadata": {
    "accelerator": "GPU",
    "colab": {
      "gpuType": "T4",
      "provenance": []
    },
    "kernelspec": {
      "display_name": "Python 3",
      "name": "python3"
    },
    "language_info": {
      "codemirror_mode": {
        "name": "ipython",
        "version": 3
      },
      "file_extension": ".py",
      "mimetype": "text/x-python",
      "name": "python",
      "nbconvert_exporter": "python",
      "pygments_lexer": "ipython3",
      "version": "3.12.3"
    },
    "widgets": {
      "application/vnd.jupyter.widget-state+json": {
        "00169d1d042e4023aa28f97512ff664c": {
          "model_module": "@jupyter-widgets/base",
          "model_module_version": "1.2.0",
          "model_name": "LayoutModel",
          "state": {
            "_model_module": "@jupyter-widgets/base",
            "_model_module_version": "1.2.0",
            "_model_name": "LayoutModel",
            "_view_count": null,
            "_view_module": "@jupyter-widgets/base",
            "_view_module_version": "1.2.0",
            "_view_name": "LayoutView",
            "align_content": null,
            "align_items": null,
            "align_self": null,
            "border": null,
            "bottom": null,
            "display": null,
            "flex": null,
            "flex_flow": null,
            "grid_area": null,
            "grid_auto_columns": null,
            "grid_auto_flow": null,
            "grid_auto_rows": null,
            "grid_column": null,
            "grid_gap": null,
            "grid_row": null,
            "grid_template_areas": null,
            "grid_template_columns": null,
            "grid_template_rows": null,
            "height": null,
            "justify_content": null,
            "justify_items": null,
            "left": null,
            "margin": null,
            "max_height": null,
            "max_width": null,
            "min_height": null,
            "min_width": null,
            "object_fit": null,
            "object_position": null,
            "order": null,
            "overflow": null,
            "overflow_x": null,
            "overflow_y": null,
            "padding": null,
            "right": null,
            "top": null,
            "visibility": null,
            "width": null
          }
        },
        "0226ff6a78da407b808408b575e221b3": {
          "model_module": "@jupyter-widgets/controls",
          "model_module_version": "1.5.0",
          "model_name": "DescriptionStyleModel",
          "state": {
            "_model_module": "@jupyter-widgets/controls",
            "_model_module_version": "1.5.0",
            "_model_name": "DescriptionStyleModel",
            "_view_count": null,
            "_view_module": "@jupyter-widgets/base",
            "_view_module_version": "1.2.0",
            "_view_name": "StyleView",
            "description_width": ""
          }
        },
        "0415de205e34434fa32f45621a79b84e": {
          "model_module": "@jupyter-widgets/controls",
          "model_module_version": "1.5.0",
          "model_name": "HBoxModel",
          "state": {
            "_dom_classes": [],
            "_model_module": "@jupyter-widgets/controls",
            "_model_module_version": "1.5.0",
            "_model_name": "HBoxModel",
            "_view_count": null,
            "_view_module": "@jupyter-widgets/controls",
            "_view_module_version": "1.5.0",
            "_view_name": "HBoxView",
            "box_style": "",
            "children": [
              "IPY_MODEL_175387980e0d4cb88e72a045d54bf695",
              "IPY_MODEL_9a94ccc1b741421abfdcdb7e541445f8",
              "IPY_MODEL_8de6f4994c514d97ba4e46aa03c02eb7"
            ],
            "layout": "IPY_MODEL_c84c310a35b74dfead1a723f151667a0"
          }
        },
        "04bc3fee516b4b998c74ad4cb827faa3": {
          "model_module": "@jupyter-widgets/base",
          "model_module_version": "1.2.0",
          "model_name": "LayoutModel",
          "state": {
            "_model_module": "@jupyter-widgets/base",
            "_model_module_version": "1.2.0",
            "_model_name": "LayoutModel",
            "_view_count": null,
            "_view_module": "@jupyter-widgets/base",
            "_view_module_version": "1.2.0",
            "_view_name": "LayoutView",
            "align_content": null,
            "align_items": null,
            "align_self": null,
            "border": null,
            "bottom": null,
            "display": null,
            "flex": null,
            "flex_flow": null,
            "grid_area": null,
            "grid_auto_columns": null,
            "grid_auto_flow": null,
            "grid_auto_rows": null,
            "grid_column": null,
            "grid_gap": null,
            "grid_row": null,
            "grid_template_areas": null,
            "grid_template_columns": null,
            "grid_template_rows": null,
            "height": null,
            "justify_content": null,
            "justify_items": null,
            "left": null,
            "margin": null,
            "max_height": null,
            "max_width": null,
            "min_height": null,
            "min_width": null,
            "object_fit": null,
            "object_position": null,
            "order": null,
            "overflow": null,
            "overflow_x": null,
            "overflow_y": null,
            "padding": null,
            "right": null,
            "top": null,
            "visibility": null,
            "width": null
          }
        },
        "05006fee354149da9d17d64308de5bd9": {
          "model_module": "@jupyter-widgets/base",
          "model_module_version": "1.2.0",
          "model_name": "LayoutModel",
          "state": {
            "_model_module": "@jupyter-widgets/base",
            "_model_module_version": "1.2.0",
            "_model_name": "LayoutModel",
            "_view_count": null,
            "_view_module": "@jupyter-widgets/base",
            "_view_module_version": "1.2.0",
            "_view_name": "LayoutView",
            "align_content": null,
            "align_items": null,
            "align_self": null,
            "border": null,
            "bottom": null,
            "display": null,
            "flex": null,
            "flex_flow": null,
            "grid_area": null,
            "grid_auto_columns": null,
            "grid_auto_flow": null,
            "grid_auto_rows": null,
            "grid_column": null,
            "grid_gap": null,
            "grid_row": null,
            "grid_template_areas": null,
            "grid_template_columns": null,
            "grid_template_rows": null,
            "height": null,
            "justify_content": null,
            "justify_items": null,
            "left": null,
            "margin": null,
            "max_height": null,
            "max_width": null,
            "min_height": null,
            "min_width": null,
            "object_fit": null,
            "object_position": null,
            "order": null,
            "overflow": null,
            "overflow_x": null,
            "overflow_y": null,
            "padding": null,
            "right": null,
            "top": null,
            "visibility": null,
            "width": null
          }
        },
        "077f63fefd884ab394f49a6eefee33f8": {
          "model_module": "@jupyter-widgets/controls",
          "model_module_version": "1.5.0",
          "model_name": "HBoxModel",
          "state": {
            "_dom_classes": [],
            "_model_module": "@jupyter-widgets/controls",
            "_model_module_version": "1.5.0",
            "_model_name": "HBoxModel",
            "_view_count": null,
            "_view_module": "@jupyter-widgets/controls",
            "_view_module_version": "1.5.0",
            "_view_name": "HBoxView",
            "box_style": "",
            "children": [
              "IPY_MODEL_7f9c1d85342641519e8fabe73a8d3215",
              "IPY_MODEL_69e436b7664e4904b174a2bba688ea98",
              "IPY_MODEL_a668d797e1134b9baee2689c5fa19479"
            ],
            "layout": "IPY_MODEL_f4616962a7744a35968cbef1156dcda6"
          }
        },
        "0b4d49e0e9d94386b6b530260d1628a9": {
          "model_module": "@jupyter-widgets/base",
          "model_module_version": "1.2.0",
          "model_name": "LayoutModel",
          "state": {
            "_model_module": "@jupyter-widgets/base",
            "_model_module_version": "1.2.0",
            "_model_name": "LayoutModel",
            "_view_count": null,
            "_view_module": "@jupyter-widgets/base",
            "_view_module_version": "1.2.0",
            "_view_name": "LayoutView",
            "align_content": null,
            "align_items": null,
            "align_self": null,
            "border": null,
            "bottom": null,
            "display": null,
            "flex": null,
            "flex_flow": null,
            "grid_area": null,
            "grid_auto_columns": null,
            "grid_auto_flow": null,
            "grid_auto_rows": null,
            "grid_column": null,
            "grid_gap": null,
            "grid_row": null,
            "grid_template_areas": null,
            "grid_template_columns": null,
            "grid_template_rows": null,
            "height": null,
            "justify_content": null,
            "justify_items": null,
            "left": null,
            "margin": null,
            "max_height": null,
            "max_width": null,
            "min_height": null,
            "min_width": null,
            "object_fit": null,
            "object_position": null,
            "order": null,
            "overflow": null,
            "overflow_x": null,
            "overflow_y": null,
            "padding": null,
            "right": null,
            "top": null,
            "visibility": null,
            "width": null
          }
        },
        "0bd88b87ff0548d88f8839c3c1cd755a": {
          "model_module": "@jupyter-widgets/base",
          "model_module_version": "1.2.0",
          "model_name": "LayoutModel",
          "state": {
            "_model_module": "@jupyter-widgets/base",
            "_model_module_version": "1.2.0",
            "_model_name": "LayoutModel",
            "_view_count": null,
            "_view_module": "@jupyter-widgets/base",
            "_view_module_version": "1.2.0",
            "_view_name": "LayoutView",
            "align_content": null,
            "align_items": null,
            "align_self": null,
            "border": null,
            "bottom": null,
            "display": null,
            "flex": null,
            "flex_flow": null,
            "grid_area": null,
            "grid_auto_columns": null,
            "grid_auto_flow": null,
            "grid_auto_rows": null,
            "grid_column": null,
            "grid_gap": null,
            "grid_row": null,
            "grid_template_areas": null,
            "grid_template_columns": null,
            "grid_template_rows": null,
            "height": null,
            "justify_content": null,
            "justify_items": null,
            "left": null,
            "margin": null,
            "max_height": null,
            "max_width": null,
            "min_height": null,
            "min_width": null,
            "object_fit": null,
            "object_position": null,
            "order": null,
            "overflow": null,
            "overflow_x": null,
            "overflow_y": null,
            "padding": null,
            "right": null,
            "top": null,
            "visibility": null,
            "width": null
          }
        },
        "0e5a198771c84d008ff179c3d1e2c1e8": {
          "model_module": "@jupyter-widgets/base",
          "model_module_version": "1.2.0",
          "model_name": "LayoutModel",
          "state": {
            "_model_module": "@jupyter-widgets/base",
            "_model_module_version": "1.2.0",
            "_model_name": "LayoutModel",
            "_view_count": null,
            "_view_module": "@jupyter-widgets/base",
            "_view_module_version": "1.2.0",
            "_view_name": "LayoutView",
            "align_content": null,
            "align_items": null,
            "align_self": null,
            "border": null,
            "bottom": null,
            "display": null,
            "flex": null,
            "flex_flow": null,
            "grid_area": null,
            "grid_auto_columns": null,
            "grid_auto_flow": null,
            "grid_auto_rows": null,
            "grid_column": null,
            "grid_gap": null,
            "grid_row": null,
            "grid_template_areas": null,
            "grid_template_columns": null,
            "grid_template_rows": null,
            "height": null,
            "justify_content": null,
            "justify_items": null,
            "left": null,
            "margin": null,
            "max_height": null,
            "max_width": null,
            "min_height": null,
            "min_width": null,
            "object_fit": null,
            "object_position": null,
            "order": null,
            "overflow": null,
            "overflow_x": null,
            "overflow_y": null,
            "padding": null,
            "right": null,
            "top": null,
            "visibility": null,
            "width": null
          }
        },
        "0eab2dff81b6492c9ea7480825e86bd7": {
          "model_module": "@jupyter-widgets/base",
          "model_module_version": "1.2.0",
          "model_name": "LayoutModel",
          "state": {
            "_model_module": "@jupyter-widgets/base",
            "_model_module_version": "1.2.0",
            "_model_name": "LayoutModel",
            "_view_count": null,
            "_view_module": "@jupyter-widgets/base",
            "_view_module_version": "1.2.0",
            "_view_name": "LayoutView",
            "align_content": null,
            "align_items": null,
            "align_self": null,
            "border": null,
            "bottom": null,
            "display": null,
            "flex": null,
            "flex_flow": null,
            "grid_area": null,
            "grid_auto_columns": null,
            "grid_auto_flow": null,
            "grid_auto_rows": null,
            "grid_column": null,
            "grid_gap": null,
            "grid_row": null,
            "grid_template_areas": null,
            "grid_template_columns": null,
            "grid_template_rows": null,
            "height": null,
            "justify_content": null,
            "justify_items": null,
            "left": null,
            "margin": null,
            "max_height": null,
            "max_width": null,
            "min_height": null,
            "min_width": null,
            "object_fit": null,
            "object_position": null,
            "order": null,
            "overflow": null,
            "overflow_x": null,
            "overflow_y": null,
            "padding": null,
            "right": null,
            "top": null,
            "visibility": null,
            "width": null
          }
        },
        "0fc81ea1c0774e89925191a02348fd26": {
          "model_module": "@jupyter-widgets/base",
          "model_module_version": "1.2.0",
          "model_name": "LayoutModel",
          "state": {
            "_model_module": "@jupyter-widgets/base",
            "_model_module_version": "1.2.0",
            "_model_name": "LayoutModel",
            "_view_count": null,
            "_view_module": "@jupyter-widgets/base",
            "_view_module_version": "1.2.0",
            "_view_name": "LayoutView",
            "align_content": null,
            "align_items": null,
            "align_self": null,
            "border": null,
            "bottom": null,
            "display": null,
            "flex": null,
            "flex_flow": null,
            "grid_area": null,
            "grid_auto_columns": null,
            "grid_auto_flow": null,
            "grid_auto_rows": null,
            "grid_column": null,
            "grid_gap": null,
            "grid_row": null,
            "grid_template_areas": null,
            "grid_template_columns": null,
            "grid_template_rows": null,
            "height": null,
            "justify_content": null,
            "justify_items": null,
            "left": null,
            "margin": null,
            "max_height": null,
            "max_width": null,
            "min_height": null,
            "min_width": null,
            "object_fit": null,
            "object_position": null,
            "order": null,
            "overflow": null,
            "overflow_x": null,
            "overflow_y": null,
            "padding": null,
            "right": null,
            "top": null,
            "visibility": null,
            "width": null
          }
        },
        "11bf56dd5af94f6b91801f4be8047d5f": {
          "model_module": "@jupyter-widgets/base",
          "model_module_version": "1.2.0",
          "model_name": "LayoutModel",
          "state": {
            "_model_module": "@jupyter-widgets/base",
            "_model_module_version": "1.2.0",
            "_model_name": "LayoutModel",
            "_view_count": null,
            "_view_module": "@jupyter-widgets/base",
            "_view_module_version": "1.2.0",
            "_view_name": "LayoutView",
            "align_content": null,
            "align_items": null,
            "align_self": null,
            "border": null,
            "bottom": null,
            "display": null,
            "flex": null,
            "flex_flow": null,
            "grid_area": null,
            "grid_auto_columns": null,
            "grid_auto_flow": null,
            "grid_auto_rows": null,
            "grid_column": null,
            "grid_gap": null,
            "grid_row": null,
            "grid_template_areas": null,
            "grid_template_columns": null,
            "grid_template_rows": null,
            "height": null,
            "justify_content": null,
            "justify_items": null,
            "left": null,
            "margin": null,
            "max_height": null,
            "max_width": null,
            "min_height": null,
            "min_width": null,
            "object_fit": null,
            "object_position": null,
            "order": null,
            "overflow": null,
            "overflow_x": null,
            "overflow_y": null,
            "padding": null,
            "right": null,
            "top": null,
            "visibility": null,
            "width": null
          }
        },
        "164c9861ccd84e6082d1369c4437c033": {
          "model_module": "@jupyter-widgets/controls",
          "model_module_version": "1.5.0",
          "model_name": "HTMLModel",
          "state": {
            "_dom_classes": [],
            "_model_module": "@jupyter-widgets/controls",
            "_model_module_version": "1.5.0",
            "_model_name": "HTMLModel",
            "_view_count": null,
            "_view_module": "@jupyter-widgets/controls",
            "_view_module_version": "1.5.0",
            "_view_name": "HTMLView",
            "description": "",
            "description_tooltip": null,
            "layout": "IPY_MODEL_724b8a90885e4b1c80b26112453dd16d",
            "placeholder": "​",
            "style": "IPY_MODEL_7abfee3e8a03473baef80d6f86cedaeb",
            "value": " 1.84M/1.84M [00:00&lt;00:00, 5.99MB/s]"
          }
        },
        "175387980e0d4cb88e72a045d54bf695": {
          "model_module": "@jupyter-widgets/controls",
          "model_module_version": "1.5.0",
          "model_name": "HTMLModel",
          "state": {
            "_dom_classes": [],
            "_model_module": "@jupyter-widgets/controls",
            "_model_module_version": "1.5.0",
            "_model_name": "HTMLModel",
            "_view_count": null,
            "_view_module": "@jupyter-widgets/controls",
            "_view_module_version": "1.5.0",
            "_view_name": "HTMLView",
            "description": "",
            "description_tooltip": null,
            "layout": "IPY_MODEL_38c38c26c27c4c43baee460e4a42ce37",
            "placeholder": "​",
            "style": "IPY_MODEL_5f33b3a8c91b4dffa2cff39b4e501ff2",
            "value": "Downloading shards: 100%"
          }
        },
        "1b047ee63edf4b3a8d6057b72944159f": {
          "model_module": "@jupyter-widgets/controls",
          "model_module_version": "1.5.0",
          "model_name": "HTMLModel",
          "state": {
            "_dom_classes": [],
            "_model_module": "@jupyter-widgets/controls",
            "_model_module_version": "1.5.0",
            "_model_name": "HTMLModel",
            "_view_count": null,
            "_view_module": "@jupyter-widgets/controls",
            "_view_module_version": "1.5.0",
            "_view_name": "HTMLView",
            "description": "",
            "description_tooltip": null,
            "layout": "IPY_MODEL_a3a40a23a3fa4342904ffbec3a06f47e",
            "placeholder": "​",
            "style": "IPY_MODEL_52982e36cfaa4a61a887f5659b2513ee",
            "value": "model.safetensors.index.json: 100%"
          }
        },
        "23523c4ca3e5483e9c3704a6b122b72a": {
          "model_module": "@jupyter-widgets/controls",
          "model_module_version": "1.5.0",
          "model_name": "FloatProgressModel",
          "state": {
            "_dom_classes": [],
            "_model_module": "@jupyter-widgets/controls",
            "_model_module_version": "1.5.0",
            "_model_name": "FloatProgressModel",
            "_view_count": null,
            "_view_module": "@jupyter-widgets/controls",
            "_view_module_version": "1.5.0",
            "_view_name": "ProgressView",
            "bar_style": "success",
            "description": "",
            "description_tooltip": null,
            "layout": "IPY_MODEL_5bc8f69085574ff6971cab97a5fe5f1a",
            "max": 26788,
            "min": 0,
            "orientation": "horizontal",
            "style": "IPY_MODEL_236517a505d249e9a347b54c5b1ab9c2",
            "value": 26788
          }
        },
        "236517a505d249e9a347b54c5b1ab9c2": {
          "model_module": "@jupyter-widgets/controls",
          "model_module_version": "1.5.0",
          "model_name": "ProgressStyleModel",
          "state": {
            "_model_module": "@jupyter-widgets/controls",
            "_model_module_version": "1.5.0",
            "_model_name": "ProgressStyleModel",
            "_view_count": null,
            "_view_module": "@jupyter-widgets/base",
            "_view_module_version": "1.2.0",
            "_view_name": "StyleView",
            "bar_color": null,
            "description_width": ""
          }
        },
        "24b8cd51d1ec47398ca3501327ee83bc": {
          "model_module": "@jupyter-widgets/base",
          "model_module_version": "1.2.0",
          "model_name": "LayoutModel",
          "state": {
            "_model_module": "@jupyter-widgets/base",
            "_model_module_version": "1.2.0",
            "_model_name": "LayoutModel",
            "_view_count": null,
            "_view_module": "@jupyter-widgets/base",
            "_view_module_version": "1.2.0",
            "_view_name": "LayoutView",
            "align_content": null,
            "align_items": null,
            "align_self": null,
            "border": null,
            "bottom": null,
            "display": null,
            "flex": null,
            "flex_flow": null,
            "grid_area": null,
            "grid_auto_columns": null,
            "grid_auto_flow": null,
            "grid_auto_rows": null,
            "grid_column": null,
            "grid_gap": null,
            "grid_row": null,
            "grid_template_areas": null,
            "grid_template_columns": null,
            "grid_template_rows": null,
            "height": null,
            "justify_content": null,
            "justify_items": null,
            "left": null,
            "margin": null,
            "max_height": null,
            "max_width": null,
            "min_height": null,
            "min_width": null,
            "object_fit": null,
            "object_position": null,
            "order": null,
            "overflow": null,
            "overflow_x": null,
            "overflow_y": null,
            "padding": null,
            "right": null,
            "top": null,
            "visibility": null,
            "width": null
          }
        },
        "280521e84914445c9447b5d3ef5bd707": {
          "model_module": "@jupyter-widgets/controls",
          "model_module_version": "1.5.0",
          "model_name": "HTMLModel",
          "state": {
            "_dom_classes": [],
            "_model_module": "@jupyter-widgets/controls",
            "_model_module_version": "1.5.0",
            "_model_name": "HTMLModel",
            "_view_count": null,
            "_view_module": "@jupyter-widgets/controls",
            "_view_module_version": "1.5.0",
            "_view_name": "HTMLView",
            "description": "",
            "description_tooltip": null,
            "layout": "IPY_MODEL_5309a1fdd0344000b5bd604cd08499f8",
            "placeholder": "​",
            "style": "IPY_MODEL_f4e964faf7ec4f2d9d5c2597305f38e3",
            "value": "special_tokens_map.json: 100%"
          }
        },
        "2b165517cbef48818b54f5b46787b691": {
          "model_module": "@jupyter-widgets/controls",
          "model_module_version": "1.5.0",
          "model_name": "HBoxModel",
          "state": {
            "_dom_classes": [],
            "_model_module": "@jupyter-widgets/controls",
            "_model_module_version": "1.5.0",
            "_model_name": "HBoxModel",
            "_view_count": null,
            "_view_module": "@jupyter-widgets/controls",
            "_view_module_version": "1.5.0",
            "_view_name": "HBoxView",
            "box_style": "",
            "children": [
              "IPY_MODEL_c6cb2fb277ef4210a610f79447fdb638",
              "IPY_MODEL_9bb6d6e4e0b34d98bdcffda6b39b1464",
              "IPY_MODEL_c2faec2bbc0e4c5192c4b71cd76362b7"
            ],
            "layout": "IPY_MODEL_5648711380f646d2a6cd08604cbfbbe5"
          }
        },
        "2d4645576f1f45d9bb6f4d1cec16b768": {
          "model_module": "@jupyter-widgets/controls",
          "model_module_version": "1.5.0",
          "model_name": "HTMLModel",
          "state": {
            "_dom_classes": [],
            "_model_module": "@jupyter-widgets/controls",
            "_model_module_version": "1.5.0",
            "_model_name": "HTMLModel",
            "_view_count": null,
            "_view_module": "@jupyter-widgets/controls",
            "_view_module_version": "1.5.0",
            "_view_name": "HTMLView",
            "description": "",
            "description_tooltip": null,
            "layout": "IPY_MODEL_630d64de423e40268d14a05562e4c48a",
            "placeholder": "​",
            "style": "IPY_MODEL_c31c11a7d01848cf92ad422c42dbf747",
            "value": " 188/188 [00:00&lt;00:00, 14.4kB/s]"
          }
        },
        "32859aa3e37d442fb7741db89e3f73b2": {
          "model_module": "@jupyter-widgets/controls",
          "model_module_version": "1.5.0",
          "model_name": "DescriptionStyleModel",
          "state": {
            "_model_module": "@jupyter-widgets/controls",
            "_model_module_version": "1.5.0",
            "_model_name": "DescriptionStyleModel",
            "_view_count": null,
            "_view_module": "@jupyter-widgets/base",
            "_view_module_version": "1.2.0",
            "_view_name": "StyleView",
            "description_width": ""
          }
        },
        "32f9bd58f7874967954d279fb52cf9da": {
          "model_module": "@jupyter-widgets/base",
          "model_module_version": "1.2.0",
          "model_name": "LayoutModel",
          "state": {
            "_model_module": "@jupyter-widgets/base",
            "_model_module_version": "1.2.0",
            "_model_name": "LayoutModel",
            "_view_count": null,
            "_view_module": "@jupyter-widgets/base",
            "_view_module_version": "1.2.0",
            "_view_name": "LayoutView",
            "align_content": null,
            "align_items": null,
            "align_self": null,
            "border": null,
            "bottom": null,
            "display": null,
            "flex": null,
            "flex_flow": null,
            "grid_area": null,
            "grid_auto_columns": null,
            "grid_auto_flow": null,
            "grid_auto_rows": null,
            "grid_column": null,
            "grid_gap": null,
            "grid_row": null,
            "grid_template_areas": null,
            "grid_template_columns": null,
            "grid_template_rows": null,
            "height": null,
            "justify_content": null,
            "justify_items": null,
            "left": null,
            "margin": null,
            "max_height": null,
            "max_width": null,
            "min_height": null,
            "min_width": null,
            "object_fit": null,
            "object_position": null,
            "order": null,
            "overflow": null,
            "overflow_x": null,
            "overflow_y": null,
            "padding": null,
            "right": null,
            "top": null,
            "visibility": null,
            "width": null
          }
        },
        "342d0be72db74d9ca6c1d9e39121d542": {
          "model_module": "@jupyter-widgets/controls",
          "model_module_version": "1.5.0",
          "model_name": "HTMLModel",
          "state": {
            "_dom_classes": [],
            "_model_module": "@jupyter-widgets/controls",
            "_model_module_version": "1.5.0",
            "_model_name": "HTMLModel",
            "_view_count": null,
            "_view_module": "@jupyter-widgets/controls",
            "_view_module_version": "1.5.0",
            "_view_name": "HTMLView",
            "description": "",
            "description_tooltip": null,
            "layout": "IPY_MODEL_90881c09cc1b4b8e8be69a91a90eaece",
            "placeholder": "​",
            "style": "IPY_MODEL_9bd1b7bc08024032883cc0cd4cd29d22",
            "value": "generation_config.json: 100%"
          }
        },
        "38224786f4ed424bb31a994e5620009c": {
          "model_module": "@jupyter-widgets/controls",
          "model_module_version": "1.5.0",
          "model_name": "ProgressStyleModel",
          "state": {
            "_model_module": "@jupyter-widgets/controls",
            "_model_module_version": "1.5.0",
            "_model_name": "ProgressStyleModel",
            "_view_count": null,
            "_view_module": "@jupyter-widgets/base",
            "_view_module_version": "1.2.0",
            "_view_name": "StyleView",
            "bar_color": null,
            "description_width": ""
          }
        },
        "38c38c26c27c4c43baee460e4a42ce37": {
          "model_module": "@jupyter-widgets/base",
          "model_module_version": "1.2.0",
          "model_name": "LayoutModel",
          "state": {
            "_model_module": "@jupyter-widgets/base",
            "_model_module_version": "1.2.0",
            "_model_name": "LayoutModel",
            "_view_count": null,
            "_view_module": "@jupyter-widgets/base",
            "_view_module_version": "1.2.0",
            "_view_name": "LayoutView",
            "align_content": null,
            "align_items": null,
            "align_self": null,
            "border": null,
            "bottom": null,
            "display": null,
            "flex": null,
            "flex_flow": null,
            "grid_area": null,
            "grid_auto_columns": null,
            "grid_auto_flow": null,
            "grid_auto_rows": null,
            "grid_column": null,
            "grid_gap": null,
            "grid_row": null,
            "grid_template_areas": null,
            "grid_template_columns": null,
            "grid_template_rows": null,
            "height": null,
            "justify_content": null,
            "justify_items": null,
            "left": null,
            "margin": null,
            "max_height": null,
            "max_width": null,
            "min_height": null,
            "min_width": null,
            "object_fit": null,
            "object_position": null,
            "order": null,
            "overflow": null,
            "overflow_x": null,
            "overflow_y": null,
            "padding": null,
            "right": null,
            "top": null,
            "visibility": null,
            "width": null
          }
        },
        "3baed376f4764ba6b69cba60fdd06a27": {
          "model_module": "@jupyter-widgets/controls",
          "model_module_version": "1.5.0",
          "model_name": "HTMLModel",
          "state": {
            "_dom_classes": [],
            "_model_module": "@jupyter-widgets/controls",
            "_model_module_version": "1.5.0",
            "_model_name": "HTMLModel",
            "_view_count": null,
            "_view_module": "@jupyter-widgets/controls",
            "_view_module_version": "1.5.0",
            "_view_name": "HTMLView",
            "description": "",
            "description_tooltip": null,
            "layout": "IPY_MODEL_7122e71558ea428aabaef9a97ee0ce23",
            "placeholder": "​",
            "style": "IPY_MODEL_ccf0c54da7c640c19bdae02837f4b856",
            "value": "tokenizer.json: 100%"
          }
        },
        "3bcc816a69d0492c95128c414811c56b": {
          "model_module": "@jupyter-widgets/base",
          "model_module_version": "1.2.0",
          "model_name": "LayoutModel",
          "state": {
            "_model_module": "@jupyter-widgets/base",
            "_model_module_version": "1.2.0",
            "_model_name": "LayoutModel",
            "_view_count": null,
            "_view_module": "@jupyter-widgets/base",
            "_view_module_version": "1.2.0",
            "_view_name": "LayoutView",
            "align_content": null,
            "align_items": null,
            "align_self": null,
            "border": null,
            "bottom": null,
            "display": null,
            "flex": null,
            "flex_flow": null,
            "grid_area": null,
            "grid_auto_columns": null,
            "grid_auto_flow": null,
            "grid_auto_rows": null,
            "grid_column": null,
            "grid_gap": null,
            "grid_row": null,
            "grid_template_areas": null,
            "grid_template_columns": null,
            "grid_template_rows": null,
            "height": null,
            "justify_content": null,
            "justify_items": null,
            "left": null,
            "margin": null,
            "max_height": null,
            "max_width": null,
            "min_height": null,
            "min_width": null,
            "object_fit": null,
            "object_position": null,
            "order": null,
            "overflow": null,
            "overflow_x": null,
            "overflow_y": null,
            "padding": null,
            "right": null,
            "top": null,
            "visibility": null,
            "width": null
          }
        },
        "3ec168f5994f41aeb6d956c189f1f87a": {
          "model_module": "@jupyter-widgets/base",
          "model_module_version": "1.2.0",
          "model_name": "LayoutModel",
          "state": {
            "_model_module": "@jupyter-widgets/base",
            "_model_module_version": "1.2.0",
            "_model_name": "LayoutModel",
            "_view_count": null,
            "_view_module": "@jupyter-widgets/base",
            "_view_module_version": "1.2.0",
            "_view_name": "LayoutView",
            "align_content": null,
            "align_items": null,
            "align_self": null,
            "border": null,
            "bottom": null,
            "display": null,
            "flex": null,
            "flex_flow": null,
            "grid_area": null,
            "grid_auto_columns": null,
            "grid_auto_flow": null,
            "grid_auto_rows": null,
            "grid_column": null,
            "grid_gap": null,
            "grid_row": null,
            "grid_template_areas": null,
            "grid_template_columns": null,
            "grid_template_rows": null,
            "height": null,
            "justify_content": null,
            "justify_items": null,
            "left": null,
            "margin": null,
            "max_height": null,
            "max_width": null,
            "min_height": null,
            "min_width": null,
            "object_fit": null,
            "object_position": null,
            "order": null,
            "overflow": null,
            "overflow_x": null,
            "overflow_y": null,
            "padding": null,
            "right": null,
            "top": null,
            "visibility": null,
            "width": null
          }
        },
        "3f346ae2508e481d90a74cc5329ca350": {
          "model_module": "@jupyter-widgets/base",
          "model_module_version": "1.2.0",
          "model_name": "LayoutModel",
          "state": {
            "_model_module": "@jupyter-widgets/base",
            "_model_module_version": "1.2.0",
            "_model_name": "LayoutModel",
            "_view_count": null,
            "_view_module": "@jupyter-widgets/base",
            "_view_module_version": "1.2.0",
            "_view_name": "LayoutView",
            "align_content": null,
            "align_items": null,
            "align_self": null,
            "border": null,
            "bottom": null,
            "display": null,
            "flex": null,
            "flex_flow": null,
            "grid_area": null,
            "grid_auto_columns": null,
            "grid_auto_flow": null,
            "grid_auto_rows": null,
            "grid_column": null,
            "grid_gap": null,
            "grid_row": null,
            "grid_template_areas": null,
            "grid_template_columns": null,
            "grid_template_rows": null,
            "height": null,
            "justify_content": null,
            "justify_items": null,
            "left": null,
            "margin": null,
            "max_height": null,
            "max_width": null,
            "min_height": null,
            "min_width": null,
            "object_fit": null,
            "object_position": null,
            "order": null,
            "overflow": null,
            "overflow_x": null,
            "overflow_y": null,
            "padding": null,
            "right": null,
            "top": null,
            "visibility": null,
            "width": null
          }
        },
        "41931139bdba4484ad6d2c74fc1d3c4f": {
          "model_module": "@jupyter-widgets/controls",
          "model_module_version": "1.5.0",
          "model_name": "DescriptionStyleModel",
          "state": {
            "_model_module": "@jupyter-widgets/controls",
            "_model_module_version": "1.5.0",
            "_model_name": "DescriptionStyleModel",
            "_view_count": null,
            "_view_module": "@jupyter-widgets/base",
            "_view_module_version": "1.2.0",
            "_view_name": "StyleView",
            "description_width": ""
          }
        },
        "44ace46d13da4fe79e50264c99b3e3e7": {
          "model_module": "@jupyter-widgets/controls",
          "model_module_version": "1.5.0",
          "model_name": "FloatProgressModel",
          "state": {
            "_dom_classes": [],
            "_model_module": "@jupyter-widgets/controls",
            "_model_module_version": "1.5.0",
            "_model_name": "FloatProgressModel",
            "_view_count": null,
            "_view_module": "@jupyter-widgets/controls",
            "_view_module_version": "1.5.0",
            "_view_name": "ProgressView",
            "bar_style": "success",
            "description": "",
            "description_tooltip": null,
            "layout": "IPY_MODEL_9797ffcbf0dd4d30a87efb6bdaa472e1",
            "max": 9976576152,
            "min": 0,
            "orientation": "horizontal",
            "style": "IPY_MODEL_5380da012b654caca58deff78c15844d",
            "value": 9976576152
          }
        },
        "450e3bfd33644077a6e987ab4a66e364": {
          "model_module": "@jupyter-widgets/controls",
          "model_module_version": "1.5.0",
          "model_name": "HBoxModel",
          "state": {
            "_dom_classes": [],
            "_model_module": "@jupyter-widgets/controls",
            "_model_module_version": "1.5.0",
            "_model_name": "HBoxModel",
            "_view_count": null,
            "_view_module": "@jupyter-widgets/controls",
            "_view_module_version": "1.5.0",
            "_view_name": "HBoxView",
            "box_style": "",
            "children": [
              "IPY_MODEL_fc92f8fd2a114f90a9737b2c11295e0d",
              "IPY_MODEL_e00dbae3db5d497a9d13940b3c6f35c4",
              "IPY_MODEL_5f8f5a8dadb5481ab0939471bcd8449b"
            ],
            "layout": "IPY_MODEL_11bf56dd5af94f6b91801f4be8047d5f"
          }
        },
        "521a1f8a48094b62a556449066e1a020": {
          "model_module": "@jupyter-widgets/controls",
          "model_module_version": "1.5.0",
          "model_name": "DescriptionStyleModel",
          "state": {
            "_model_module": "@jupyter-widgets/controls",
            "_model_module_version": "1.5.0",
            "_model_name": "DescriptionStyleModel",
            "_view_count": null,
            "_view_module": "@jupyter-widgets/base",
            "_view_module_version": "1.2.0",
            "_view_name": "StyleView",
            "description_width": ""
          }
        },
        "528fa71eef484f23b1236aea410898a5": {
          "model_module": "@jupyter-widgets/controls",
          "model_module_version": "1.5.0",
          "model_name": "FloatProgressModel",
          "state": {
            "_dom_classes": [],
            "_model_module": "@jupyter-widgets/controls",
            "_model_module_version": "1.5.0",
            "_model_name": "FloatProgressModel",
            "_view_count": null,
            "_view_module": "@jupyter-widgets/controls",
            "_view_module_version": "1.5.0",
            "_view_name": "ProgressView",
            "bar_style": "success",
            "description": "",
            "description_tooltip": null,
            "layout": "IPY_MODEL_3ec168f5994f41aeb6d956c189f1f87a",
            "max": 1842767,
            "min": 0,
            "orientation": "horizontal",
            "style": "IPY_MODEL_38224786f4ed424bb31a994e5620009c",
            "value": 1842767
          }
        },
        "52982e36cfaa4a61a887f5659b2513ee": {
          "model_module": "@jupyter-widgets/controls",
          "model_module_version": "1.5.0",
          "model_name": "DescriptionStyleModel",
          "state": {
            "_model_module": "@jupyter-widgets/controls",
            "_model_module_version": "1.5.0",
            "_model_name": "DescriptionStyleModel",
            "_view_count": null,
            "_view_module": "@jupyter-widgets/base",
            "_view_module_version": "1.2.0",
            "_view_name": "StyleView",
            "description_width": ""
          }
        },
        "5304969a536d4d8a888b7356fc9f142e": {
          "model_module": "@jupyter-widgets/controls",
          "model_module_version": "1.5.0",
          "model_name": "ProgressStyleModel",
          "state": {
            "_model_module": "@jupyter-widgets/controls",
            "_model_module_version": "1.5.0",
            "_model_name": "ProgressStyleModel",
            "_view_count": null,
            "_view_module": "@jupyter-widgets/base",
            "_view_module_version": "1.2.0",
            "_view_name": "StyleView",
            "bar_color": null,
            "description_width": ""
          }
        },
        "5309a1fdd0344000b5bd604cd08499f8": {
          "model_module": "@jupyter-widgets/base",
          "model_module_version": "1.2.0",
          "model_name": "LayoutModel",
          "state": {
            "_model_module": "@jupyter-widgets/base",
            "_model_module_version": "1.2.0",
            "_model_name": "LayoutModel",
            "_view_count": null,
            "_view_module": "@jupyter-widgets/base",
            "_view_module_version": "1.2.0",
            "_view_name": "LayoutView",
            "align_content": null,
            "align_items": null,
            "align_self": null,
            "border": null,
            "bottom": null,
            "display": null,
            "flex": null,
            "flex_flow": null,
            "grid_area": null,
            "grid_auto_columns": null,
            "grid_auto_flow": null,
            "grid_auto_rows": null,
            "grid_column": null,
            "grid_gap": null,
            "grid_row": null,
            "grid_template_areas": null,
            "grid_template_columns": null,
            "grid_template_rows": null,
            "height": null,
            "justify_content": null,
            "justify_items": null,
            "left": null,
            "margin": null,
            "max_height": null,
            "max_width": null,
            "min_height": null,
            "min_width": null,
            "object_fit": null,
            "object_position": null,
            "order": null,
            "overflow": null,
            "overflow_x": null,
            "overflow_y": null,
            "padding": null,
            "right": null,
            "top": null,
            "visibility": null,
            "width": null
          }
        },
        "5380da012b654caca58deff78c15844d": {
          "model_module": "@jupyter-widgets/controls",
          "model_module_version": "1.5.0",
          "model_name": "ProgressStyleModel",
          "state": {
            "_model_module": "@jupyter-widgets/controls",
            "_model_module_version": "1.5.0",
            "_model_name": "ProgressStyleModel",
            "_view_count": null,
            "_view_module": "@jupyter-widgets/base",
            "_view_module_version": "1.2.0",
            "_view_name": "StyleView",
            "bar_color": null,
            "description_width": ""
          }
        },
        "545b1c8c956140428af2f4d192055bf8": {
          "model_module": "@jupyter-widgets/controls",
          "model_module_version": "1.5.0",
          "model_name": "ProgressStyleModel",
          "state": {
            "_model_module": "@jupyter-widgets/controls",
            "_model_module_version": "1.5.0",
            "_model_name": "ProgressStyleModel",
            "_view_count": null,
            "_view_module": "@jupyter-widgets/base",
            "_view_module_version": "1.2.0",
            "_view_name": "StyleView",
            "bar_color": null,
            "description_width": ""
          }
        },
        "5531cfb259194a8394ca1d473324d6ae": {
          "model_module": "@jupyter-widgets/controls",
          "model_module_version": "1.5.0",
          "model_name": "DescriptionStyleModel",
          "state": {
            "_model_module": "@jupyter-widgets/controls",
            "_model_module_version": "1.5.0",
            "_model_name": "DescriptionStyleModel",
            "_view_count": null,
            "_view_module": "@jupyter-widgets/base",
            "_view_module_version": "1.2.0",
            "_view_name": "StyleView",
            "description_width": ""
          }
        },
        "559a7bef9b424e65a1f48ebb0d177e4e": {
          "model_module": "@jupyter-widgets/controls",
          "model_module_version": "1.5.0",
          "model_name": "DescriptionStyleModel",
          "state": {
            "_model_module": "@jupyter-widgets/controls",
            "_model_module_version": "1.5.0",
            "_model_name": "DescriptionStyleModel",
            "_view_count": null,
            "_view_module": "@jupyter-widgets/base",
            "_view_module_version": "1.2.0",
            "_view_name": "StyleView",
            "description_width": ""
          }
        },
        "5648711380f646d2a6cd08604cbfbbe5": {
          "model_module": "@jupyter-widgets/base",
          "model_module_version": "1.2.0",
          "model_name": "LayoutModel",
          "state": {
            "_model_module": "@jupyter-widgets/base",
            "_model_module_version": "1.2.0",
            "_model_name": "LayoutModel",
            "_view_count": null,
            "_view_module": "@jupyter-widgets/base",
            "_view_module_version": "1.2.0",
            "_view_name": "LayoutView",
            "align_content": null,
            "align_items": null,
            "align_self": null,
            "border": null,
            "bottom": null,
            "display": null,
            "flex": null,
            "flex_flow": null,
            "grid_area": null,
            "grid_auto_columns": null,
            "grid_auto_flow": null,
            "grid_auto_rows": null,
            "grid_column": null,
            "grid_gap": null,
            "grid_row": null,
            "grid_template_areas": null,
            "grid_template_columns": null,
            "grid_template_rows": null,
            "height": null,
            "justify_content": null,
            "justify_items": null,
            "left": null,
            "margin": null,
            "max_height": null,
            "max_width": null,
            "min_height": null,
            "min_width": null,
            "object_fit": null,
            "object_position": null,
            "order": null,
            "overflow": null,
            "overflow_x": null,
            "overflow_y": null,
            "padding": null,
            "right": null,
            "top": null,
            "visibility": null,
            "width": null
          }
        },
        "578f26ce2ee74673aec1670c980c24cb": {
          "model_module": "@jupyter-widgets/base",
          "model_module_version": "1.2.0",
          "model_name": "LayoutModel",
          "state": {
            "_model_module": "@jupyter-widgets/base",
            "_model_module_version": "1.2.0",
            "_model_name": "LayoutModel",
            "_view_count": null,
            "_view_module": "@jupyter-widgets/base",
            "_view_module_version": "1.2.0",
            "_view_name": "LayoutView",
            "align_content": null,
            "align_items": null,
            "align_self": null,
            "border": null,
            "bottom": null,
            "display": null,
            "flex": null,
            "flex_flow": null,
            "grid_area": null,
            "grid_auto_columns": null,
            "grid_auto_flow": null,
            "grid_auto_rows": null,
            "grid_column": null,
            "grid_gap": null,
            "grid_row": null,
            "grid_template_areas": null,
            "grid_template_columns": null,
            "grid_template_rows": null,
            "height": null,
            "justify_content": null,
            "justify_items": null,
            "left": null,
            "margin": null,
            "max_height": null,
            "max_width": null,
            "min_height": null,
            "min_width": null,
            "object_fit": null,
            "object_position": null,
            "order": null,
            "overflow": null,
            "overflow_x": null,
            "overflow_y": null,
            "padding": null,
            "right": null,
            "top": null,
            "visibility": null,
            "width": null
          }
        },
        "581a2fdec5584f2fa1102bd373694eee": {
          "model_module": "@jupyter-widgets/controls",
          "model_module_version": "1.5.0",
          "model_name": "HBoxModel",
          "state": {
            "_dom_classes": [],
            "_model_module": "@jupyter-widgets/controls",
            "_model_module_version": "1.5.0",
            "_model_name": "HBoxModel",
            "_view_count": null,
            "_view_module": "@jupyter-widgets/controls",
            "_view_module_version": "1.5.0",
            "_view_name": "HBoxView",
            "box_style": "",
            "children": [
              "IPY_MODEL_3baed376f4764ba6b69cba60fdd06a27",
              "IPY_MODEL_528fa71eef484f23b1236aea410898a5",
              "IPY_MODEL_164c9861ccd84e6082d1369c4437c033"
            ],
            "layout": "IPY_MODEL_9ceee3c4efb2453d9953f237b43aa837"
          }
        },
        "5bc8f69085574ff6971cab97a5fe5f1a": {
          "model_module": "@jupyter-widgets/base",
          "model_module_version": "1.2.0",
          "model_name": "LayoutModel",
          "state": {
            "_model_module": "@jupyter-widgets/base",
            "_model_module_version": "1.2.0",
            "_model_name": "LayoutModel",
            "_view_count": null,
            "_view_module": "@jupyter-widgets/base",
            "_view_module_version": "1.2.0",
            "_view_name": "LayoutView",
            "align_content": null,
            "align_items": null,
            "align_self": null,
            "border": null,
            "bottom": null,
            "display": null,
            "flex": null,
            "flex_flow": null,
            "grid_area": null,
            "grid_auto_columns": null,
            "grid_auto_flow": null,
            "grid_auto_rows": null,
            "grid_column": null,
            "grid_gap": null,
            "grid_row": null,
            "grid_template_areas": null,
            "grid_template_columns": null,
            "grid_template_rows": null,
            "height": null,
            "justify_content": null,
            "justify_items": null,
            "left": null,
            "margin": null,
            "max_height": null,
            "max_width": null,
            "min_height": null,
            "min_width": null,
            "object_fit": null,
            "object_position": null,
            "order": null,
            "overflow": null,
            "overflow_x": null,
            "overflow_y": null,
            "padding": null,
            "right": null,
            "top": null,
            "visibility": null,
            "width": null
          }
        },
        "5db1c230fc6a4f0b97e0d59d523b0470": {
          "model_module": "@jupyter-widgets/base",
          "model_module_version": "1.2.0",
          "model_name": "LayoutModel",
          "state": {
            "_model_module": "@jupyter-widgets/base",
            "_model_module_version": "1.2.0",
            "_model_name": "LayoutModel",
            "_view_count": null,
            "_view_module": "@jupyter-widgets/base",
            "_view_module_version": "1.2.0",
            "_view_name": "LayoutView",
            "align_content": null,
            "align_items": null,
            "align_self": null,
            "border": null,
            "bottom": null,
            "display": null,
            "flex": null,
            "flex_flow": null,
            "grid_area": null,
            "grid_auto_columns": null,
            "grid_auto_flow": null,
            "grid_auto_rows": null,
            "grid_column": null,
            "grid_gap": null,
            "grid_row": null,
            "grid_template_areas": null,
            "grid_template_columns": null,
            "grid_template_rows": null,
            "height": null,
            "justify_content": null,
            "justify_items": null,
            "left": null,
            "margin": null,
            "max_height": null,
            "max_width": null,
            "min_height": null,
            "min_width": null,
            "object_fit": null,
            "object_position": null,
            "order": null,
            "overflow": null,
            "overflow_x": null,
            "overflow_y": null,
            "padding": null,
            "right": null,
            "top": null,
            "visibility": null,
            "width": null
          }
        },
        "5ee47a5cc3474dc9bf882e5b87f463e9": {
          "model_module": "@jupyter-widgets/base",
          "model_module_version": "1.2.0",
          "model_name": "LayoutModel",
          "state": {
            "_model_module": "@jupyter-widgets/base",
            "_model_module_version": "1.2.0",
            "_model_name": "LayoutModel",
            "_view_count": null,
            "_view_module": "@jupyter-widgets/base",
            "_view_module_version": "1.2.0",
            "_view_name": "LayoutView",
            "align_content": null,
            "align_items": null,
            "align_self": null,
            "border": null,
            "bottom": null,
            "display": null,
            "flex": null,
            "flex_flow": null,
            "grid_area": null,
            "grid_auto_columns": null,
            "grid_auto_flow": null,
            "grid_auto_rows": null,
            "grid_column": null,
            "grid_gap": null,
            "grid_row": null,
            "grid_template_areas": null,
            "grid_template_columns": null,
            "grid_template_rows": null,
            "height": null,
            "justify_content": null,
            "justify_items": null,
            "left": null,
            "margin": null,
            "max_height": null,
            "max_width": null,
            "min_height": null,
            "min_width": null,
            "object_fit": null,
            "object_position": null,
            "order": null,
            "overflow": null,
            "overflow_x": null,
            "overflow_y": null,
            "padding": null,
            "right": null,
            "top": null,
            "visibility": null,
            "width": null
          }
        },
        "5f33b3a8c91b4dffa2cff39b4e501ff2": {
          "model_module": "@jupyter-widgets/controls",
          "model_module_version": "1.5.0",
          "model_name": "DescriptionStyleModel",
          "state": {
            "_model_module": "@jupyter-widgets/controls",
            "_model_module_version": "1.5.0",
            "_model_name": "DescriptionStyleModel",
            "_view_count": null,
            "_view_module": "@jupyter-widgets/base",
            "_view_module_version": "1.2.0",
            "_view_name": "StyleView",
            "description_width": ""
          }
        },
        "5f8f5a8dadb5481ab0939471bcd8449b": {
          "model_module": "@jupyter-widgets/controls",
          "model_module_version": "1.5.0",
          "model_name": "HTMLModel",
          "state": {
            "_dom_classes": [],
            "_model_module": "@jupyter-widgets/controls",
            "_model_module_version": "1.5.0",
            "_model_name": "HTMLModel",
            "_view_count": null,
            "_view_module": "@jupyter-widgets/controls",
            "_view_module_version": "1.5.0",
            "_view_name": "HTMLView",
            "description": "",
            "description_tooltip": null,
            "layout": "IPY_MODEL_0e5a198771c84d008ff179c3d1e2c1e8",
            "placeholder": "​",
            "style": "IPY_MODEL_559a7bef9b424e65a1f48ebb0d177e4e",
            "value": " 2/2 [00:55&lt;00:00, 25.18s/it]"
          }
        },
        "630d64de423e40268d14a05562e4c48a": {
          "model_module": "@jupyter-widgets/base",
          "model_module_version": "1.2.0",
          "model_name": "LayoutModel",
          "state": {
            "_model_module": "@jupyter-widgets/base",
            "_model_module_version": "1.2.0",
            "_model_name": "LayoutModel",
            "_view_count": null,
            "_view_module": "@jupyter-widgets/base",
            "_view_module_version": "1.2.0",
            "_view_name": "LayoutView",
            "align_content": null,
            "align_items": null,
            "align_self": null,
            "border": null,
            "bottom": null,
            "display": null,
            "flex": null,
            "flex_flow": null,
            "grid_area": null,
            "grid_auto_columns": null,
            "grid_auto_flow": null,
            "grid_auto_rows": null,
            "grid_column": null,
            "grid_gap": null,
            "grid_row": null,
            "grid_template_areas": null,
            "grid_template_columns": null,
            "grid_template_rows": null,
            "height": null,
            "justify_content": null,
            "justify_items": null,
            "left": null,
            "margin": null,
            "max_height": null,
            "max_width": null,
            "min_height": null,
            "min_width": null,
            "object_fit": null,
            "object_position": null,
            "order": null,
            "overflow": null,
            "overflow_x": null,
            "overflow_y": null,
            "padding": null,
            "right": null,
            "top": null,
            "visibility": null,
            "width": null
          }
        },
        "6632e146360d47479f26b7bc81198241": {
          "model_module": "@jupyter-widgets/base",
          "model_module_version": "1.2.0",
          "model_name": "LayoutModel",
          "state": {
            "_model_module": "@jupyter-widgets/base",
            "_model_module_version": "1.2.0",
            "_model_name": "LayoutModel",
            "_view_count": null,
            "_view_module": "@jupyter-widgets/base",
            "_view_module_version": "1.2.0",
            "_view_name": "LayoutView",
            "align_content": null,
            "align_items": null,
            "align_self": null,
            "border": null,
            "bottom": null,
            "display": null,
            "flex": null,
            "flex_flow": null,
            "grid_area": null,
            "grid_auto_columns": null,
            "grid_auto_flow": null,
            "grid_auto_rows": null,
            "grid_column": null,
            "grid_gap": null,
            "grid_row": null,
            "grid_template_areas": null,
            "grid_template_columns": null,
            "grid_template_rows": null,
            "height": null,
            "justify_content": null,
            "justify_items": null,
            "left": null,
            "margin": null,
            "max_height": null,
            "max_width": null,
            "min_height": null,
            "min_width": null,
            "object_fit": null,
            "object_position": null,
            "order": null,
            "overflow": null,
            "overflow_x": null,
            "overflow_y": null,
            "padding": null,
            "right": null,
            "top": null,
            "visibility": null,
            "width": null
          }
        },
        "664035f9088444fbaeea73a8c9ae25b6": {
          "model_module": "@jupyter-widgets/controls",
          "model_module_version": "1.5.0",
          "model_name": "DescriptionStyleModel",
          "state": {
            "_model_module": "@jupyter-widgets/controls",
            "_model_module_version": "1.5.0",
            "_model_name": "DescriptionStyleModel",
            "_view_count": null,
            "_view_module": "@jupyter-widgets/base",
            "_view_module_version": "1.2.0",
            "_view_name": "StyleView",
            "description_width": ""
          }
        },
        "69e436b7664e4904b174a2bba688ea98": {
          "model_module": "@jupyter-widgets/controls",
          "model_module_version": "1.5.0",
          "model_name": "FloatProgressModel",
          "state": {
            "_dom_classes": [],
            "_model_module": "@jupyter-widgets/controls",
            "_model_module_version": "1.5.0",
            "_model_name": "FloatProgressModel",
            "_view_count": null,
            "_view_module": "@jupyter-widgets/controls",
            "_view_module_version": "1.5.0",
            "_view_name": "ProgressView",
            "bar_style": "success",
            "description": "",
            "description_tooltip": null,
            "layout": "IPY_MODEL_88915235e0f845c788b593f56ec73230",
            "max": 3500296424,
            "min": 0,
            "orientation": "horizontal",
            "style": "IPY_MODEL_8626e59948ba4fccb585aca49aea5fd8",
            "value": 3500296424
          }
        },
        "6a2ee0235ecd4752b921f951a703109d": {
          "model_module": "@jupyter-widgets/controls",
          "model_module_version": "1.5.0",
          "model_name": "ProgressStyleModel",
          "state": {
            "_model_module": "@jupyter-widgets/controls",
            "_model_module_version": "1.5.0",
            "_model_name": "ProgressStyleModel",
            "_view_count": null,
            "_view_module": "@jupyter-widgets/base",
            "_view_module_version": "1.2.0",
            "_view_name": "StyleView",
            "bar_color": null,
            "description_width": ""
          }
        },
        "7122e71558ea428aabaef9a97ee0ce23": {
          "model_module": "@jupyter-widgets/base",
          "model_module_version": "1.2.0",
          "model_name": "LayoutModel",
          "state": {
            "_model_module": "@jupyter-widgets/base",
            "_model_module_version": "1.2.0",
            "_model_name": "LayoutModel",
            "_view_count": null,
            "_view_module": "@jupyter-widgets/base",
            "_view_module_version": "1.2.0",
            "_view_name": "LayoutView",
            "align_content": null,
            "align_items": null,
            "align_self": null,
            "border": null,
            "bottom": null,
            "display": null,
            "flex": null,
            "flex_flow": null,
            "grid_area": null,
            "grid_auto_columns": null,
            "grid_auto_flow": null,
            "grid_auto_rows": null,
            "grid_column": null,
            "grid_gap": null,
            "grid_row": null,
            "grid_template_areas": null,
            "grid_template_columns": null,
            "grid_template_rows": null,
            "height": null,
            "justify_content": null,
            "justify_items": null,
            "left": null,
            "margin": null,
            "max_height": null,
            "max_width": null,
            "min_height": null,
            "min_width": null,
            "object_fit": null,
            "object_position": null,
            "order": null,
            "overflow": null,
            "overflow_x": null,
            "overflow_y": null,
            "padding": null,
            "right": null,
            "top": null,
            "visibility": null,
            "width": null
          }
        },
        "724b8a90885e4b1c80b26112453dd16d": {
          "model_module": "@jupyter-widgets/base",
          "model_module_version": "1.2.0",
          "model_name": "LayoutModel",
          "state": {
            "_model_module": "@jupyter-widgets/base",
            "_model_module_version": "1.2.0",
            "_model_name": "LayoutModel",
            "_view_count": null,
            "_view_module": "@jupyter-widgets/base",
            "_view_module_version": "1.2.0",
            "_view_name": "LayoutView",
            "align_content": null,
            "align_items": null,
            "align_self": null,
            "border": null,
            "bottom": null,
            "display": null,
            "flex": null,
            "flex_flow": null,
            "grid_area": null,
            "grid_auto_columns": null,
            "grid_auto_flow": null,
            "grid_auto_rows": null,
            "grid_column": null,
            "grid_gap": null,
            "grid_row": null,
            "grid_template_areas": null,
            "grid_template_columns": null,
            "grid_template_rows": null,
            "height": null,
            "justify_content": null,
            "justify_items": null,
            "left": null,
            "margin": null,
            "max_height": null,
            "max_width": null,
            "min_height": null,
            "min_width": null,
            "object_fit": null,
            "object_position": null,
            "order": null,
            "overflow": null,
            "overflow_x": null,
            "overflow_y": null,
            "padding": null,
            "right": null,
            "top": null,
            "visibility": null,
            "width": null
          }
        },
        "77f5d26039824b2fa786e9fc6e3e2dc9": {
          "model_module": "@jupyter-widgets/controls",
          "model_module_version": "1.5.0",
          "model_name": "DescriptionStyleModel",
          "state": {
            "_model_module": "@jupyter-widgets/controls",
            "_model_module_version": "1.5.0",
            "_model_name": "DescriptionStyleModel",
            "_view_count": null,
            "_view_module": "@jupyter-widgets/base",
            "_view_module_version": "1.2.0",
            "_view_name": "StyleView",
            "description_width": ""
          }
        },
        "79edb5e1357348f48b78105c00ce14c6": {
          "model_module": "@jupyter-widgets/controls",
          "model_module_version": "1.5.0",
          "model_name": "DescriptionStyleModel",
          "state": {
            "_model_module": "@jupyter-widgets/controls",
            "_model_module_version": "1.5.0",
            "_model_name": "DescriptionStyleModel",
            "_view_count": null,
            "_view_module": "@jupyter-widgets/base",
            "_view_module_version": "1.2.0",
            "_view_name": "StyleView",
            "description_width": ""
          }
        },
        "7abfee3e8a03473baef80d6f86cedaeb": {
          "model_module": "@jupyter-widgets/controls",
          "model_module_version": "1.5.0",
          "model_name": "DescriptionStyleModel",
          "state": {
            "_model_module": "@jupyter-widgets/controls",
            "_model_module_version": "1.5.0",
            "_model_name": "DescriptionStyleModel",
            "_view_count": null,
            "_view_module": "@jupyter-widgets/base",
            "_view_module_version": "1.2.0",
            "_view_name": "StyleView",
            "description_width": ""
          }
        },
        "7b2954c274d541cf8918a1b7764bee41": {
          "model_module": "@jupyter-widgets/base",
          "model_module_version": "1.2.0",
          "model_name": "LayoutModel",
          "state": {
            "_model_module": "@jupyter-widgets/base",
            "_model_module_version": "1.2.0",
            "_model_name": "LayoutModel",
            "_view_count": null,
            "_view_module": "@jupyter-widgets/base",
            "_view_module_version": "1.2.0",
            "_view_name": "LayoutView",
            "align_content": null,
            "align_items": null,
            "align_self": null,
            "border": null,
            "bottom": null,
            "display": null,
            "flex": null,
            "flex_flow": null,
            "grid_area": null,
            "grid_auto_columns": null,
            "grid_auto_flow": null,
            "grid_auto_rows": null,
            "grid_column": null,
            "grid_gap": null,
            "grid_row": null,
            "grid_template_areas": null,
            "grid_template_columns": null,
            "grid_template_rows": null,
            "height": null,
            "justify_content": null,
            "justify_items": null,
            "left": null,
            "margin": null,
            "max_height": null,
            "max_width": null,
            "min_height": null,
            "min_width": null,
            "object_fit": null,
            "object_position": null,
            "order": null,
            "overflow": null,
            "overflow_x": null,
            "overflow_y": null,
            "padding": null,
            "right": null,
            "top": null,
            "visibility": null,
            "width": null
          }
        },
        "7f1568dd7ce548bfaf452935d5d43dde": {
          "model_module": "@jupyter-widgets/controls",
          "model_module_version": "1.5.0",
          "model_name": "HTMLModel",
          "state": {
            "_dom_classes": [],
            "_model_module": "@jupyter-widgets/controls",
            "_model_module_version": "1.5.0",
            "_model_name": "HTMLModel",
            "_view_count": null,
            "_view_module": "@jupyter-widgets/controls",
            "_view_module_version": "1.5.0",
            "_view_name": "HTMLView",
            "description": "",
            "description_tooltip": null,
            "layout": "IPY_MODEL_e54b122656bd477cb07571327055026f",
            "placeholder": "​",
            "style": "IPY_MODEL_521a1f8a48094b62a556449066e1a020",
            "value": " 414/414 [00:00&lt;00:00, 8.20kB/s]"
          }
        },
        "7f9c1d85342641519e8fabe73a8d3215": {
          "model_module": "@jupyter-widgets/controls",
          "model_module_version": "1.5.0",
          "model_name": "HTMLModel",
          "state": {
            "_dom_classes": [],
            "_model_module": "@jupyter-widgets/controls",
            "_model_module_version": "1.5.0",
            "_model_name": "HTMLModel",
            "_view_count": null,
            "_view_module": "@jupyter-widgets/controls",
            "_view_module_version": "1.5.0",
            "_view_name": "HTMLView",
            "description": "",
            "description_tooltip": null,
            "layout": "IPY_MODEL_0eab2dff81b6492c9ea7480825e86bd7",
            "placeholder": "​",
            "style": "IPY_MODEL_41931139bdba4484ad6d2c74fc1d3c4f",
            "value": "model-00002-of-00002.safetensors: 100%"
          }
        },
        "8626e59948ba4fccb585aca49aea5fd8": {
          "model_module": "@jupyter-widgets/controls",
          "model_module_version": "1.5.0",
          "model_name": "ProgressStyleModel",
          "state": {
            "_model_module": "@jupyter-widgets/controls",
            "_model_module_version": "1.5.0",
            "_model_name": "ProgressStyleModel",
            "_view_count": null,
            "_view_module": "@jupyter-widgets/base",
            "_view_module_version": "1.2.0",
            "_view_name": "StyleView",
            "bar_color": null,
            "description_width": ""
          }
        },
        "862f460e4be4450185dbae49df130aee": {
          "model_module": "@jupyter-widgets/controls",
          "model_module_version": "1.5.0",
          "model_name": "FloatProgressModel",
          "state": {
            "_dom_classes": [],
            "_model_module": "@jupyter-widgets/controls",
            "_model_module_version": "1.5.0",
            "_model_name": "FloatProgressModel",
            "_view_count": null,
            "_view_module": "@jupyter-widgets/controls",
            "_view_module_version": "1.5.0",
            "_view_name": "ProgressView",
            "bar_style": "success",
            "description": "",
            "description_tooltip": null,
            "layout": "IPY_MODEL_0fc81ea1c0774e89925191a02348fd26",
            "max": 414,
            "min": 0,
            "orientation": "horizontal",
            "style": "IPY_MODEL_6a2ee0235ecd4752b921f951a703109d",
            "value": 414
          }
        },
        "88915235e0f845c788b593f56ec73230": {
          "model_module": "@jupyter-widgets/base",
          "model_module_version": "1.2.0",
          "model_name": "LayoutModel",
          "state": {
            "_model_module": "@jupyter-widgets/base",
            "_model_module_version": "1.2.0",
            "_model_name": "LayoutModel",
            "_view_count": null,
            "_view_module": "@jupyter-widgets/base",
            "_view_module_version": "1.2.0",
            "_view_name": "LayoutView",
            "align_content": null,
            "align_items": null,
            "align_self": null,
            "border": null,
            "bottom": null,
            "display": null,
            "flex": null,
            "flex_flow": null,
            "grid_area": null,
            "grid_auto_columns": null,
            "grid_auto_flow": null,
            "grid_auto_rows": null,
            "grid_column": null,
            "grid_gap": null,
            "grid_row": null,
            "grid_template_areas": null,
            "grid_template_columns": null,
            "grid_template_rows": null,
            "height": null,
            "justify_content": null,
            "justify_items": null,
            "left": null,
            "margin": null,
            "max_height": null,
            "max_width": null,
            "min_height": null,
            "min_width": null,
            "object_fit": null,
            "object_position": null,
            "order": null,
            "overflow": null,
            "overflow_x": null,
            "overflow_y": null,
            "padding": null,
            "right": null,
            "top": null,
            "visibility": null,
            "width": null
          }
        },
        "8906da3aaac44c28b3946391e47348f1": {
          "model_module": "@jupyter-widgets/controls",
          "model_module_version": "1.5.0",
          "model_name": "ProgressStyleModel",
          "state": {
            "_model_module": "@jupyter-widgets/controls",
            "_model_module_version": "1.5.0",
            "_model_name": "ProgressStyleModel",
            "_view_count": null,
            "_view_module": "@jupyter-widgets/base",
            "_view_module_version": "1.2.0",
            "_view_name": "StyleView",
            "bar_color": null,
            "description_width": ""
          }
        },
        "8dc141507504477ab0870fbfafca3496": {
          "model_module": "@jupyter-widgets/controls",
          "model_module_version": "1.5.0",
          "model_name": "DescriptionStyleModel",
          "state": {
            "_model_module": "@jupyter-widgets/controls",
            "_model_module_version": "1.5.0",
            "_model_name": "DescriptionStyleModel",
            "_view_count": null,
            "_view_module": "@jupyter-widgets/base",
            "_view_module_version": "1.2.0",
            "_view_name": "StyleView",
            "description_width": ""
          }
        },
        "8de2bb3d9c7c4532966a53229d10a44e": {
          "model_module": "@jupyter-widgets/controls",
          "model_module_version": "1.5.0",
          "model_name": "HBoxModel",
          "state": {
            "_dom_classes": [],
            "_model_module": "@jupyter-widgets/controls",
            "_model_module_version": "1.5.0",
            "_model_name": "HBoxModel",
            "_view_count": null,
            "_view_module": "@jupyter-widgets/controls",
            "_view_module_version": "1.5.0",
            "_view_name": "HBoxView",
            "box_style": "",
            "children": [
              "IPY_MODEL_8e3e19db7a4740b783a6c0b935fc0c70",
              "IPY_MODEL_44ace46d13da4fe79e50264c99b3e3e7",
              "IPY_MODEL_9908ad80b1a445fead4f82a7b239c837"
            ],
            "layout": "IPY_MODEL_5ee47a5cc3474dc9bf882e5b87f463e9"
          }
        },
        "8de6f4994c514d97ba4e46aa03c02eb7": {
          "model_module": "@jupyter-widgets/controls",
          "model_module_version": "1.5.0",
          "model_name": "HTMLModel",
          "state": {
            "_dom_classes": [],
            "_model_module": "@jupyter-widgets/controls",
            "_model_module_version": "1.5.0",
            "_model_name": "HTMLModel",
            "_view_count": null,
            "_view_module": "@jupyter-widgets/controls",
            "_view_module_version": "1.5.0",
            "_view_name": "HTMLView",
            "description": "",
            "description_tooltip": null,
            "layout": "IPY_MODEL_04bc3fee516b4b998c74ad4cb827faa3",
            "placeholder": "​",
            "style": "IPY_MODEL_5531cfb259194a8394ca1d473324d6ae",
            "value": " 2/2 [01:42&lt;00:00, 46.79s/it]"
          }
        },
        "8e3002bb7ea342aebbf327f01ed0efdb": {
          "model_module": "@jupyter-widgets/controls",
          "model_module_version": "1.5.0",
          "model_name": "FloatProgressModel",
          "state": {
            "_dom_classes": [],
            "_model_module": "@jupyter-widgets/controls",
            "_model_module_version": "1.5.0",
            "_model_name": "FloatProgressModel",
            "_view_count": null,
            "_view_module": "@jupyter-widgets/controls",
            "_view_module_version": "1.5.0",
            "_view_name": "ProgressView",
            "bar_style": "success",
            "description": "",
            "description_tooltip": null,
            "layout": "IPY_MODEL_24b8cd51d1ec47398ca3501327ee83bc",
            "max": 188,
            "min": 0,
            "orientation": "horizontal",
            "style": "IPY_MODEL_545b1c8c956140428af2f4d192055bf8",
            "value": 188
          }
        },
        "8e3e19db7a4740b783a6c0b935fc0c70": {
          "model_module": "@jupyter-widgets/controls",
          "model_module_version": "1.5.0",
          "model_name": "HTMLModel",
          "state": {
            "_dom_classes": [],
            "_model_module": "@jupyter-widgets/controls",
            "_model_module_version": "1.5.0",
            "_model_name": "HTMLModel",
            "_view_count": null,
            "_view_module": "@jupyter-widgets/controls",
            "_view_module_version": "1.5.0",
            "_view_name": "HTMLView",
            "description": "",
            "description_tooltip": null,
            "layout": "IPY_MODEL_5db1c230fc6a4f0b97e0d59d523b0470",
            "placeholder": "​",
            "style": "IPY_MODEL_0226ff6a78da407b808408b575e221b3",
            "value": "model-00001-of-00002.safetensors: 100%"
          }
        },
        "8e81b3fa4fc94bad808a8cba4cdc70f9": {
          "model_module": "@jupyter-widgets/controls",
          "model_module_version": "1.5.0",
          "model_name": "HTMLModel",
          "state": {
            "_dom_classes": [],
            "_model_module": "@jupyter-widgets/controls",
            "_model_module_version": "1.5.0",
            "_model_name": "HTMLModel",
            "_view_count": null,
            "_view_module": "@jupyter-widgets/controls",
            "_view_module_version": "1.5.0",
            "_view_name": "HTMLView",
            "description": "",
            "description_tooltip": null,
            "layout": "IPY_MODEL_f01d9fb0cdf041d3ad26ef0700c62dc9",
            "placeholder": "​",
            "style": "IPY_MODEL_79edb5e1357348f48b78105c00ce14c6",
            "value": "tokenizer.model: 100%"
          }
        },
        "90881c09cc1b4b8e8be69a91a90eaece": {
          "model_module": "@jupyter-widgets/base",
          "model_module_version": "1.2.0",
          "model_name": "LayoutModel",
          "state": {
            "_model_module": "@jupyter-widgets/base",
            "_model_module_version": "1.2.0",
            "_model_name": "LayoutModel",
            "_view_count": null,
            "_view_module": "@jupyter-widgets/base",
            "_view_module_version": "1.2.0",
            "_view_name": "LayoutView",
            "align_content": null,
            "align_items": null,
            "align_self": null,
            "border": null,
            "bottom": null,
            "display": null,
            "flex": null,
            "flex_flow": null,
            "grid_area": null,
            "grid_auto_columns": null,
            "grid_auto_flow": null,
            "grid_auto_rows": null,
            "grid_column": null,
            "grid_gap": null,
            "grid_row": null,
            "grid_template_areas": null,
            "grid_template_columns": null,
            "grid_template_rows": null,
            "height": null,
            "justify_content": null,
            "justify_items": null,
            "left": null,
            "margin": null,
            "max_height": null,
            "max_width": null,
            "min_height": null,
            "min_width": null,
            "object_fit": null,
            "object_position": null,
            "order": null,
            "overflow": null,
            "overflow_x": null,
            "overflow_y": null,
            "padding": null,
            "right": null,
            "top": null,
            "visibility": null,
            "width": null
          }
        },
        "969fddfde75a47a3a698886e05d5f01f": {
          "model_module": "@jupyter-widgets/controls",
          "model_module_version": "1.5.0",
          "model_name": "HTMLModel",
          "state": {
            "_dom_classes": [],
            "_model_module": "@jupyter-widgets/controls",
            "_model_module_version": "1.5.0",
            "_model_name": "HTMLModel",
            "_view_count": null,
            "_view_module": "@jupyter-widgets/controls",
            "_view_module_version": "1.5.0",
            "_view_name": "HTMLView",
            "description": "",
            "description_tooltip": null,
            "layout": "IPY_MODEL_ea52f8bee1034d8ca707748b49dc687c",
            "placeholder": "​",
            "style": "IPY_MODEL_9c192948150347a08d658a77d6497546",
            "value": "tokenizer_config.json: 100%"
          }
        },
        "9797ffcbf0dd4d30a87efb6bdaa472e1": {
          "model_module": "@jupyter-widgets/base",
          "model_module_version": "1.2.0",
          "model_name": "LayoutModel",
          "state": {
            "_model_module": "@jupyter-widgets/base",
            "_model_module_version": "1.2.0",
            "_model_name": "LayoutModel",
            "_view_count": null,
            "_view_module": "@jupyter-widgets/base",
            "_view_module_version": "1.2.0",
            "_view_name": "LayoutView",
            "align_content": null,
            "align_items": null,
            "align_self": null,
            "border": null,
            "bottom": null,
            "display": null,
            "flex": null,
            "flex_flow": null,
            "grid_area": null,
            "grid_auto_columns": null,
            "grid_auto_flow": null,
            "grid_auto_rows": null,
            "grid_column": null,
            "grid_gap": null,
            "grid_row": null,
            "grid_template_areas": null,
            "grid_template_columns": null,
            "grid_template_rows": null,
            "height": null,
            "justify_content": null,
            "justify_items": null,
            "left": null,
            "margin": null,
            "max_height": null,
            "max_width": null,
            "min_height": null,
            "min_width": null,
            "object_fit": null,
            "object_position": null,
            "order": null,
            "overflow": null,
            "overflow_x": null,
            "overflow_y": null,
            "padding": null,
            "right": null,
            "top": null,
            "visibility": null,
            "width": null
          }
        },
        "97ef74373f574c3f8178a2873c3b8210": {
          "model_module": "@jupyter-widgets/controls",
          "model_module_version": "1.5.0",
          "model_name": "ProgressStyleModel",
          "state": {
            "_model_module": "@jupyter-widgets/controls",
            "_model_module_version": "1.5.0",
            "_model_name": "ProgressStyleModel",
            "_view_count": null,
            "_view_module": "@jupyter-widgets/base",
            "_view_module_version": "1.2.0",
            "_view_name": "StyleView",
            "bar_color": null,
            "description_width": ""
          }
        },
        "9908ad80b1a445fead4f82a7b239c837": {
          "model_module": "@jupyter-widgets/controls",
          "model_module_version": "1.5.0",
          "model_name": "HTMLModel",
          "state": {
            "_dom_classes": [],
            "_model_module": "@jupyter-widgets/controls",
            "_model_module_version": "1.5.0",
            "_model_name": "HTMLModel",
            "_view_count": null,
            "_view_module": "@jupyter-widgets/controls",
            "_view_module_version": "1.5.0",
            "_view_name": "HTMLView",
            "description": "",
            "description_tooltip": null,
            "layout": "IPY_MODEL_3f346ae2508e481d90a74cc5329ca350",
            "placeholder": "​",
            "style": "IPY_MODEL_77f5d26039824b2fa786e9fc6e3e2dc9",
            "value": " 9.98G/9.98G [01:16&lt;00:00, 61.1MB/s]"
          }
        },
        "99c58f950de94699a87e315d7c64ab77": {
          "model_module": "@jupyter-widgets/base",
          "model_module_version": "1.2.0",
          "model_name": "LayoutModel",
          "state": {
            "_model_module": "@jupyter-widgets/base",
            "_model_module_version": "1.2.0",
            "_model_name": "LayoutModel",
            "_view_count": null,
            "_view_module": "@jupyter-widgets/base",
            "_view_module_version": "1.2.0",
            "_view_name": "LayoutView",
            "align_content": null,
            "align_items": null,
            "align_self": null,
            "border": null,
            "bottom": null,
            "display": null,
            "flex": null,
            "flex_flow": null,
            "grid_area": null,
            "grid_auto_columns": null,
            "grid_auto_flow": null,
            "grid_auto_rows": null,
            "grid_column": null,
            "grid_gap": null,
            "grid_row": null,
            "grid_template_areas": null,
            "grid_template_columns": null,
            "grid_template_rows": null,
            "height": null,
            "justify_content": null,
            "justify_items": null,
            "left": null,
            "margin": null,
            "max_height": null,
            "max_width": null,
            "min_height": null,
            "min_width": null,
            "object_fit": null,
            "object_position": null,
            "order": null,
            "overflow": null,
            "overflow_x": null,
            "overflow_y": null,
            "padding": null,
            "right": null,
            "top": null,
            "visibility": null,
            "width": null
          }
        },
        "9a6a434ee51c4f24be52263bfc9690ac": {
          "model_module": "@jupyter-widgets/controls",
          "model_module_version": "1.5.0",
          "model_name": "HTMLModel",
          "state": {
            "_dom_classes": [],
            "_model_module": "@jupyter-widgets/controls",
            "_model_module_version": "1.5.0",
            "_model_name": "HTMLModel",
            "_view_count": null,
            "_view_module": "@jupyter-widgets/controls",
            "_view_module_version": "1.5.0",
            "_view_name": "HTMLView",
            "description": "",
            "description_tooltip": null,
            "layout": "IPY_MODEL_dfd638122b454ce39efbd2920e18d53f",
            "placeholder": "​",
            "style": "IPY_MODEL_9e90949f524c4165a76d56a74060fb1f",
            "value": " 26.8k/26.8k [00:00&lt;00:00, 843kB/s]"
          }
        },
        "9a94ccc1b741421abfdcdb7e541445f8": {
          "model_module": "@jupyter-widgets/controls",
          "model_module_version": "1.5.0",
          "model_name": "FloatProgressModel",
          "state": {
            "_dom_classes": [],
            "_model_module": "@jupyter-widgets/controls",
            "_model_module_version": "1.5.0",
            "_model_name": "FloatProgressModel",
            "_view_count": null,
            "_view_module": "@jupyter-widgets/controls",
            "_view_module_version": "1.5.0",
            "_view_name": "ProgressView",
            "bar_style": "success",
            "description": "",
            "description_tooltip": null,
            "layout": "IPY_MODEL_ec9676558d16431eb459775c4471b621",
            "max": 2,
            "min": 0,
            "orientation": "horizontal",
            "style": "IPY_MODEL_b8c3e970b02448a0a8a76f34a0fe67e1",
            "value": 2
          }
        },
        "9bb6d6e4e0b34d98bdcffda6b39b1464": {
          "model_module": "@jupyter-widgets/controls",
          "model_module_version": "1.5.0",
          "model_name": "FloatProgressModel",
          "state": {
            "_dom_classes": [],
            "_model_module": "@jupyter-widgets/controls",
            "_model_module_version": "1.5.0",
            "_model_name": "FloatProgressModel",
            "_view_count": null,
            "_view_module": "@jupyter-widgets/controls",
            "_view_module_version": "1.5.0",
            "_view_name": "ProgressView",
            "bar_style": "success",
            "description": "",
            "description_tooltip": null,
            "layout": "IPY_MODEL_de714f00eab44525ac8dea296f1e5d19",
            "max": 614,
            "min": 0,
            "orientation": "horizontal",
            "style": "IPY_MODEL_97ef74373f574c3f8178a2873c3b8210",
            "value": 614
          }
        },
        "9bd1b7bc08024032883cc0cd4cd29d22": {
          "model_module": "@jupyter-widgets/controls",
          "model_module_version": "1.5.0",
          "model_name": "DescriptionStyleModel",
          "state": {
            "_model_module": "@jupyter-widgets/controls",
            "_model_module_version": "1.5.0",
            "_model_name": "DescriptionStyleModel",
            "_view_count": null,
            "_view_module": "@jupyter-widgets/base",
            "_view_module_version": "1.2.0",
            "_view_name": "StyleView",
            "description_width": ""
          }
        },
        "9c192948150347a08d658a77d6497546": {
          "model_module": "@jupyter-widgets/controls",
          "model_module_version": "1.5.0",
          "model_name": "DescriptionStyleModel",
          "state": {
            "_model_module": "@jupyter-widgets/controls",
            "_model_module_version": "1.5.0",
            "_model_name": "DescriptionStyleModel",
            "_view_count": null,
            "_view_module": "@jupyter-widgets/base",
            "_view_module_version": "1.2.0",
            "_view_name": "StyleView",
            "description_width": ""
          }
        },
        "9ceee3c4efb2453d9953f237b43aa837": {
          "model_module": "@jupyter-widgets/base",
          "model_module_version": "1.2.0",
          "model_name": "LayoutModel",
          "state": {
            "_model_module": "@jupyter-widgets/base",
            "_model_module_version": "1.2.0",
            "_model_name": "LayoutModel",
            "_view_count": null,
            "_view_module": "@jupyter-widgets/base",
            "_view_module_version": "1.2.0",
            "_view_name": "LayoutView",
            "align_content": null,
            "align_items": null,
            "align_self": null,
            "border": null,
            "bottom": null,
            "display": null,
            "flex": null,
            "flex_flow": null,
            "grid_area": null,
            "grid_auto_columns": null,
            "grid_auto_flow": null,
            "grid_auto_rows": null,
            "grid_column": null,
            "grid_gap": null,
            "grid_row": null,
            "grid_template_areas": null,
            "grid_template_columns": null,
            "grid_template_rows": null,
            "height": null,
            "justify_content": null,
            "justify_items": null,
            "left": null,
            "margin": null,
            "max_height": null,
            "max_width": null,
            "min_height": null,
            "min_width": null,
            "object_fit": null,
            "object_position": null,
            "order": null,
            "overflow": null,
            "overflow_x": null,
            "overflow_y": null,
            "padding": null,
            "right": null,
            "top": null,
            "visibility": null,
            "width": null
          }
        },
        "9e90949f524c4165a76d56a74060fb1f": {
          "model_module": "@jupyter-widgets/controls",
          "model_module_version": "1.5.0",
          "model_name": "DescriptionStyleModel",
          "state": {
            "_model_module": "@jupyter-widgets/controls",
            "_model_module_version": "1.5.0",
            "_model_name": "DescriptionStyleModel",
            "_view_count": null,
            "_view_module": "@jupyter-widgets/base",
            "_view_module_version": "1.2.0",
            "_view_name": "StyleView",
            "description_width": ""
          }
        },
        "a18b59fe989e43909348cbafc2c0898b": {
          "model_module": "@jupyter-widgets/controls",
          "model_module_version": "1.5.0",
          "model_name": "HTMLModel",
          "state": {
            "_dom_classes": [],
            "_model_module": "@jupyter-widgets/controls",
            "_model_module_version": "1.5.0",
            "_model_name": "HTMLModel",
            "_view_count": null,
            "_view_module": "@jupyter-widgets/controls",
            "_view_module_version": "1.5.0",
            "_view_name": "HTMLView",
            "description": "",
            "description_tooltip": null,
            "layout": "IPY_MODEL_7b2954c274d541cf8918a1b7764bee41",
            "placeholder": "​",
            "style": "IPY_MODEL_e324ff80ba7a49f3a187af1e20515ab1",
            "value": " 1.62k/1.62k [00:00&lt;00:00, 111kB/s]"
          }
        },
        "a3a40a23a3fa4342904ffbec3a06f47e": {
          "model_module": "@jupyter-widgets/base",
          "model_module_version": "1.2.0",
          "model_name": "LayoutModel",
          "state": {
            "_model_module": "@jupyter-widgets/base",
            "_model_module_version": "1.2.0",
            "_model_name": "LayoutModel",
            "_view_count": null,
            "_view_module": "@jupyter-widgets/base",
            "_view_module_version": "1.2.0",
            "_view_name": "LayoutView",
            "align_content": null,
            "align_items": null,
            "align_self": null,
            "border": null,
            "bottom": null,
            "display": null,
            "flex": null,
            "flex_flow": null,
            "grid_area": null,
            "grid_auto_columns": null,
            "grid_auto_flow": null,
            "grid_auto_rows": null,
            "grid_column": null,
            "grid_gap": null,
            "grid_row": null,
            "grid_template_areas": null,
            "grid_template_columns": null,
            "grid_template_rows": null,
            "height": null,
            "justify_content": null,
            "justify_items": null,
            "left": null,
            "margin": null,
            "max_height": null,
            "max_width": null,
            "min_height": null,
            "min_width": null,
            "object_fit": null,
            "object_position": null,
            "order": null,
            "overflow": null,
            "overflow_x": null,
            "overflow_y": null,
            "padding": null,
            "right": null,
            "top": null,
            "visibility": null,
            "width": null
          }
        },
        "a3e987bc7d024447a05603ca7b78daf1": {
          "model_module": "@jupyter-widgets/controls",
          "model_module_version": "1.5.0",
          "model_name": "HBoxModel",
          "state": {
            "_dom_classes": [],
            "_model_module": "@jupyter-widgets/controls",
            "_model_module_version": "1.5.0",
            "_model_name": "HBoxModel",
            "_view_count": null,
            "_view_module": "@jupyter-widgets/controls",
            "_view_module_version": "1.5.0",
            "_view_name": "HBoxView",
            "box_style": "",
            "children": [
              "IPY_MODEL_280521e84914445c9447b5d3ef5bd707",
              "IPY_MODEL_862f460e4be4450185dbae49df130aee",
              "IPY_MODEL_7f1568dd7ce548bfaf452935d5d43dde"
            ],
            "layout": "IPY_MODEL_bd21b9ee09c74ad5989769d2ae31a6c6"
          }
        },
        "a668d797e1134b9baee2689c5fa19479": {
          "model_module": "@jupyter-widgets/controls",
          "model_module_version": "1.5.0",
          "model_name": "HTMLModel",
          "state": {
            "_dom_classes": [],
            "_model_module": "@jupyter-widgets/controls",
            "_model_module_version": "1.5.0",
            "_model_name": "HTMLModel",
            "_view_count": null,
            "_view_module": "@jupyter-widgets/controls",
            "_view_module_version": "1.5.0",
            "_view_name": "HTMLView",
            "description": "",
            "description_tooltip": null,
            "layout": "IPY_MODEL_6632e146360d47479f26b7bc81198241",
            "placeholder": "​",
            "style": "IPY_MODEL_8dc141507504477ab0870fbfafca3496",
            "value": " 3.50G/3.50G [00:25&lt;00:00, 241MB/s]"
          }
        },
        "b18fbcb009074837a6367d99efdb2d70": {
          "model_module": "@jupyter-widgets/controls",
          "model_module_version": "1.5.0",
          "model_name": "HBoxModel",
          "state": {
            "_dom_classes": [],
            "_model_module": "@jupyter-widgets/controls",
            "_model_module_version": "1.5.0",
            "_model_name": "HBoxModel",
            "_view_count": null,
            "_view_module": "@jupyter-widgets/controls",
            "_view_module_version": "1.5.0",
            "_view_name": "HBoxView",
            "box_style": "",
            "children": [
              "IPY_MODEL_8e81b3fa4fc94bad808a8cba4cdc70f9",
              "IPY_MODEL_fcfa96ea989245c48be6419f29b3fe78",
              "IPY_MODEL_b814d00f5ea3458994954b25983b6000"
            ],
            "layout": "IPY_MODEL_578f26ce2ee74673aec1670c980c24cb"
          }
        },
        "b6b8b17f2c6d46dd90dcccd3ccc04d32": {
          "model_module": "@jupyter-widgets/controls",
          "model_module_version": "1.5.0",
          "model_name": "DescriptionStyleModel",
          "state": {
            "_model_module": "@jupyter-widgets/controls",
            "_model_module_version": "1.5.0",
            "_model_name": "DescriptionStyleModel",
            "_view_count": null,
            "_view_module": "@jupyter-widgets/base",
            "_view_module_version": "1.2.0",
            "_view_name": "StyleView",
            "description_width": ""
          }
        },
        "b814d00f5ea3458994954b25983b6000": {
          "model_module": "@jupyter-widgets/controls",
          "model_module_version": "1.5.0",
          "model_name": "HTMLModel",
          "state": {
            "_dom_classes": [],
            "_model_module": "@jupyter-widgets/controls",
            "_model_module_version": "1.5.0",
            "_model_name": "HTMLModel",
            "_view_count": null,
            "_view_module": "@jupyter-widgets/controls",
            "_view_module_version": "1.5.0",
            "_view_name": "HTMLView",
            "description": "",
            "description_tooltip": null,
            "layout": "IPY_MODEL_32f9bd58f7874967954d279fb52cf9da",
            "placeholder": "​",
            "style": "IPY_MODEL_d5894746a0a546f7a2b9e6d149214402",
            "value": " 500k/500k [00:00&lt;00:00, 11.4MB/s]"
          }
        },
        "b8c3e970b02448a0a8a76f34a0fe67e1": {
          "model_module": "@jupyter-widgets/controls",
          "model_module_version": "1.5.0",
          "model_name": "ProgressStyleModel",
          "state": {
            "_model_module": "@jupyter-widgets/controls",
            "_model_module_version": "1.5.0",
            "_model_name": "ProgressStyleModel",
            "_view_count": null,
            "_view_module": "@jupyter-widgets/base",
            "_view_module_version": "1.2.0",
            "_view_name": "StyleView",
            "bar_color": null,
            "description_width": ""
          }
        },
        "b94227a6082e4ad7931fc842a9ede83f": {
          "model_module": "@jupyter-widgets/controls",
          "model_module_version": "1.5.0",
          "model_name": "HBoxModel",
          "state": {
            "_dom_classes": [],
            "_model_module": "@jupyter-widgets/controls",
            "_model_module_version": "1.5.0",
            "_model_name": "HBoxModel",
            "_view_count": null,
            "_view_module": "@jupyter-widgets/controls",
            "_view_module_version": "1.5.0",
            "_view_name": "HBoxView",
            "box_style": "",
            "children": [
              "IPY_MODEL_1b047ee63edf4b3a8d6057b72944159f",
              "IPY_MODEL_23523c4ca3e5483e9c3704a6b122b72a",
              "IPY_MODEL_9a6a434ee51c4f24be52263bfc9690ac"
            ],
            "layout": "IPY_MODEL_c1fd297e98144c169f5744c14bf73853"
          }
        },
        "bd21b9ee09c74ad5989769d2ae31a6c6": {
          "model_module": "@jupyter-widgets/base",
          "model_module_version": "1.2.0",
          "model_name": "LayoutModel",
          "state": {
            "_model_module": "@jupyter-widgets/base",
            "_model_module_version": "1.2.0",
            "_model_name": "LayoutModel",
            "_view_count": null,
            "_view_module": "@jupyter-widgets/base",
            "_view_module_version": "1.2.0",
            "_view_name": "LayoutView",
            "align_content": null,
            "align_items": null,
            "align_self": null,
            "border": null,
            "bottom": null,
            "display": null,
            "flex": null,
            "flex_flow": null,
            "grid_area": null,
            "grid_auto_columns": null,
            "grid_auto_flow": null,
            "grid_auto_rows": null,
            "grid_column": null,
            "grid_gap": null,
            "grid_row": null,
            "grid_template_areas": null,
            "grid_template_columns": null,
            "grid_template_rows": null,
            "height": null,
            "justify_content": null,
            "justify_items": null,
            "left": null,
            "margin": null,
            "max_height": null,
            "max_width": null,
            "min_height": null,
            "min_width": null,
            "object_fit": null,
            "object_position": null,
            "order": null,
            "overflow": null,
            "overflow_x": null,
            "overflow_y": null,
            "padding": null,
            "right": null,
            "top": null,
            "visibility": null,
            "width": null
          }
        },
        "c1fd297e98144c169f5744c14bf73853": {
          "model_module": "@jupyter-widgets/base",
          "model_module_version": "1.2.0",
          "model_name": "LayoutModel",
          "state": {
            "_model_module": "@jupyter-widgets/base",
            "_model_module_version": "1.2.0",
            "_model_name": "LayoutModel",
            "_view_count": null,
            "_view_module": "@jupyter-widgets/base",
            "_view_module_version": "1.2.0",
            "_view_name": "LayoutView",
            "align_content": null,
            "align_items": null,
            "align_self": null,
            "border": null,
            "bottom": null,
            "display": null,
            "flex": null,
            "flex_flow": null,
            "grid_area": null,
            "grid_auto_columns": null,
            "grid_auto_flow": null,
            "grid_auto_rows": null,
            "grid_column": null,
            "grid_gap": null,
            "grid_row": null,
            "grid_template_areas": null,
            "grid_template_columns": null,
            "grid_template_rows": null,
            "height": null,
            "justify_content": null,
            "justify_items": null,
            "left": null,
            "margin": null,
            "max_height": null,
            "max_width": null,
            "min_height": null,
            "min_width": null,
            "object_fit": null,
            "object_position": null,
            "order": null,
            "overflow": null,
            "overflow_x": null,
            "overflow_y": null,
            "padding": null,
            "right": null,
            "top": null,
            "visibility": null,
            "width": null
          }
        },
        "c2faec2bbc0e4c5192c4b71cd76362b7": {
          "model_module": "@jupyter-widgets/controls",
          "model_module_version": "1.5.0",
          "model_name": "HTMLModel",
          "state": {
            "_dom_classes": [],
            "_model_module": "@jupyter-widgets/controls",
            "_model_module_version": "1.5.0",
            "_model_name": "HTMLModel",
            "_view_count": null,
            "_view_module": "@jupyter-widgets/controls",
            "_view_module_version": "1.5.0",
            "_view_name": "HTMLView",
            "description": "",
            "description_tooltip": null,
            "layout": "IPY_MODEL_3bcc816a69d0492c95128c414811c56b",
            "placeholder": "​",
            "style": "IPY_MODEL_32859aa3e37d442fb7741db89e3f73b2",
            "value": " 614/614 [00:00&lt;00:00, 21.5kB/s]"
          }
        },
        "c31c11a7d01848cf92ad422c42dbf747": {
          "model_module": "@jupyter-widgets/controls",
          "model_module_version": "1.5.0",
          "model_name": "DescriptionStyleModel",
          "state": {
            "_model_module": "@jupyter-widgets/controls",
            "_model_module_version": "1.5.0",
            "_model_name": "DescriptionStyleModel",
            "_view_count": null,
            "_view_module": "@jupyter-widgets/base",
            "_view_module_version": "1.2.0",
            "_view_name": "StyleView",
            "description_width": ""
          }
        },
        "c533270d3670462db799eb5f8918b44b": {
          "model_module": "@jupyter-widgets/base",
          "model_module_version": "1.2.0",
          "model_name": "LayoutModel",
          "state": {
            "_model_module": "@jupyter-widgets/base",
            "_model_module_version": "1.2.0",
            "_model_name": "LayoutModel",
            "_view_count": null,
            "_view_module": "@jupyter-widgets/base",
            "_view_module_version": "1.2.0",
            "_view_name": "LayoutView",
            "align_content": null,
            "align_items": null,
            "align_self": null,
            "border": null,
            "bottom": null,
            "display": null,
            "flex": null,
            "flex_flow": null,
            "grid_area": null,
            "grid_auto_columns": null,
            "grid_auto_flow": null,
            "grid_auto_rows": null,
            "grid_column": null,
            "grid_gap": null,
            "grid_row": null,
            "grid_template_areas": null,
            "grid_template_columns": null,
            "grid_template_rows": null,
            "height": null,
            "justify_content": null,
            "justify_items": null,
            "left": null,
            "margin": null,
            "max_height": null,
            "max_width": null,
            "min_height": null,
            "min_width": null,
            "object_fit": null,
            "object_position": null,
            "order": null,
            "overflow": null,
            "overflow_x": null,
            "overflow_y": null,
            "padding": null,
            "right": null,
            "top": null,
            "visibility": null,
            "width": null
          }
        },
        "c6cb2fb277ef4210a610f79447fdb638": {
          "model_module": "@jupyter-widgets/controls",
          "model_module_version": "1.5.0",
          "model_name": "HTMLModel",
          "state": {
            "_dom_classes": [],
            "_model_module": "@jupyter-widgets/controls",
            "_model_module_version": "1.5.0",
            "_model_name": "HTMLModel",
            "_view_count": null,
            "_view_module": "@jupyter-widgets/controls",
            "_view_module_version": "1.5.0",
            "_view_name": "HTMLView",
            "description": "",
            "description_tooltip": null,
            "layout": "IPY_MODEL_0bd88b87ff0548d88f8839c3c1cd755a",
            "placeholder": "​",
            "style": "IPY_MODEL_664035f9088444fbaeea73a8c9ae25b6",
            "value": "config.json: 100%"
          }
        },
        "c84c310a35b74dfead1a723f151667a0": {
          "model_module": "@jupyter-widgets/base",
          "model_module_version": "1.2.0",
          "model_name": "LayoutModel",
          "state": {
            "_model_module": "@jupyter-widgets/base",
            "_model_module_version": "1.2.0",
            "_model_name": "LayoutModel",
            "_view_count": null,
            "_view_module": "@jupyter-widgets/base",
            "_view_module_version": "1.2.0",
            "_view_name": "LayoutView",
            "align_content": null,
            "align_items": null,
            "align_self": null,
            "border": null,
            "bottom": null,
            "display": null,
            "flex": null,
            "flex_flow": null,
            "grid_area": null,
            "grid_auto_columns": null,
            "grid_auto_flow": null,
            "grid_auto_rows": null,
            "grid_column": null,
            "grid_gap": null,
            "grid_row": null,
            "grid_template_areas": null,
            "grid_template_columns": null,
            "grid_template_rows": null,
            "height": null,
            "justify_content": null,
            "justify_items": null,
            "left": null,
            "margin": null,
            "max_height": null,
            "max_width": null,
            "min_height": null,
            "min_width": null,
            "object_fit": null,
            "object_position": null,
            "order": null,
            "overflow": null,
            "overflow_x": null,
            "overflow_y": null,
            "padding": null,
            "right": null,
            "top": null,
            "visibility": null,
            "width": null
          }
        },
        "ccf0c54da7c640c19bdae02837f4b856": {
          "model_module": "@jupyter-widgets/controls",
          "model_module_version": "1.5.0",
          "model_name": "DescriptionStyleModel",
          "state": {
            "_model_module": "@jupyter-widgets/controls",
            "_model_module_version": "1.5.0",
            "_model_name": "DescriptionStyleModel",
            "_view_count": null,
            "_view_module": "@jupyter-widgets/base",
            "_view_module_version": "1.2.0",
            "_view_name": "StyleView",
            "description_width": ""
          }
        },
        "d3434ad56d2f4f42adc86a341fde2384": {
          "model_module": "@jupyter-widgets/controls",
          "model_module_version": "1.5.0",
          "model_name": "HBoxModel",
          "state": {
            "_dom_classes": [],
            "_model_module": "@jupyter-widgets/controls",
            "_model_module_version": "1.5.0",
            "_model_name": "HBoxModel",
            "_view_count": null,
            "_view_module": "@jupyter-widgets/controls",
            "_view_module_version": "1.5.0",
            "_view_name": "HBoxView",
            "box_style": "",
            "children": [
              "IPY_MODEL_342d0be72db74d9ca6c1d9e39121d542",
              "IPY_MODEL_8e3002bb7ea342aebbf327f01ed0efdb",
              "IPY_MODEL_2d4645576f1f45d9bb6f4d1cec16b768"
            ],
            "layout": "IPY_MODEL_c533270d3670462db799eb5f8918b44b"
          }
        },
        "d5894746a0a546f7a2b9e6d149214402": {
          "model_module": "@jupyter-widgets/controls",
          "model_module_version": "1.5.0",
          "model_name": "DescriptionStyleModel",
          "state": {
            "_model_module": "@jupyter-widgets/controls",
            "_model_module_version": "1.5.0",
            "_model_name": "DescriptionStyleModel",
            "_view_count": null,
            "_view_module": "@jupyter-widgets/base",
            "_view_module_version": "1.2.0",
            "_view_name": "StyleView",
            "description_width": ""
          }
        },
        "de714f00eab44525ac8dea296f1e5d19": {
          "model_module": "@jupyter-widgets/base",
          "model_module_version": "1.2.0",
          "model_name": "LayoutModel",
          "state": {
            "_model_module": "@jupyter-widgets/base",
            "_model_module_version": "1.2.0",
            "_model_name": "LayoutModel",
            "_view_count": null,
            "_view_module": "@jupyter-widgets/base",
            "_view_module_version": "1.2.0",
            "_view_name": "LayoutView",
            "align_content": null,
            "align_items": null,
            "align_self": null,
            "border": null,
            "bottom": null,
            "display": null,
            "flex": null,
            "flex_flow": null,
            "grid_area": null,
            "grid_auto_columns": null,
            "grid_auto_flow": null,
            "grid_auto_rows": null,
            "grid_column": null,
            "grid_gap": null,
            "grid_row": null,
            "grid_template_areas": null,
            "grid_template_columns": null,
            "grid_template_rows": null,
            "height": null,
            "justify_content": null,
            "justify_items": null,
            "left": null,
            "margin": null,
            "max_height": null,
            "max_width": null,
            "min_height": null,
            "min_width": null,
            "object_fit": null,
            "object_position": null,
            "order": null,
            "overflow": null,
            "overflow_x": null,
            "overflow_y": null,
            "padding": null,
            "right": null,
            "top": null,
            "visibility": null,
            "width": null
          }
        },
        "dfd638122b454ce39efbd2920e18d53f": {
          "model_module": "@jupyter-widgets/base",
          "model_module_version": "1.2.0",
          "model_name": "LayoutModel",
          "state": {
            "_model_module": "@jupyter-widgets/base",
            "_model_module_version": "1.2.0",
            "_model_name": "LayoutModel",
            "_view_count": null,
            "_view_module": "@jupyter-widgets/base",
            "_view_module_version": "1.2.0",
            "_view_name": "LayoutView",
            "align_content": null,
            "align_items": null,
            "align_self": null,
            "border": null,
            "bottom": null,
            "display": null,
            "flex": null,
            "flex_flow": null,
            "grid_area": null,
            "grid_auto_columns": null,
            "grid_auto_flow": null,
            "grid_auto_rows": null,
            "grid_column": null,
            "grid_gap": null,
            "grid_row": null,
            "grid_template_areas": null,
            "grid_template_columns": null,
            "grid_template_rows": null,
            "height": null,
            "justify_content": null,
            "justify_items": null,
            "left": null,
            "margin": null,
            "max_height": null,
            "max_width": null,
            "min_height": null,
            "min_width": null,
            "object_fit": null,
            "object_position": null,
            "order": null,
            "overflow": null,
            "overflow_x": null,
            "overflow_y": null,
            "padding": null,
            "right": null,
            "top": null,
            "visibility": null,
            "width": null
          }
        },
        "e00dbae3db5d497a9d13940b3c6f35c4": {
          "model_module": "@jupyter-widgets/controls",
          "model_module_version": "1.5.0",
          "model_name": "FloatProgressModel",
          "state": {
            "_dom_classes": [],
            "_model_module": "@jupyter-widgets/controls",
            "_model_module_version": "1.5.0",
            "_model_name": "FloatProgressModel",
            "_view_count": null,
            "_view_module": "@jupyter-widgets/controls",
            "_view_module_version": "1.5.0",
            "_view_name": "ProgressView",
            "bar_style": "success",
            "description": "",
            "description_tooltip": null,
            "layout": "IPY_MODEL_00169d1d042e4023aa28f97512ff664c",
            "max": 2,
            "min": 0,
            "orientation": "horizontal",
            "style": "IPY_MODEL_8906da3aaac44c28b3946391e47348f1",
            "value": 2
          }
        },
        "e324ff80ba7a49f3a187af1e20515ab1": {
          "model_module": "@jupyter-widgets/controls",
          "model_module_version": "1.5.0",
          "model_name": "DescriptionStyleModel",
          "state": {
            "_model_module": "@jupyter-widgets/controls",
            "_model_module_version": "1.5.0",
            "_model_name": "DescriptionStyleModel",
            "_view_count": null,
            "_view_module": "@jupyter-widgets/base",
            "_view_module_version": "1.2.0",
            "_view_name": "StyleView",
            "description_width": ""
          }
        },
        "e54b122656bd477cb07571327055026f": {
          "model_module": "@jupyter-widgets/base",
          "model_module_version": "1.2.0",
          "model_name": "LayoutModel",
          "state": {
            "_model_module": "@jupyter-widgets/base",
            "_model_module_version": "1.2.0",
            "_model_name": "LayoutModel",
            "_view_count": null,
            "_view_module": "@jupyter-widgets/base",
            "_view_module_version": "1.2.0",
            "_view_name": "LayoutView",
            "align_content": null,
            "align_items": null,
            "align_self": null,
            "border": null,
            "bottom": null,
            "display": null,
            "flex": null,
            "flex_flow": null,
            "grid_area": null,
            "grid_auto_columns": null,
            "grid_auto_flow": null,
            "grid_auto_rows": null,
            "grid_column": null,
            "grid_gap": null,
            "grid_row": null,
            "grid_template_areas": null,
            "grid_template_columns": null,
            "grid_template_rows": null,
            "height": null,
            "justify_content": null,
            "justify_items": null,
            "left": null,
            "margin": null,
            "max_height": null,
            "max_width": null,
            "min_height": null,
            "min_width": null,
            "object_fit": null,
            "object_position": null,
            "order": null,
            "overflow": null,
            "overflow_x": null,
            "overflow_y": null,
            "padding": null,
            "right": null,
            "top": null,
            "visibility": null,
            "width": null
          }
        },
        "e582b376f15c43218d51a8c56c8ddd27": {
          "model_module": "@jupyter-widgets/controls",
          "model_module_version": "1.5.0",
          "model_name": "FloatProgressModel",
          "state": {
            "_dom_classes": [],
            "_model_module": "@jupyter-widgets/controls",
            "_model_module_version": "1.5.0",
            "_model_name": "FloatProgressModel",
            "_view_count": null,
            "_view_module": "@jupyter-widgets/controls",
            "_view_module_version": "1.5.0",
            "_view_name": "ProgressView",
            "bar_style": "success",
            "description": "",
            "description_tooltip": null,
            "layout": "IPY_MODEL_05006fee354149da9d17d64308de5bd9",
            "max": 1618,
            "min": 0,
            "orientation": "horizontal",
            "style": "IPY_MODEL_f5509246680d40a99f6a275a70123c99",
            "value": 1618
          }
        },
        "ea52f8bee1034d8ca707748b49dc687c": {
          "model_module": "@jupyter-widgets/base",
          "model_module_version": "1.2.0",
          "model_name": "LayoutModel",
          "state": {
            "_model_module": "@jupyter-widgets/base",
            "_model_module_version": "1.2.0",
            "_model_name": "LayoutModel",
            "_view_count": null,
            "_view_module": "@jupyter-widgets/base",
            "_view_module_version": "1.2.0",
            "_view_name": "LayoutView",
            "align_content": null,
            "align_items": null,
            "align_self": null,
            "border": null,
            "bottom": null,
            "display": null,
            "flex": null,
            "flex_flow": null,
            "grid_area": null,
            "grid_auto_columns": null,
            "grid_auto_flow": null,
            "grid_auto_rows": null,
            "grid_column": null,
            "grid_gap": null,
            "grid_row": null,
            "grid_template_areas": null,
            "grid_template_columns": null,
            "grid_template_rows": null,
            "height": null,
            "justify_content": null,
            "justify_items": null,
            "left": null,
            "margin": null,
            "max_height": null,
            "max_width": null,
            "min_height": null,
            "min_width": null,
            "object_fit": null,
            "object_position": null,
            "order": null,
            "overflow": null,
            "overflow_x": null,
            "overflow_y": null,
            "padding": null,
            "right": null,
            "top": null,
            "visibility": null,
            "width": null
          }
        },
        "ec9676558d16431eb459775c4471b621": {
          "model_module": "@jupyter-widgets/base",
          "model_module_version": "1.2.0",
          "model_name": "LayoutModel",
          "state": {
            "_model_module": "@jupyter-widgets/base",
            "_model_module_version": "1.2.0",
            "_model_name": "LayoutModel",
            "_view_count": null,
            "_view_module": "@jupyter-widgets/base",
            "_view_module_version": "1.2.0",
            "_view_name": "LayoutView",
            "align_content": null,
            "align_items": null,
            "align_self": null,
            "border": null,
            "bottom": null,
            "display": null,
            "flex": null,
            "flex_flow": null,
            "grid_area": null,
            "grid_auto_columns": null,
            "grid_auto_flow": null,
            "grid_auto_rows": null,
            "grid_column": null,
            "grid_gap": null,
            "grid_row": null,
            "grid_template_areas": null,
            "grid_template_columns": null,
            "grid_template_rows": null,
            "height": null,
            "justify_content": null,
            "justify_items": null,
            "left": null,
            "margin": null,
            "max_height": null,
            "max_width": null,
            "min_height": null,
            "min_width": null,
            "object_fit": null,
            "object_position": null,
            "order": null,
            "overflow": null,
            "overflow_x": null,
            "overflow_y": null,
            "padding": null,
            "right": null,
            "top": null,
            "visibility": null,
            "width": null
          }
        },
        "f01d9fb0cdf041d3ad26ef0700c62dc9": {
          "model_module": "@jupyter-widgets/base",
          "model_module_version": "1.2.0",
          "model_name": "LayoutModel",
          "state": {
            "_model_module": "@jupyter-widgets/base",
            "_model_module_version": "1.2.0",
            "_model_name": "LayoutModel",
            "_view_count": null,
            "_view_module": "@jupyter-widgets/base",
            "_view_module_version": "1.2.0",
            "_view_name": "LayoutView",
            "align_content": null,
            "align_items": null,
            "align_self": null,
            "border": null,
            "bottom": null,
            "display": null,
            "flex": null,
            "flex_flow": null,
            "grid_area": null,
            "grid_auto_columns": null,
            "grid_auto_flow": null,
            "grid_auto_rows": null,
            "grid_column": null,
            "grid_gap": null,
            "grid_row": null,
            "grid_template_areas": null,
            "grid_template_columns": null,
            "grid_template_rows": null,
            "height": null,
            "justify_content": null,
            "justify_items": null,
            "left": null,
            "margin": null,
            "max_height": null,
            "max_width": null,
            "min_height": null,
            "min_width": null,
            "object_fit": null,
            "object_position": null,
            "order": null,
            "overflow": null,
            "overflow_x": null,
            "overflow_y": null,
            "padding": null,
            "right": null,
            "top": null,
            "visibility": null,
            "width": null
          }
        },
        "f36279d71eac48a0b3bf8a893dc0bf5f": {
          "model_module": "@jupyter-widgets/controls",
          "model_module_version": "1.5.0",
          "model_name": "HBoxModel",
          "state": {
            "_dom_classes": [],
            "_model_module": "@jupyter-widgets/controls",
            "_model_module_version": "1.5.0",
            "_model_name": "HBoxModel",
            "_view_count": null,
            "_view_module": "@jupyter-widgets/controls",
            "_view_module_version": "1.5.0",
            "_view_name": "HBoxView",
            "box_style": "",
            "children": [
              "IPY_MODEL_969fddfde75a47a3a698886e05d5f01f",
              "IPY_MODEL_e582b376f15c43218d51a8c56c8ddd27",
              "IPY_MODEL_a18b59fe989e43909348cbafc2c0898b"
            ],
            "layout": "IPY_MODEL_0b4d49e0e9d94386b6b530260d1628a9"
          }
        },
        "f4616962a7744a35968cbef1156dcda6": {
          "model_module": "@jupyter-widgets/base",
          "model_module_version": "1.2.0",
          "model_name": "LayoutModel",
          "state": {
            "_model_module": "@jupyter-widgets/base",
            "_model_module_version": "1.2.0",
            "_model_name": "LayoutModel",
            "_view_count": null,
            "_view_module": "@jupyter-widgets/base",
            "_view_module_version": "1.2.0",
            "_view_name": "LayoutView",
            "align_content": null,
            "align_items": null,
            "align_self": null,
            "border": null,
            "bottom": null,
            "display": null,
            "flex": null,
            "flex_flow": null,
            "grid_area": null,
            "grid_auto_columns": null,
            "grid_auto_flow": null,
            "grid_auto_rows": null,
            "grid_column": null,
            "grid_gap": null,
            "grid_row": null,
            "grid_template_areas": null,
            "grid_template_columns": null,
            "grid_template_rows": null,
            "height": null,
            "justify_content": null,
            "justify_items": null,
            "left": null,
            "margin": null,
            "max_height": null,
            "max_width": null,
            "min_height": null,
            "min_width": null,
            "object_fit": null,
            "object_position": null,
            "order": null,
            "overflow": null,
            "overflow_x": null,
            "overflow_y": null,
            "padding": null,
            "right": null,
            "top": null,
            "visibility": null,
            "width": null
          }
        },
        "f4e964faf7ec4f2d9d5c2597305f38e3": {
          "model_module": "@jupyter-widgets/controls",
          "model_module_version": "1.5.0",
          "model_name": "DescriptionStyleModel",
          "state": {
            "_model_module": "@jupyter-widgets/controls",
            "_model_module_version": "1.5.0",
            "_model_name": "DescriptionStyleModel",
            "_view_count": null,
            "_view_module": "@jupyter-widgets/base",
            "_view_module_version": "1.2.0",
            "_view_name": "StyleView",
            "description_width": ""
          }
        },
        "f5509246680d40a99f6a275a70123c99": {
          "model_module": "@jupyter-widgets/controls",
          "model_module_version": "1.5.0",
          "model_name": "ProgressStyleModel",
          "state": {
            "_model_module": "@jupyter-widgets/controls",
            "_model_module_version": "1.5.0",
            "_model_name": "ProgressStyleModel",
            "_view_count": null,
            "_view_module": "@jupyter-widgets/base",
            "_view_module_version": "1.2.0",
            "_view_name": "StyleView",
            "bar_color": null,
            "description_width": ""
          }
        },
        "f6dc0e24f9ae4cefb6bcf1b1a8d5e6c5": {
          "model_module": "@jupyter-widgets/base",
          "model_module_version": "1.2.0",
          "model_name": "LayoutModel",
          "state": {
            "_model_module": "@jupyter-widgets/base",
            "_model_module_version": "1.2.0",
            "_model_name": "LayoutModel",
            "_view_count": null,
            "_view_module": "@jupyter-widgets/base",
            "_view_module_version": "1.2.0",
            "_view_name": "LayoutView",
            "align_content": null,
            "align_items": null,
            "align_self": null,
            "border": null,
            "bottom": null,
            "display": null,
            "flex": null,
            "flex_flow": null,
            "grid_area": null,
            "grid_auto_columns": null,
            "grid_auto_flow": null,
            "grid_auto_rows": null,
            "grid_column": null,
            "grid_gap": null,
            "grid_row": null,
            "grid_template_areas": null,
            "grid_template_columns": null,
            "grid_template_rows": null,
            "height": null,
            "justify_content": null,
            "justify_items": null,
            "left": null,
            "margin": null,
            "max_height": null,
            "max_width": null,
            "min_height": null,
            "min_width": null,
            "object_fit": null,
            "object_position": null,
            "order": null,
            "overflow": null,
            "overflow_x": null,
            "overflow_y": null,
            "padding": null,
            "right": null,
            "top": null,
            "visibility": null,
            "width": null
          }
        },
        "fc92f8fd2a114f90a9737b2c11295e0d": {
          "model_module": "@jupyter-widgets/controls",
          "model_module_version": "1.5.0",
          "model_name": "HTMLModel",
          "state": {
            "_dom_classes": [],
            "_model_module": "@jupyter-widgets/controls",
            "_model_module_version": "1.5.0",
            "_model_name": "HTMLModel",
            "_view_count": null,
            "_view_module": "@jupyter-widgets/controls",
            "_view_module_version": "1.5.0",
            "_view_name": "HTMLView",
            "description": "",
            "description_tooltip": null,
            "layout": "IPY_MODEL_99c58f950de94699a87e315d7c64ab77",
            "placeholder": "​",
            "style": "IPY_MODEL_b6b8b17f2c6d46dd90dcccd3ccc04d32",
            "value": "Loading checkpoint shards: 100%"
          }
        },
        "fcfa96ea989245c48be6419f29b3fe78": {
          "model_module": "@jupyter-widgets/controls",
          "model_module_version": "1.5.0",
          "model_name": "FloatProgressModel",
          "state": {
            "_dom_classes": [],
            "_model_module": "@jupyter-widgets/controls",
            "_model_module_version": "1.5.0",
            "_model_name": "FloatProgressModel",
            "_view_count": null,
            "_view_module": "@jupyter-widgets/controls",
            "_view_module_version": "1.5.0",
            "_view_name": "ProgressView",
            "bar_style": "success",
            "description": "",
            "description_tooltip": null,
            "layout": "IPY_MODEL_f6dc0e24f9ae4cefb6bcf1b1a8d5e6c5",
            "max": 499723,
            "min": 0,
            "orientation": "horizontal",
            "style": "IPY_MODEL_5304969a536d4d8a888b7356fc9f142e",
            "value": 499723
          }
        }
      }
    }
  },
  "nbformat": 4,
  "nbformat_minor": 0
}
